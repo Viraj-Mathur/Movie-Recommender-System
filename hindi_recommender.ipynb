{
 "cells": [
  {
   "cell_type": "code",
   "execution_count": 31,
   "metadata": {},
   "outputs": [],
   "source": [
    "# Import libraries\n",
    "import numpy as np\n",
    "import pandas as pd\n",
    "import re\n",
    "from tqdm import tqdm\n",
    "import seaborn as sns\n",
    "import matplotlib.pyplot as plt\n",
    "from sklearn.metrics.pairwise import cosine_similarity\n",
    "from difflib import get_close_matches\n",
    "import warnings\n",
    "warnings.filterwarnings('ignore')"
   ]
  },
  {
   "cell_type": "code",
   "execution_count": 32,
   "metadata": {},
   "outputs": [
    {
     "data": {
      "text/html": [
       "<div>\n",
       "<style scoped>\n",
       "    .dataframe tbody tr th:only-of-type {\n",
       "        vertical-align: middle;\n",
       "    }\n",
       "\n",
       "    .dataframe tbody tr th {\n",
       "        vertical-align: top;\n",
       "    }\n",
       "\n",
       "    .dataframe thead th {\n",
       "        text-align: right;\n",
       "    }\n",
       "</style>\n",
       "<table border=\"1\" class=\"dataframe\">\n",
       "  <thead>\n",
       "    <tr style=\"text-align: right;\">\n",
       "      <th></th>\n",
       "      <th>Unnamed: 0</th>\n",
       "      <th>movie_id</th>\n",
       "      <th>movie_name</th>\n",
       "      <th>year</th>\n",
       "      <th>genre</th>\n",
       "      <th>overview</th>\n",
       "      <th>director</th>\n",
       "      <th>cast</th>\n",
       "    </tr>\n",
       "  </thead>\n",
       "  <tbody>\n",
       "    <tr>\n",
       "      <th>0</th>\n",
       "      <td>0</td>\n",
       "      <td>tt15354916</td>\n",
       "      <td>Jawan</td>\n",
       "      <td>2023</td>\n",
       "      <td>Action, Thriller</td>\n",
       "      <td>A high-octane action thriller which outlines t...</td>\n",
       "      <td>Atlee</td>\n",
       "      <td>Shah Rukh Khan, Nayanthara, Vijay Sethupathi, ...</td>\n",
       "    </tr>\n",
       "    <tr>\n",
       "      <th>1</th>\n",
       "      <td>1</td>\n",
       "      <td>tt15748830</td>\n",
       "      <td>Jaane Jaan</td>\n",
       "      <td>2023</td>\n",
       "      <td>Crime, Drama, Mystery</td>\n",
       "      <td>A single mother and her daughter who commit a ...</td>\n",
       "      <td>Sujoy Ghosh</td>\n",
       "      <td>Kareena Kapoor, Jaideep Ahlawat, Vijay Varma, ...</td>\n",
       "    </tr>\n",
       "    <tr>\n",
       "      <th>2</th>\n",
       "      <td>2</td>\n",
       "      <td>tt11663228</td>\n",
       "      <td>Jailer</td>\n",
       "      <td>2023</td>\n",
       "      <td>Action, Comedy, Crime</td>\n",
       "      <td>A retired jailer goes on a manhunt to find his...</td>\n",
       "      <td>Nelson Dilipkumar</td>\n",
       "      <td>Rajinikanth, Mohanlal, Shivarajkumar, Jackie S...</td>\n",
       "    </tr>\n",
       "    <tr>\n",
       "      <th>3</th>\n",
       "      <td>3</td>\n",
       "      <td>tt14993250</td>\n",
       "      <td>Rocky Aur Rani Kii Prem Kahaani</td>\n",
       "      <td>2023</td>\n",
       "      <td>Comedy, Drama, Family</td>\n",
       "      <td>Flamboyant Punjabi Rocky and intellectual Beng...</td>\n",
       "      <td>Karan Johar</td>\n",
       "      <td>Ranveer Singh, Alia Bhatt, Dharmendra, Shabana...</td>\n",
       "    </tr>\n",
       "    <tr>\n",
       "      <th>4</th>\n",
       "      <td>4</td>\n",
       "      <td>tt15732324</td>\n",
       "      <td>OMG 2</td>\n",
       "      <td>2023</td>\n",
       "      <td>Comedy, Drama</td>\n",
       "      <td>An unhappy civilian asks the court to mandate ...</td>\n",
       "      <td>Amit Rai</td>\n",
       "      <td>Pankaj Tripathi, Akshay Kumar, Yami Gautam, Pa...</td>\n",
       "    </tr>\n",
       "  </tbody>\n",
       "</table>\n",
       "</div>"
      ],
      "text/plain": [
       "   Unnamed: 0    movie_id                       movie_name  year  \\\n",
       "0           0  tt15354916                            Jawan  2023   \n",
       "1           1  tt15748830                       Jaane Jaan  2023   \n",
       "2           2  tt11663228                           Jailer  2023   \n",
       "3           3  tt14993250  Rocky Aur Rani Kii Prem Kahaani  2023   \n",
       "4           4  tt15732324                            OMG 2  2023   \n",
       "\n",
       "                   genre                                           overview  \\\n",
       "0       Action, Thriller  A high-octane action thriller which outlines t...   \n",
       "1  Crime, Drama, Mystery  A single mother and her daughter who commit a ...   \n",
       "2  Action, Comedy, Crime  A retired jailer goes on a manhunt to find his...   \n",
       "3  Comedy, Drama, Family  Flamboyant Punjabi Rocky and intellectual Beng...   \n",
       "4          Comedy, Drama  An unhappy civilian asks the court to mandate ...   \n",
       "\n",
       "            director                                               cast  \n",
       "0              Atlee  Shah Rukh Khan, Nayanthara, Vijay Sethupathi, ...  \n",
       "1        Sujoy Ghosh  Kareena Kapoor, Jaideep Ahlawat, Vijay Varma, ...  \n",
       "2  Nelson Dilipkumar  Rajinikanth, Mohanlal, Shivarajkumar, Jackie S...  \n",
       "3        Karan Johar  Ranveer Singh, Alia Bhatt, Dharmendra, Shabana...  \n",
       "4           Amit Rai  Pankaj Tripathi, Akshay Kumar, Yami Gautam, Pa...  "
      ]
     },
     "execution_count": 32,
     "metadata": {},
     "output_type": "execute_result"
    }
   ],
   "source": [
    "# Importing dataset\n",
    "raw_data = pd.read_csv(\"Data/hindi_movies_dataset.csv\")\n",
    "raw_data.head(5)"
   ]
  },
  {
   "cell_type": "code",
   "execution_count": 33,
   "metadata": {},
   "outputs": [
    {
     "data": {
      "text/html": [
       "<div>\n",
       "<style scoped>\n",
       "    .dataframe tbody tr th:only-of-type {\n",
       "        vertical-align: middle;\n",
       "    }\n",
       "\n",
       "    .dataframe tbody tr th {\n",
       "        vertical-align: top;\n",
       "    }\n",
       "\n",
       "    .dataframe thead th {\n",
       "        text-align: right;\n",
       "    }\n",
       "</style>\n",
       "<table border=\"1\" class=\"dataframe\">\n",
       "  <thead>\n",
       "    <tr style=\"text-align: right;\">\n",
       "      <th></th>\n",
       "      <th>Unnamed: 0</th>\n",
       "    </tr>\n",
       "  </thead>\n",
       "  <tbody>\n",
       "    <tr>\n",
       "      <th>count</th>\n",
       "      <td>2199.000000</td>\n",
       "    </tr>\n",
       "    <tr>\n",
       "      <th>mean</th>\n",
       "      <td>1099.369259</td>\n",
       "    </tr>\n",
       "    <tr>\n",
       "      <th>std</th>\n",
       "      <td>635.344495</td>\n",
       "    </tr>\n",
       "    <tr>\n",
       "      <th>min</th>\n",
       "      <td>0.000000</td>\n",
       "    </tr>\n",
       "    <tr>\n",
       "      <th>25%</th>\n",
       "      <td>549.500000</td>\n",
       "    </tr>\n",
       "    <tr>\n",
       "      <th>50%</th>\n",
       "      <td>1099.000000</td>\n",
       "    </tr>\n",
       "    <tr>\n",
       "      <th>75%</th>\n",
       "      <td>1649.500000</td>\n",
       "    </tr>\n",
       "    <tr>\n",
       "      <th>max</th>\n",
       "      <td>2199.000000</td>\n",
       "    </tr>\n",
       "  </tbody>\n",
       "</table>\n",
       "</div>"
      ],
      "text/plain": [
       "        Unnamed: 0\n",
       "count  2199.000000\n",
       "mean   1099.369259\n",
       "std     635.344495\n",
       "min       0.000000\n",
       "25%     549.500000\n",
       "50%    1099.000000\n",
       "75%    1649.500000\n",
       "max    2199.000000"
      ]
     },
     "execution_count": 33,
     "metadata": {},
     "output_type": "execute_result"
    }
   ],
   "source": [
    "raw_data.describe()"
   ]
  },
  {
   "cell_type": "code",
   "execution_count": 34,
   "metadata": {},
   "outputs": [
    {
     "data": {
      "text/plain": [
       "(2199, 8)"
      ]
     },
     "execution_count": 34,
     "metadata": {},
     "output_type": "execute_result"
    }
   ],
   "source": [
    "# Total number of data points and columns\n",
    "raw_data.shape"
   ]
  },
  {
   "cell_type": "code",
   "execution_count": 35,
   "metadata": {},
   "outputs": [
    {
     "data": {
      "text/plain": [
       "Index(['Unnamed: 0', 'movie_id', 'movie_name', 'year', 'genre', 'overview',\n",
       "       'director', 'cast'],\n",
       "      dtype='object')"
      ]
     },
     "execution_count": 35,
     "metadata": {},
     "output_type": "execute_result"
    }
   ],
   "source": [
    "raw_data.columns"
   ]
  },
  {
   "cell_type": "code",
   "execution_count": 36,
   "metadata": {},
   "outputs": [
    {
     "data": {
      "text/html": [
       "<div>\n",
       "<style scoped>\n",
       "    .dataframe tbody tr th:only-of-type {\n",
       "        vertical-align: middle;\n",
       "    }\n",
       "\n",
       "    .dataframe tbody tr th {\n",
       "        vertical-align: top;\n",
       "    }\n",
       "\n",
       "    .dataframe thead th {\n",
       "        text-align: right;\n",
       "    }\n",
       "</style>\n",
       "<table border=\"1\" class=\"dataframe\">\n",
       "  <thead>\n",
       "    <tr style=\"text-align: right;\">\n",
       "      <th></th>\n",
       "      <th>Unnamed: 0</th>\n",
       "      <th>movie_id</th>\n",
       "      <th>movie_name</th>\n",
       "      <th>year</th>\n",
       "      <th>genre</th>\n",
       "      <th>overview</th>\n",
       "      <th>director</th>\n",
       "      <th>cast</th>\n",
       "    </tr>\n",
       "  </thead>\n",
       "  <tbody>\n",
       "  </tbody>\n",
       "</table>\n",
       "</div>"
      ],
      "text/plain": [
       "Empty DataFrame\n",
       "Columns: [Unnamed: 0, movie_id, movie_name, year, genre, overview, director, cast]\n",
       "Index: []"
      ]
     },
     "execution_count": 36,
     "metadata": {},
     "output_type": "execute_result"
    }
   ],
   "source": [
    "# checking if any duplicates\n",
    "raw_data[raw_data.duplicated()]"
   ]
  },
  {
   "cell_type": "code",
   "execution_count": 37,
   "metadata": {},
   "outputs": [],
   "source": [
    "# Selecting usefull features\n",
    "df = raw_data[['genre','movie_name','year','cast', 'director']]"
   ]
  },
  {
   "cell_type": "code",
   "execution_count": 38,
   "metadata": {},
   "outputs": [
    {
     "name": "stdout",
     "output_type": "stream",
     "text": [
      "<class 'pandas.core.frame.DataFrame'>\n",
      "RangeIndex: 2199 entries, 0 to 2198\n",
      "Data columns (total 5 columns):\n",
      " #   Column      Non-Null Count  Dtype \n",
      "---  ------      --------------  ----- \n",
      " 0   genre       2199 non-null   object\n",
      " 1   movie_name  2199 non-null   object\n",
      " 2   year        2134 non-null   object\n",
      " 3   cast        2199 non-null   object\n",
      " 4   director    2199 non-null   object\n",
      "dtypes: object(5)\n",
      "memory usage: 86.0+ KB\n"
     ]
    }
   ],
   "source": [
    "# column data types\n",
    "df.info()"
   ]
  },
  {
   "cell_type": "code",
   "execution_count": 39,
   "metadata": {},
   "outputs": [
    {
     "data": {
      "text/html": [
       "<div>\n",
       "<style scoped>\n",
       "    .dataframe tbody tr th:only-of-type {\n",
       "        vertical-align: middle;\n",
       "    }\n",
       "\n",
       "    .dataframe tbody tr th {\n",
       "        vertical-align: top;\n",
       "    }\n",
       "\n",
       "    .dataframe thead th {\n",
       "        text-align: right;\n",
       "    }\n",
       "</style>\n",
       "<table border=\"1\" class=\"dataframe\">\n",
       "  <thead>\n",
       "    <tr style=\"text-align: right;\">\n",
       "      <th></th>\n",
       "      <th>genre</th>\n",
       "      <th>movie_name</th>\n",
       "      <th>year</th>\n",
       "      <th>cast</th>\n",
       "      <th>director</th>\n",
       "    </tr>\n",
       "  </thead>\n",
       "  <tbody>\n",
       "    <tr>\n",
       "      <th>0</th>\n",
       "      <td>Action, Thriller</td>\n",
       "      <td>Jawan</td>\n",
       "      <td>2023</td>\n",
       "      <td>Shah Rukh Khan, Nayanthara, Vijay Sethupathi, ...</td>\n",
       "      <td>Atlee</td>\n",
       "    </tr>\n",
       "    <tr>\n",
       "      <th>1</th>\n",
       "      <td>Crime, Drama, Mystery</td>\n",
       "      <td>Jaane Jaan</td>\n",
       "      <td>2023</td>\n",
       "      <td>Kareena Kapoor, Jaideep Ahlawat, Vijay Varma, ...</td>\n",
       "      <td>Sujoy Ghosh</td>\n",
       "    </tr>\n",
       "    <tr>\n",
       "      <th>2</th>\n",
       "      <td>Action, Comedy, Crime</td>\n",
       "      <td>Jailer</td>\n",
       "      <td>2023</td>\n",
       "      <td>Rajinikanth, Mohanlal, Shivarajkumar, Jackie S...</td>\n",
       "      <td>Nelson Dilipkumar</td>\n",
       "    </tr>\n",
       "    <tr>\n",
       "      <th>3</th>\n",
       "      <td>Comedy, Drama, Family</td>\n",
       "      <td>Rocky Aur Rani Kii Prem Kahaani</td>\n",
       "      <td>2023</td>\n",
       "      <td>Ranveer Singh, Alia Bhatt, Dharmendra, Shabana...</td>\n",
       "      <td>Karan Johar</td>\n",
       "    </tr>\n",
       "    <tr>\n",
       "      <th>4</th>\n",
       "      <td>Comedy, Drama</td>\n",
       "      <td>OMG 2</td>\n",
       "      <td>2023</td>\n",
       "      <td>Pankaj Tripathi, Akshay Kumar, Yami Gautam, Pa...</td>\n",
       "      <td>Amit Rai</td>\n",
       "    </tr>\n",
       "    <tr>\n",
       "      <th>...</th>\n",
       "      <td>...</td>\n",
       "      <td>...</td>\n",
       "      <td>...</td>\n",
       "      <td>...</td>\n",
       "      <td>...</td>\n",
       "    </tr>\n",
       "    <tr>\n",
       "      <th>2194</th>\n",
       "      <td>Thriller</td>\n",
       "      <td>Heeriye</td>\n",
       "      <td>NaN</td>\n",
       "      <td>Shatrughan Sinha, Reena Roy, Ajit Khan, Premna...</td>\n",
       "      <td>Subhash Ghai</td>\n",
       "    </tr>\n",
       "    <tr>\n",
       "      <th>2195</th>\n",
       "      <td>Drama, Musical, Romance</td>\n",
       "      <td>Sur: The Melody of Life</td>\n",
       "      <td>2002</td>\n",
       "      <td>Lucky Ali, Simone Singh, Achint Kaur, Ehsan Khan</td>\n",
       "      <td>Tanuja Chandra</td>\n",
       "    </tr>\n",
       "    <tr>\n",
       "      <th>2196</th>\n",
       "      <td>Musical, Romance</td>\n",
       "      <td>Time to Dance</td>\n",
       "      <td>2021</td>\n",
       "      <td>Sooraj Pancholi, Isabelle Kaif, Waluscha D'Sou...</td>\n",
       "      <td>Stanley D'Costa</td>\n",
       "    </tr>\n",
       "    <tr>\n",
       "      <th>2197</th>\n",
       "      <td>Drama, Family, Fantasy</td>\n",
       "      <td>Nigahen: Nagina Part II</td>\n",
       "      <td>1989</td>\n",
       "      <td>Sunny Deol, Sridevi, Anupam Kher, Gulshan Grover</td>\n",
       "      <td>Harmesh Malhotra</td>\n",
       "    </tr>\n",
       "    <tr>\n",
       "      <th>2198</th>\n",
       "      <td>Action, Comedy, Drama</td>\n",
       "      <td>Kyo Kii... Main Jhuth Nahin Bolta</td>\n",
       "      <td>2001</td>\n",
       "      <td>Govinda, Sushmita Sen, Rambha, Anupam Kher</td>\n",
       "      <td>David Dhawan</td>\n",
       "    </tr>\n",
       "  </tbody>\n",
       "</table>\n",
       "<p>2199 rows × 5 columns</p>\n",
       "</div>"
      ],
      "text/plain": [
       "                        genre                         movie_name  year  \\\n",
       "0            Action, Thriller                              Jawan  2023   \n",
       "1       Crime, Drama, Mystery                         Jaane Jaan  2023   \n",
       "2       Action, Comedy, Crime                             Jailer  2023   \n",
       "3       Comedy, Drama, Family    Rocky Aur Rani Kii Prem Kahaani  2023   \n",
       "4               Comedy, Drama                              OMG 2  2023   \n",
       "...                       ...                                ...   ...   \n",
       "2194                 Thriller                            Heeriye   NaN   \n",
       "2195  Drama, Musical, Romance            Sur: The Melody of Life  2002   \n",
       "2196         Musical, Romance                      Time to Dance  2021   \n",
       "2197   Drama, Family, Fantasy            Nigahen: Nagina Part II  1989   \n",
       "2198    Action, Comedy, Drama  Kyo Kii... Main Jhuth Nahin Bolta  2001   \n",
       "\n",
       "                                                   cast           director  \n",
       "0     Shah Rukh Khan, Nayanthara, Vijay Sethupathi, ...              Atlee  \n",
       "1     Kareena Kapoor, Jaideep Ahlawat, Vijay Varma, ...        Sujoy Ghosh  \n",
       "2     Rajinikanth, Mohanlal, Shivarajkumar, Jackie S...  Nelson Dilipkumar  \n",
       "3     Ranveer Singh, Alia Bhatt, Dharmendra, Shabana...        Karan Johar  \n",
       "4     Pankaj Tripathi, Akshay Kumar, Yami Gautam, Pa...           Amit Rai  \n",
       "...                                                 ...                ...  \n",
       "2194  Shatrughan Sinha, Reena Roy, Ajit Khan, Premna...       Subhash Ghai  \n",
       "2195   Lucky Ali, Simone Singh, Achint Kaur, Ehsan Khan     Tanuja Chandra  \n",
       "2196  Sooraj Pancholi, Isabelle Kaif, Waluscha D'Sou...    Stanley D'Costa  \n",
       "2197   Sunny Deol, Sridevi, Anupam Kher, Gulshan Grover   Harmesh Malhotra  \n",
       "2198         Govinda, Sushmita Sen, Rambha, Anupam Kher       David Dhawan  \n",
       "\n",
       "[2199 rows x 5 columns]"
      ]
     },
     "execution_count": 39,
     "metadata": {},
     "output_type": "execute_result"
    }
   ],
   "source": [
    "df"
   ]
  },
  {
   "cell_type": "code",
   "execution_count": 40,
   "metadata": {},
   "outputs": [],
   "source": [
    "# Ensure 'movie_name' column is of string type\n",
    "df['movie_name'] = df['movie_name'].astype(str)"
   ]
  },
  {
   "cell_type": "code",
   "execution_count": 41,
   "metadata": {},
   "outputs": [
    {
     "name": "stdout",
     "output_type": "stream",
     "text": [
      "object\n"
     ]
    }
   ],
   "source": [
    "# Optional: Check if the conversion was successful\n",
    "print(df['movie_name'].dtype)  # Should output: object"
   ]
  },
  {
   "cell_type": "code",
   "execution_count": 42,
   "metadata": {},
   "outputs": [
    {
     "data": {
      "image/png": "[encoded data removed]",
      "text/plain": [
       "<Figure size 1500x1600 with 1 Axes>"
      ]
     },
     "metadata": {},
     "output_type": "display_data"
    }
   ],
   "source": [
    "plt.figure(figsize=[15,16])\n",
    "sns.countplot(data=df, y='year')\n",
    "plt.title('Countplot for year', fontsize = 20)\n",
    "plt.show()"
   ]
  },
  {
   "cell_type": "code",
   "execution_count": 43,
   "metadata": {},
   "outputs": [],
   "source": [
    "# Now we are not using year column also\n",
    "df = df.drop(\"year\", axis=1)"
   ]
  },
  {
   "cell_type": "code",
   "execution_count": 44,
   "metadata": {},
   "outputs": [
    {
     "data": {
      "text/plain": [
       "genre         0\n",
       "movie_name    0\n",
       "cast          0\n",
       "director      0\n",
       "dtype: int64"
      ]
     },
     "execution_count": 44,
     "metadata": {},
     "output_type": "execute_result"
    }
   ],
   "source": [
    "# Cheking null values\n",
    "df.isna().sum()"
   ]
  },
  {
   "cell_type": "code",
   "execution_count": 45,
   "metadata": {},
   "outputs": [],
   "source": [
    "# Filing nan value with blank string\n",
    "df['genre'] = df['genre'].replace(np.nan,\" \")\n",
    "df['cast'] = df['cast'].replace(np.nan,\" \")\n",
    "df['director'] = df['director'].replace(np.nan,\" \")"
   ]
  },
  {
   "cell_type": "code",
   "execution_count": 74,
   "metadata": {},
   "outputs": [],
   "source": [
    "#tmdb = TMDb()\n",
    "# tmdb.api_key = 'a8f3c31b4bc4c4de56e1affe22e456ff'\n",
    "\n",
    "# importing tmdb\n",
    "from tmdbv3api import TMDb,Movie\n",
    "import json\n",
    "import requests #for making HTTP requests\n",
    "\n",
    "# Creating TMDB Api Object\n",
    "tmdb = TMDb()\n",
    "# tmdb.api_key = 'a8f3c31b4bc4c4de56e1affe22e456ff'\n",
    "tmdb.api_key = 'c6c09d114effb5caac5eba5a761473a2'\n",
    "tmdb_movie = Movie()\n",
    "\n",
    "def get_movie_details(title):\n",
    "    try:\n",
    "        title = str(title).strip()\n",
    "        result = tmdb_movie.search(title)\n",
    "        if result:\n",
    "            movie_id = result[0].id\n",
    "            response = requests.get(f'https://api.themoviedb.org/3/movie/{movie_id}?api_key={tmdb.api_key}')\n",
    "            data_json = response.json()\n",
    "            \n",
    "            # Fetching movie genre\n",
    "            movie_genres = [str(genre.get('name', '')) for genre in data_json.get('genres', [])]\n",
    "            genre = \", \".join(movie_genres)\n",
    "            \n",
    "            # Fetching vote average and vote count\n",
    "            vote_average = data_json.get('vote_average', np.nan)\n",
    "            vote_count = data_json.get('vote_count', np.nan)\n",
    "        else:\n",
    "            genre, vote_average, vote_count = \"\", np.nan, np.nan\n",
    "    except Exception as e:\n",
    "        print(f\"Error processing {title}: {e}\")\n",
    "        genre, vote_average, vote_count = \"\", np.nan, np.nan\n",
    "    \n",
    "    return genre, vote_average, vote_count\n",
    "\n",
    "\n"
   ]
  },
  {
   "cell_type": "code",
   "execution_count": 75,
   "metadata": {},
   "outputs": [],
   "source": [
    "# Apply the function to get movie details\n",
    "tqdm.pandas()"
   ]
  },
  {
   "cell_type": "code",
   "execution_count": 78,
   "metadata": {},
   "outputs": [],
   "source": [
    "def apply_get_movie_details(row):\n",
    "    title = row['movie_name']\n",
    "    genre, vote_average, vote_count = get_movie_details(title)\n",
    "    return pd.Series({'TMDB_Genre': genre, 'Vote_Average': vote_average, 'Vote_Count': vote_count})\n"
   ]
  },
  {
   "cell_type": "code",
   "execution_count": 79,
   "metadata": {},
   "outputs": [],
   "source": [
    "# df['movie_name'] = df['movie_name'].astype(str)"
   ]
  },
  {
   "cell_type": "code",
   "execution_count": 80,
   "metadata": {},
   "outputs": [
    {
     "name": "stderr",
     "output_type": "stream",
     "text": [
      "  6%|▋         | 140/2199 [00:08<01:57, 17.47it/s]"
     ]
    },
    {
     "name": "stdout",
     "output_type": "stream",
     "text": [
      "Error processing Bye2: attribute name must be string, not 'int'\n"
     ]
    },
    {
     "name": "stderr",
     "output_type": "stream",
     "text": [
      " 10%|█         | 222/2199 [00:12<01:36, 20.44it/s]"
     ]
    },
    {
     "name": "stdout",
     "output_type": "stream",
     "text": [
      "Error processing Jalpari: The Desert Mermaid: attribute name must be string, not 'int'\n"
     ]
    },
    {
     "name": "stderr",
     "output_type": "stream",
     "text": [
      " 14%|█▎        | 298/2199 [00:16<01:33, 20.30it/s]"
     ]
    },
    {
     "name": "stdout",
     "output_type": "stream",
     "text": [
      "Error processing Don 3: The Final Chapter: attribute name must be string, not 'int'\n"
     ]
    },
    {
     "name": "stderr",
     "output_type": "stream",
     "text": [
      " 15%|█▌        | 338/2199 [00:20<02:36, 11.90it/s]"
     ]
    },
    {
     "name": "stdout",
     "output_type": "stream",
     "text": [
      "Error processing Untitled Vikas Bahl/Jio Studios Project: attribute name must be string, not 'int'\n"
     ]
    },
    {
     "name": "stderr",
     "output_type": "stream",
     "text": [
      " 19%|█▊        | 411/2199 [00:56<20:22,  1.46it/s]"
     ]
    },
    {
     "name": "stdout",
     "output_type": "stream",
     "text": [
      "Error processing Malang - Unleash the Madness: attribute name must be string, not 'int'\n"
     ]
    },
    {
     "name": "stderr",
     "output_type": "stream",
     "text": [
      " 26%|██▌       | 565/2199 [02:52<18:51,  1.44it/s]"
     ]
    },
    {
     "name": "stdout",
     "output_type": "stream",
     "text": [
      "Error processing Untitled Blumhouse Productions Film: attribute name must be string, not 'int'\n"
     ]
    },
    {
     "name": "stderr",
     "output_type": "stream",
     "text": [
      " 26%|██▌       | 573/2199 [02:58<19:29,  1.39it/s]"
     ]
    },
    {
     "name": "stdout",
     "output_type": "stream",
     "text": [
      "Error processing Untitled Aamir khan/Rajkumar Hirani movie: attribute name must be string, not 'int'\n"
     ]
    },
    {
     "name": "stderr",
     "output_type": "stream",
     "text": [
      " 27%|██▋       | 597/2199 [03:15<15:30,  1.72it/s]"
     ]
    },
    {
     "name": "stdout",
     "output_type": "stream",
     "text": [
      "Error processing Khuda Haafiz Chapter II: Agni Pariksha: attribute name must be string, not 'int'\n"
     ]
    },
    {
     "name": "stderr",
     "output_type": "stream",
     "text": [
      " 32%|███▏      | 701/2199 [04:33<16:04,  1.55it/s]"
     ]
    },
    {
     "name": "stdout",
     "output_type": "stream",
     "text": [
      "Error processing Untitled Soorarai Pottru remake: attribute name must be string, not 'int'\n"
     ]
    },
    {
     "name": "stderr",
     "output_type": "stream",
     "text": [
      " 32%|███▏      | 704/2199 [04:34<14:56,  1.67it/s]"
     ]
    },
    {
     "name": "stdout",
     "output_type": "stream",
     "text": [
      "Error processing Aashiq Banaya Aapne: Love Takes Over: attribute name must be string, not 'int'\n"
     ]
    },
    {
     "name": "stderr",
     "output_type": "stream",
     "text": [
      " 37%|███▋      | 810/2199 [05:54<13:21,  1.73it/s]"
     ]
    },
    {
     "name": "stdout",
     "output_type": "stream",
     "text": [
      "Error processing Untitled Shahid Kapoor/Kriti Sanon Film: attribute name must be string, not 'int'\n"
     ]
    },
    {
     "name": "stderr",
     "output_type": "stream",
     "text": [
      " 37%|███▋      | 824/2199 [06:04<14:20,  1.60it/s]"
     ]
    },
    {
     "name": "stdout",
     "output_type": "stream",
     "text": [
      "Error processing Shah Behram: attribute name must be string, not 'int'\n"
     ]
    },
    {
     "name": "stderr",
     "output_type": "stream",
     "text": [
      " 39%|███▊      | 850/2199 [06:23<15:03,  1.49it/s]"
     ]
    },
    {
     "name": "stdout",
     "output_type": "stream",
     "text": [
      "Error processing Koochie Koochie Hota Hai: attribute name must be string, not 'int'\n"
     ]
    },
    {
     "name": "stderr",
     "output_type": "stream",
     "text": [
      " 39%|███▉      | 860/2199 [06:30<13:58,  1.60it/s]"
     ]
    },
    {
     "name": "stdout",
     "output_type": "stream",
     "text": [
      "Error processing Sorry Karma Returns: attribute name must be string, not 'int'\n"
     ]
    },
    {
     "name": "stderr",
     "output_type": "stream",
     "text": [
      " 41%|████▏     | 910/2199 [07:09<15:30,  1.39it/s]"
     ]
    },
    {
     "name": "stdout",
     "output_type": "stream",
     "text": [
      "Error processing Ghost Story - An Abstract Film: attribute name must be string, not 'int'\n"
     ]
    },
    {
     "name": "stderr",
     "output_type": "stream",
     "text": [
      " 43%|████▎     | 939/2199 [07:31<14:59,  1.40it/s]"
     ]
    },
    {
     "name": "stdout",
     "output_type": "stream",
     "text": [
      "Error processing Brahmastra 2: attribute name must be string, not 'int'\n"
     ]
    },
    {
     "name": "stderr",
     "output_type": "stream",
     "text": [
      " 45%|████▍     | 980/2199 [08:01<12:12,  1.66it/s]"
     ]
    },
    {
     "name": "stdout",
     "output_type": "stream",
     "text": [
      "Error processing My Friend Ganesha 4: attribute name must be string, not 'int'\n"
     ]
    },
    {
     "name": "stderr",
     "output_type": "stream",
     "text": [
      " 46%|████▌     | 1014/2199 [08:27<14:03,  1.40it/s]"
     ]
    },
    {
     "name": "stdout",
     "output_type": "stream",
     "text": [
      "Error processing Vaastav: The Reality: attribute name must be string, not 'int'\n"
     ]
    },
    {
     "name": "stderr",
     "output_type": "stream",
     "text": [
      " 47%|████▋     | 1025/2199 [08:34<11:09,  1.75it/s]"
     ]
    },
    {
     "name": "stdout",
     "output_type": "stream",
     "text": [
      "Error processing Waqt: The Race Against Time: attribute name must be string, not 'int'\n"
     ]
    },
    {
     "name": "stderr",
     "output_type": "stream",
     "text": [
      " 48%|████▊     | 1057/2199 [08:57<12:28,  1.52it/s]"
     ]
    },
    {
     "name": "stdout",
     "output_type": "stream",
     "text": [
      "Error processing Shaurya: It Takes Courage to Make Right... Right: attribute name must be string, not 'int'\n"
     ]
    },
    {
     "name": "stderr",
     "output_type": "stream",
     "text": [
      " 48%|████▊     | 1065/2199 [09:03<12:52,  1.47it/s]"
     ]
    },
    {
     "name": "stdout",
     "output_type": "stream",
     "text": [
      "Error processing Kaala Barbarian Chapter 1: attribute name must be string, not 'int'\n"
     ]
    },
    {
     "name": "stderr",
     "output_type": "stream",
     "text": [
      " 49%|████▉     | 1074/2199 [09:10<12:17,  1.52it/s]"
     ]
    },
    {
     "name": "stdout",
     "output_type": "stream",
     "text": [
      "Error processing Dil Aashna Hai (...The Heart Knows): attribute name must be string, not 'int'\n"
     ]
    },
    {
     "name": "stderr",
     "output_type": "stream",
     "text": [
      " 51%|█████     | 1125/2199 [09:47<11:25,  1.57it/s]"
     ]
    },
    {
     "name": "stdout",
     "output_type": "stream",
     "text": [
      "Error processing Ek Betuke Aadmi Ki Afrah Raatein: attribute name must be string, not 'int'\n"
     ]
    },
    {
     "name": "stderr",
     "output_type": "stream",
     "text": [
      " 51%|█████▏    | 1129/2199 [09:50<12:27,  1.43it/s]"
     ]
    },
    {
     "name": "stdout",
     "output_type": "stream",
     "text": [
      "Error processing Badla Sherni Ka: attribute name must be string, not 'int'\n"
     ]
    },
    {
     "name": "stderr",
     "output_type": "stream",
     "text": [
      " 51%|█████▏    | 1130/2199 [09:50<10:24,  1.71it/s]"
     ]
    },
    {
     "name": "stdout",
     "output_type": "stream",
     "text": [
      "Error processing Awara Pagal Deewana 2: attribute name must be string, not 'int'\n"
     ]
    },
    {
     "name": "stderr",
     "output_type": "stream",
     "text": [
      " 53%|█████▎    | 1176/2199 [10:25<13:17,  1.28it/s]"
     ]
    },
    {
     "name": "stdout",
     "output_type": "stream",
     "text": [
      "Error processing Auron Mein Kahan DumTha: attribute name must be string, not 'int'\n"
     ]
    },
    {
     "name": "stderr",
     "output_type": "stream",
     "text": [
      " 54%|█████▍    | 1196/2199 [10:42<12:21,  1.35it/s]"
     ]
    },
    {
     "name": "stdout",
     "output_type": "stream",
     "text": [
      "Error processing Bhaagamathie Full Hindi Dubbed Movie: attribute name must be string, not 'int'\n"
     ]
    },
    {
     "name": "stderr",
     "output_type": "stream",
     "text": [
      " 56%|█████▌    | 1235/2199 [11:12<10:34,  1.52it/s]"
     ]
    },
    {
     "name": "stdout",
     "output_type": "stream",
     "text": [
      "Error processing Acting Ka Bhoot: attribute name must be string, not 'int'\n"
     ]
    },
    {
     "name": "stderr",
     "output_type": "stream",
     "text": [
      " 58%|█████▊    | 1274/2199 [11:41<09:51,  1.56it/s]"
     ]
    },
    {
     "name": "stdout",
     "output_type": "stream",
     "text": [
      "Error processing Untitled SRK-Suhana-Marflix movie: attribute name must be string, not 'int'\n"
     ]
    },
    {
     "name": "stderr",
     "output_type": "stream",
     "text": [
      " 58%|█████▊    | 1284/2199 [11:49<10:30,  1.45it/s]"
     ]
    },
    {
     "name": "stdout",
     "output_type": "stream",
     "text": [
      "Error processing Kadhalar Dinam: attribute name must be string, not 'int'\n"
     ]
    },
    {
     "name": "stderr",
     "output_type": "stream",
     "text": [
      " 59%|█████▊    | 1291/2199 [11:53<08:28,  1.79it/s]"
     ]
    },
    {
     "name": "stdout",
     "output_type": "stream",
     "text": [
      "Error processing Chimanee Pakhre: attribute name must be string, not 'int'\n"
     ]
    },
    {
     "name": "stderr",
     "output_type": "stream",
     "text": [
      " 59%|█████▉    | 1297/2199 [11:57<08:33,  1.76it/s]"
     ]
    },
    {
     "name": "stdout",
     "output_type": "stream",
     "text": [
      "Error processing 21: Battle of Saragarhi: attribute name must be string, not 'int'\n"
     ]
    },
    {
     "name": "stderr",
     "output_type": "stream",
     "text": [
      " 60%|██████    | 1325/2199 [12:17<09:28,  1.54it/s]"
     ]
    },
    {
     "name": "stdout",
     "output_type": "stream",
     "text": [
      "Error processing Jaan-E-Mann: Let's Fall in Love... Again: attribute name must be string, not 'int'\n"
     ]
    },
    {
     "name": "stderr",
     "output_type": "stream",
     "text": [
      " 61%|██████    | 1331/2199 [12:21<08:46,  1.65it/s]"
     ]
    },
    {
     "name": "stdout",
     "output_type": "stream",
     "text": [
      "Error processing Iftikhar: attribute name must be string, not 'int'\n"
     ]
    },
    {
     "name": "stderr",
     "output_type": "stream",
     "text": [
      " 61%|██████▏   | 1349/2199 [12:35<08:28,  1.67it/s]"
     ]
    },
    {
     "name": "stdout",
     "output_type": "stream",
     "text": [
      "Error processing Raktneeti: attribute name must be string, not 'int'\n"
     ]
    },
    {
     "name": "stderr",
     "output_type": "stream",
     "text": [
      " 62%|██████▏   | 1367/2199 [12:48<08:36,  1.61it/s]"
     ]
    },
    {
     "name": "stdout",
     "output_type": "stream",
     "text": [
      "Error processing Sheela I Love You: attribute name must be string, not 'int'\n"
     ]
    },
    {
     "name": "stderr",
     "output_type": "stream",
     "text": [
      " 63%|██████▎   | 1379/2199 [12:57<09:13,  1.48it/s]"
     ]
    },
    {
     "name": "stdout",
     "output_type": "stream",
     "text": [
      "Error processing Daku Ramkali: attribute name must be string, not 'int'\n"
     ]
    },
    {
     "name": "stderr",
     "output_type": "stream",
     "text": [
      " 63%|██████▎   | 1381/2199 [12:58<08:32,  1.59it/s]"
     ]
    },
    {
     "name": "stdout",
     "output_type": "stream",
     "text": [
      "Error processing Mudrank: The Stamp: attribute name must be string, not 'int'\n"
     ]
    },
    {
     "name": "stderr",
     "output_type": "stream",
     "text": [
      " 67%|██████▋   | 1467/2199 [14:03<07:35,  1.61it/s]"
     ]
    },
    {
     "name": "stdout",
     "output_type": "stream",
     "text": [
      "Error processing Long Live Brij Mohan: attribute name must be string, not 'int'\n"
     ]
    },
    {
     "name": "stderr",
     "output_type": "stream",
     "text": [
      " 68%|██████▊   | 1488/2199 [14:18<07:24,  1.60it/s]"
     ]
    },
    {
     "name": "stdout",
     "output_type": "stream",
     "text": [
      "Error processing Indian Never Again Nirbhaya: attribute name must be string, not 'int'\n"
     ]
    },
    {
     "name": "stderr",
     "output_type": "stream",
     "text": [
      " 68%|██████▊   | 1490/2199 [14:20<06:51,  1.72it/s]"
     ]
    },
    {
     "name": "stdout",
     "output_type": "stream",
     "text": [
      "Error processing Chaar Lugaai: attribute name must be string, not 'int'\n"
     ]
    },
    {
     "name": "stderr",
     "output_type": "stream",
     "text": [
      " 69%|██████▉   | 1515/2199 [14:39<07:15,  1.57it/s]"
     ]
    },
    {
     "name": "stdout",
     "output_type": "stream",
     "text": [
      "Error processing Aankhen 2: attribute name must be string, not 'int'\n"
     ]
    },
    {
     "name": "stderr",
     "output_type": "stream",
     "text": [
      " 70%|███████   | 1543/2199 [15:01<07:19,  1.49it/s]"
     ]
    },
    {
     "name": "stdout",
     "output_type": "stream",
     "text": [
      "Error processing Fraud Saiyyan: attribute name must be string, not 'int'\n"
     ]
    },
    {
     "name": "stderr",
     "output_type": "stream",
     "text": [
      " 71%|███████   | 1561/2199 [15:13<06:04,  1.75it/s]"
     ]
    },
    {
     "name": "stdout",
     "output_type": "stream",
     "text": [
      "Error processing Ghatak: Lethal: attribute name must be string, not 'int'\n"
     ]
    },
    {
     "name": "stderr",
     "output_type": "stream",
     "text": [
      " 73%|███████▎  | 1600/2199 [15:45<06:06,  1.64it/s]"
     ]
    },
    {
     "name": "stdout",
     "output_type": "stream",
     "text": [
      "Error processing Jungle Ki Hasina: attribute name must be string, not 'int'\n"
     ]
    },
    {
     "name": "stderr",
     "output_type": "stream",
     "text": [
      " 74%|███████▎  | 1618/2199 [15:58<06:26,  1.50it/s]"
     ]
    },
    {
     "name": "stdout",
     "output_type": "stream",
     "text": [
      "Error processing Baap Beti: attribute name must be string, not 'int'\n"
     ]
    },
    {
     "name": "stderr",
     "output_type": "stream",
     "text": [
      " 75%|███████▍  | 1647/2199 [16:20<06:04,  1.52it/s]"
     ]
    },
    {
     "name": "stdout",
     "output_type": "stream",
     "text": [
      "Error processing Dec-24: attribute name must be string, not 'int'\n"
     ]
    },
    {
     "name": "stderr",
     "output_type": "stream",
     "text": [
      " 78%|███████▊  | 1719/2199 [17:13<05:04,  1.57it/s]"
     ]
    },
    {
     "name": "stdout",
     "output_type": "stream",
     "text": [
      "Error processing Balakot: the true story: attribute name must be string, not 'int'\n"
     ]
    },
    {
     "name": "stderr",
     "output_type": "stream",
     "text": [
      " 79%|███████▉  | 1740/2199 [17:30<08:04,  1.05s/it]"
     ]
    },
    {
     "name": "stdout",
     "output_type": "stream",
     "text": [
      "Error processing ANOLB: attribute name must be string, not 'int'\n"
     ]
    },
    {
     "name": "stderr",
     "output_type": "stream",
     "text": [
      " 80%|███████▉  | 1752/2199 [17:39<04:46,  1.56it/s]"
     ]
    },
    {
     "name": "stdout",
     "output_type": "stream",
     "text": [
      "Error processing Sandai Kozhi: attribute name must be string, not 'int'\n"
     ]
    },
    {
     "name": "stderr",
     "output_type": "stream",
     "text": [
      " 80%|███████▉  | 1759/2199 [17:43<04:08,  1.77it/s]"
     ]
    },
    {
     "name": "stdout",
     "output_type": "stream",
     "text": [
      "Error processing Sheela Meri Jaan: attribute name must be string, not 'int'\n"
     ]
    },
    {
     "name": "stderr",
     "output_type": "stream",
     "text": [
      " 80%|████████  | 1764/2199 [17:47<04:15,  1.70it/s]"
     ]
    },
    {
     "name": "stdout",
     "output_type": "stream",
     "text": [
      "Error processing Jawani Ki Kahani: attribute name must be string, not 'int'\n"
     ]
    },
    {
     "name": "stderr",
     "output_type": "stream",
     "text": [
      " 81%|████████▏ | 1787/2199 [18:04<04:37,  1.49it/s]"
     ]
    },
    {
     "name": "stdout",
     "output_type": "stream",
     "text": [
      "Error processing Junglee Tarzan: attribute name must be string, not 'int'\n"
     ]
    },
    {
     "name": "stderr",
     "output_type": "stream",
     "text": [
      " 82%|████████▏ | 1802/2199 [18:14<03:31,  1.88it/s]"
     ]
    },
    {
     "name": "stdout",
     "output_type": "stream",
     "text": [
      "Error processing Daud: Fun on the Run: attribute name must be string, not 'int'\n"
     ]
    },
    {
     "name": "stderr",
     "output_type": "stream",
     "text": [
      " 82%|████████▏ | 1810/2199 [18:20<03:39,  1.77it/s]"
     ]
    },
    {
     "name": "stdout",
     "output_type": "stream",
     "text": [
      "Error processing Tum Bin...: Love Will Find a Way: attribute name must be string, not 'int'\n"
     ]
    },
    {
     "name": "stderr",
     "output_type": "stream",
     "text": [
      " 83%|████████▎ | 1817/2199 [18:25<03:46,  1.69it/s]"
     ]
    },
    {
     "name": "stdout",
     "output_type": "stream",
     "text": [
      "Error processing Apno Se Bewafai: attribute name must be string, not 'int'\n"
     ]
    },
    {
     "name": "stderr",
     "output_type": "stream",
     "text": [
      " 83%|████████▎ | 1823/2199 [18:28<03:33,  1.76it/s]"
     ]
    },
    {
     "name": "stdout",
     "output_type": "stream",
     "text": [
      "Error processing Pyasa Darinda: attribute name must be string, not 'int'\n"
     ]
    },
    {
     "name": "stderr",
     "output_type": "stream",
     "text": [
      " 83%|████████▎ | 1830/2199 [18:34<05:09,  1.19it/s]"
     ]
    },
    {
     "name": "stdout",
     "output_type": "stream",
     "text": [
      "Error processing Tom Dick and Harry Returns: attribute name must be string, not 'int'\n"
     ]
    },
    {
     "name": "stderr",
     "output_type": "stream",
     "text": [
      " 84%|████████▎ | 1838/2199 [18:40<03:44,  1.61it/s]"
     ]
    },
    {
     "name": "stdout",
     "output_type": "stream",
     "text": [
      "Error processing Bhuddah Hoga Tera Baap: attribute name must be string, not 'int'\n"
     ]
    },
    {
     "name": "stderr",
     "output_type": "stream",
     "text": [
      " 84%|████████▍ | 1857/2199 [18:52<03:12,  1.78it/s]"
     ]
    },
    {
     "name": "stdout",
     "output_type": "stream",
     "text": [
      "Error processing Bade Achhe Lagte Hai: attribute name must be string, not 'int'\n"
     ]
    },
    {
     "name": "stderr",
     "output_type": "stream",
     "text": [
      " 85%|████████▌ | 1875/2199 [19:05<03:14,  1.66it/s]"
     ]
    },
    {
     "name": "stdout",
     "output_type": "stream",
     "text": [
      "Error processing Mystery of the Tattoo: attribute name must be string, not 'int'\n"
     ]
    },
    {
     "name": "stderr",
     "output_type": "stream",
     "text": [
      " 86%|████████▌ | 1885/2199 [19:12<03:25,  1.53it/s]"
     ]
    },
    {
     "name": "stdout",
     "output_type": "stream",
     "text": [
      "Error processing Hari Singh Nalwa - Champion of the Khalsa Ji: attribute name must be string, not 'int'\n"
     ]
    },
    {
     "name": "stderr",
     "output_type": "stream",
     "text": [
      " 87%|████████▋ | 1918/2199 [19:36<03:13,  1.45it/s]"
     ]
    },
    {
     "name": "stdout",
     "output_type": "stream",
     "text": [
      "Error processing Badmaash Babes: attribute name must be string, not 'int'\n"
     ]
    },
    {
     "name": "stderr",
     "output_type": "stream",
     "text": [
      " 88%|████████▊ | 1930/2199 [19:43<02:40,  1.68it/s]"
     ]
    },
    {
     "name": "stdout",
     "output_type": "stream",
     "text": [
      "Error processing Ayee Milan Ki Raat: attribute name must be string, not 'int'\n"
     ]
    },
    {
     "name": "stderr",
     "output_type": "stream",
     "text": [
      " 88%|████████▊ | 1937/2199 [19:48<02:35,  1.68it/s]"
     ]
    },
    {
     "name": "stdout",
     "output_type": "stream",
     "text": [
      "Error processing Crook: It's Good to Be Bad: attribute name must be string, not 'int'\n"
     ]
    },
    {
     "name": "stderr",
     "output_type": "stream",
     "text": [
      " 88%|████████▊ | 1943/2199 [19:52<02:24,  1.77it/s]"
     ]
    },
    {
     "name": "stdout",
     "output_type": "stream",
     "text": [
      "Error processing Mumbai Express: attribute name must be string, not 'int'\n"
     ]
    },
    {
     "name": "stderr",
     "output_type": "stream",
     "text": [
      " 89%|████████▉ | 1968/2199 [20:09<02:12,  1.75it/s]"
     ]
    },
    {
     "name": "stdout",
     "output_type": "stream",
     "text": [
      "Error processing Juliet's X-Tape: attribute name must be string, not 'int'\n"
     ]
    },
    {
     "name": "stderr",
     "output_type": "stream",
     "text": [
      " 92%|█████████▏| 2013/2199 [20:50<02:00,  1.54it/s]"
     ]
    },
    {
     "name": "stdout",
     "output_type": "stream",
     "text": [
      "Error processing The Death Sentence: Mrityu Dand: attribute name must be string, not 'int'\n"
     ]
    },
    {
     "name": "stderr",
     "output_type": "stream",
     "text": [
      " 92%|█████████▏| 2014/2199 [20:50<01:47,  1.71it/s]"
     ]
    },
    {
     "name": "stdout",
     "output_type": "stream",
     "text": [
      "Error processing The Fighter Suman: attribute name must be string, not 'int'\n"
     ]
    },
    {
     "name": "stderr",
     "output_type": "stream",
     "text": [
      " 92%|█████████▏| 2020/2199 [20:54<01:35,  1.87it/s]"
     ]
    },
    {
     "name": "stdout",
     "output_type": "stream",
     "text": [
      "Error processing Albert Pinto Ko Gussa Kyon Ata Hai: attribute name must be string, not 'int'\n"
     ]
    },
    {
     "name": "stderr",
     "output_type": "stream",
     "text": [
      " 92%|█████████▏| 2024/2199 [20:56<01:46,  1.64it/s]"
     ]
    },
    {
     "name": "stdout",
     "output_type": "stream",
     "text": [
      "Error processing Testing Movie1: attribute name must be string, not 'int'\n"
     ]
    },
    {
     "name": "stderr",
     "output_type": "stream",
     "text": [
      " 92%|█████████▏| 2028/2199 [20:59<01:45,  1.62it/s]"
     ]
    },
    {
     "name": "stdout",
     "output_type": "stream",
     "text": [
      "Error processing Teri Khata: attribute name must be string, not 'int'\n"
     ]
    },
    {
     "name": "stderr",
     "output_type": "stream",
     "text": [
      " 94%|█████████▍| 2071/2199 [21:30<01:25,  1.50it/s]"
     ]
    },
    {
     "name": "stdout",
     "output_type": "stream",
     "text": [
      "Error processing M.... Matric Pass: attribute name must be string, not 'int'\n"
     ]
    },
    {
     "name": "stderr",
     "output_type": "stream",
     "text": [
      " 94%|█████████▍| 2076/2199 [21:34<01:17,  1.58it/s]"
     ]
    },
    {
     "name": "stdout",
     "output_type": "stream",
     "text": [
      "Error processing Boyfriend.com: attribute name must be string, not 'int'\n"
     ]
    },
    {
     "name": "stderr",
     "output_type": "stream",
     "text": [
      " 95%|█████████▍| 2080/2199 [21:36<01:08,  1.74it/s]"
     ]
    },
    {
     "name": "stdout",
     "output_type": "stream",
     "text": [
      "Error processing School Romance: Pure Love Web Series: attribute name must be string, not 'int'\n"
     ]
    },
    {
     "name": "stderr",
     "output_type": "stream",
     "text": [
      " 96%|█████████▌| 2115/2199 [22:04<00:53,  1.56it/s]"
     ]
    },
    {
     "name": "stdout",
     "output_type": "stream",
     "text": [
      "Error processing Tadapti Jawani: attribute name must be string, not 'int'\n"
     ]
    },
    {
     "name": "stderr",
     "output_type": "stream",
     "text": [
      " 97%|█████████▋| 2128/2199 [22:12<00:49,  1.43it/s]"
     ]
    },
    {
     "name": "stdout",
     "output_type": "stream",
     "text": [
      "Error processing Millitary Raaj: attribute name must be string, not 'int'\n"
     ]
    },
    {
     "name": "stderr",
     "output_type": "stream",
     "text": [
      " 98%|█████████▊| 2150/2199 [22:28<00:27,  1.75it/s]"
     ]
    },
    {
     "name": "stdout",
     "output_type": "stream",
     "text": [
      "Error processing Shlok - The Desi Sherlock: attribute name must be string, not 'int'\n"
     ]
    },
    {
     "name": "stderr",
     "output_type": "stream",
     "text": [
      " 98%|█████████▊| 2155/2199 [22:31<00:27,  1.58it/s]"
     ]
    },
    {
     "name": "stdout",
     "output_type": "stream",
     "text": [
      "Error processing Tute Khwab: attribute name must be string, not 'int'\n"
     ]
    },
    {
     "name": "stderr",
     "output_type": "stream",
     "text": [
      " 98%|█████████▊| 2165/2199 [22:38<00:22,  1.52it/s]"
     ]
    },
    {
     "name": "stdout",
     "output_type": "stream",
     "text": [
      "Error processing Mutamestri: attribute name must be string, not 'int'\n"
     ]
    },
    {
     "name": "stderr",
     "output_type": "stream",
     "text": [
      " 99%|█████████▊| 2168/2199 [22:40<00:18,  1.72it/s]"
     ]
    },
    {
     "name": "stdout",
     "output_type": "stream",
     "text": [
      "Error processing Shikari: The Hunter: attribute name must be string, not 'int'\n"
     ]
    },
    {
     "name": "stderr",
     "output_type": "stream",
     "text": [
      " 99%|█████████▉| 2178/2199 [22:46<00:09,  2.13it/s]"
     ]
    },
    {
     "name": "stdout",
     "output_type": "stream",
     "text": [
      "Error processing Untitled Ranveer Singh & Shankar Film: attribute name must be string, not 'int'\n"
     ]
    },
    {
     "name": "stderr",
     "output_type": "stream",
     "text": [
      "100%|█████████▉| 2196/2199 [22:59<00:01,  1.52it/s]"
     ]
    },
    {
     "name": "stdout",
     "output_type": "stream",
     "text": [
      "Error processing Heeriye: attribute name must be string, not 'int'\n"
     ]
    },
    {
     "name": "stderr",
     "output_type": "stream",
     "text": [
      "100%|██████████| 2199/2199 [23:02<00:00,  1.59it/s]\n"
     ]
    }
   ],
   "source": [
    "# Use progress_apply to show a progress bar\n",
    "df[['TMDB_Genre', 'Vote_Average', 'Vote_Count']] = df.progress_apply(apply_get_movie_details, axis=1)"
   ]
  },
  {
   "cell_type": "code",
   "execution_count": 81,
   "metadata": {},
   "outputs": [],
   "source": [
    "\n",
    "# Save to CSV\n",
    "df.to_csv('Hindi_Movies_Dataset_with_TMDB.csv', index=False)"
   ]
  },
  {
   "cell_type": "code",
   "execution_count": 82,
   "metadata": {},
   "outputs": [],
   "source": [
    "df.rename(columns={\n",
    "    'movie_name': 'Title',\n",
    "    'cast': 'Cast and crew',\n",
    "    'TMDB_Genre': 'Genre',\n",
    "    'Vote_Average': 'Vote_Average',\n",
    "    'Vote_Count': 'Vote_Count'\n",
    "}, inplace=True)\n"
   ]
  },
  {
   "cell_type": "code",
   "execution_count": 83,
   "metadata": {},
   "outputs": [],
   "source": [
    "wiki_df2 = df[[\"Title\", \"Cast and crew\", \"Genre\", \"Vote_Average\", \"Vote_Count\"]]\n"
   ]
  },
  {
   "cell_type": "code",
   "execution_count": 85,
   "metadata": {},
   "outputs": [
    {
     "data": {
      "text/html": [
       "<div>\n",
       "<style scoped>\n",
       "    .dataframe tbody tr th:only-of-type {\n",
       "        vertical-align: middle;\n",
       "    }\n",
       "\n",
       "    .dataframe tbody tr th {\n",
       "        vertical-align: top;\n",
       "    }\n",
       "\n",
       "    .dataframe thead th {\n",
       "        text-align: right;\n",
       "    }\n",
       "</style>\n",
       "<table border=\"1\" class=\"dataframe\">\n",
       "  <thead>\n",
       "    <tr style=\"text-align: right;\">\n",
       "      <th></th>\n",
       "      <th>Title</th>\n",
       "      <th>Cast and crew</th>\n",
       "      <th>Genre</th>\n",
       "      <th>Vote_Average</th>\n",
       "      <th>Vote_Count</th>\n",
       "    </tr>\n",
       "  </thead>\n",
       "  <tbody>\n",
       "    <tr>\n",
       "      <th>0</th>\n",
       "      <td>Jawan</td>\n",
       "      <td>Shah Rukh Khan, Nayanthara, Vijay Sethupathi, ...</td>\n",
       "      <td>Action, Adventure, Thriller</td>\n",
       "      <td>7.200</td>\n",
       "      <td>225.0</td>\n",
       "    </tr>\n",
       "    <tr>\n",
       "      <th>1</th>\n",
       "      <td>Jaane Jaan</td>\n",
       "      <td>Kareena Kapoor, Jaideep Ahlawat, Vijay Varma, ...</td>\n",
       "      <td>Crime, Thriller, Drama</td>\n",
       "      <td>7.100</td>\n",
       "      <td>80.0</td>\n",
       "    </tr>\n",
       "    <tr>\n",
       "      <th>2</th>\n",
       "      <td>Jailer</td>\n",
       "      <td>Rajinikanth, Mohanlal, Shivarajkumar, Jackie S...</td>\n",
       "      <td></td>\n",
       "      <td>0.000</td>\n",
       "      <td>0.0</td>\n",
       "    </tr>\n",
       "    <tr>\n",
       "      <th>3</th>\n",
       "      <td>Rocky Aur Rani Kii Prem Kahaani</td>\n",
       "      <td>Ranveer Singh, Alia Bhatt, Dharmendra, Shabana...</td>\n",
       "      <td>Comedy, Drama, Family, Romance</td>\n",
       "      <td>6.125</td>\n",
       "      <td>48.0</td>\n",
       "    </tr>\n",
       "    <tr>\n",
       "      <th>4</th>\n",
       "      <td>OMG 2</td>\n",
       "      <td>Pankaj Tripathi, Akshay Kumar, Yami Gautam, Pa...</td>\n",
       "      <td>Comedy, Drama</td>\n",
       "      <td>7.300</td>\n",
       "      <td>41.0</td>\n",
       "    </tr>\n",
       "  </tbody>\n",
       "</table>\n",
       "</div>"
      ],
      "text/plain": [
       "                             Title  \\\n",
       "0                            Jawan   \n",
       "1                       Jaane Jaan   \n",
       "2                           Jailer   \n",
       "3  Rocky Aur Rani Kii Prem Kahaani   \n",
       "4                            OMG 2   \n",
       "\n",
       "                                       Cast and crew  \\\n",
       "0  Shah Rukh Khan, Nayanthara, Vijay Sethupathi, ...   \n",
       "1  Kareena Kapoor, Jaideep Ahlawat, Vijay Varma, ...   \n",
       "2  Rajinikanth, Mohanlal, Shivarajkumar, Jackie S...   \n",
       "3  Ranveer Singh, Alia Bhatt, Dharmendra, Shabana...   \n",
       "4  Pankaj Tripathi, Akshay Kumar, Yami Gautam, Pa...   \n",
       "\n",
       "                            Genre  Vote_Average  Vote_Count  \n",
       "0     Action, Adventure, Thriller         7.200       225.0  \n",
       "1          Crime, Thriller, Drama         7.100        80.0  \n",
       "2                                         0.000         0.0  \n",
       "3  Comedy, Drama, Family, Romance         6.125        48.0  \n",
       "4                   Comedy, Drama         7.300        41.0  "
      ]
     },
     "execution_count": 85,
     "metadata": {},
     "output_type": "execute_result"
    }
   ],
   "source": [
    "wiki_df2.head()\n",
    "\n"
   ]
  },
  {
   "cell_type": "code",
   "execution_count": 86,
   "metadata": {},
   "outputs": [
    {
     "data": {
      "text/html": [
       "<div>\n",
       "<style scoped>\n",
       "    .dataframe tbody tr th:only-of-type {\n",
       "        vertical-align: middle;\n",
       "    }\n",
       "\n",
       "    .dataframe tbody tr th {\n",
       "        vertical-align: top;\n",
       "    }\n",
       "\n",
       "    .dataframe thead th {\n",
       "        text-align: right;\n",
       "    }\n",
       "</style>\n",
       "<table border=\"1\" class=\"dataframe\">\n",
       "  <thead>\n",
       "    <tr style=\"text-align: right;\">\n",
       "      <th></th>\n",
       "      <th>Title</th>\n",
       "      <th>Cast and crew</th>\n",
       "      <th>Genre</th>\n",
       "      <th>Vote_Average</th>\n",
       "      <th>Vote_Count</th>\n",
       "    </tr>\n",
       "  </thead>\n",
       "  <tbody>\n",
       "    <tr>\n",
       "      <th>135</th>\n",
       "      <td>Bye2</td>\n",
       "      <td>Bhushan, Karan, Vipin Singh, Shreya Tyagi</td>\n",
       "      <td></td>\n",
       "      <td>NaN</td>\n",
       "      <td>NaN</td>\n",
       "    </tr>\n",
       "    <tr>\n",
       "      <th>218</th>\n",
       "      <td>Jalpari: The Desert Mermaid</td>\n",
       "      <td>Lehar Khan, Krishang Trivedi, Parvin Dabas, Su...</td>\n",
       "      <td></td>\n",
       "      <td>NaN</td>\n",
       "      <td>NaN</td>\n",
       "    </tr>\n",
       "    <tr>\n",
       "      <th>294</th>\n",
       "      <td>Don 3: The Final Chapter</td>\n",
       "      <td>Ranveer Singh</td>\n",
       "      <td></td>\n",
       "      <td>NaN</td>\n",
       "      <td>NaN</td>\n",
       "    </tr>\n",
       "    <tr>\n",
       "      <th>335</th>\n",
       "      <td>Untitled Vikas Bahl/Jio Studios Project</td>\n",
       "      <td>Ajay Devgn, Madhavan, Janki Bodiwala, Jyotika</td>\n",
       "      <td></td>\n",
       "      <td>NaN</td>\n",
       "      <td>NaN</td>\n",
       "    </tr>\n",
       "    <tr>\n",
       "      <th>409</th>\n",
       "      <td>Malang - Unleash the Madness</td>\n",
       "      <td>Aditya Roy Kapoor, Anil Kapoor, Disha Patani, ...</td>\n",
       "      <td></td>\n",
       "      <td>NaN</td>\n",
       "      <td>NaN</td>\n",
       "    </tr>\n",
       "    <tr>\n",
       "      <th>...</th>\n",
       "      <td>...</td>\n",
       "      <td>...</td>\n",
       "      <td>...</td>\n",
       "      <td>...</td>\n",
       "      <td>...</td>\n",
       "    </tr>\n",
       "    <tr>\n",
       "      <th>2153</th>\n",
       "      <td>Tute Khwab</td>\n",
       "      <td>Pramod Sharma, Dhanashri Rathod, Mahesh Kumar,...</td>\n",
       "      <td></td>\n",
       "      <td>NaN</td>\n",
       "      <td>NaN</td>\n",
       "    </tr>\n",
       "    <tr>\n",
       "      <th>2163</th>\n",
       "      <td>Mutamestri</td>\n",
       "      <td>Chiranjeevi, Meena, Roja, Sharat Saxena</td>\n",
       "      <td></td>\n",
       "      <td>NaN</td>\n",
       "      <td>NaN</td>\n",
       "    </tr>\n",
       "    <tr>\n",
       "      <th>2166</th>\n",
       "      <td>Shikari: The Hunter</td>\n",
       "      <td>Mithun Chakraborty, Naseeruddin Shah, Irina Ku...</td>\n",
       "      <td></td>\n",
       "      <td>NaN</td>\n",
       "      <td>NaN</td>\n",
       "    </tr>\n",
       "    <tr>\n",
       "      <th>2176</th>\n",
       "      <td>Untitled Ranveer Singh &amp; Shankar Film</td>\n",
       "      <td>Ranveer Singh</td>\n",
       "      <td></td>\n",
       "      <td>NaN</td>\n",
       "      <td>NaN</td>\n",
       "    </tr>\n",
       "    <tr>\n",
       "      <th>2194</th>\n",
       "      <td>Heeriye</td>\n",
       "      <td>Shatrughan Sinha, Reena Roy, Ajit Khan, Premna...</td>\n",
       "      <td></td>\n",
       "      <td>NaN</td>\n",
       "      <td>NaN</td>\n",
       "    </tr>\n",
       "  </tbody>\n",
       "</table>\n",
       "<p>83 rows × 5 columns</p>\n",
       "</div>"
      ],
      "text/plain": [
       "                                        Title  \\\n",
       "135                                      Bye2   \n",
       "218               Jalpari: The Desert Mermaid   \n",
       "294                  Don 3: The Final Chapter   \n",
       "335   Untitled Vikas Bahl/Jio Studios Project   \n",
       "409              Malang - Unleash the Madness   \n",
       "...                                       ...   \n",
       "2153                               Tute Khwab   \n",
       "2163                               Mutamestri   \n",
       "2166                      Shikari: The Hunter   \n",
       "2176    Untitled Ranveer Singh & Shankar Film   \n",
       "2194                                  Heeriye   \n",
       "\n",
       "                                          Cast and crew Genre  Vote_Average  \\\n",
       "135           Bhushan, Karan, Vipin Singh, Shreya Tyagi                 NaN   \n",
       "218   Lehar Khan, Krishang Trivedi, Parvin Dabas, Su...                 NaN   \n",
       "294                                       Ranveer Singh                 NaN   \n",
       "335       Ajay Devgn, Madhavan, Janki Bodiwala, Jyotika                 NaN   \n",
       "409   Aditya Roy Kapoor, Anil Kapoor, Disha Patani, ...                 NaN   \n",
       "...                                                 ...   ...           ...   \n",
       "2153  Pramod Sharma, Dhanashri Rathod, Mahesh Kumar,...                 NaN   \n",
       "2163            Chiranjeevi, Meena, Roja, Sharat Saxena                 NaN   \n",
       "2166  Mithun Chakraborty, Naseeruddin Shah, Irina Ku...                 NaN   \n",
       "2176                                      Ranveer Singh                 NaN   \n",
       "2194  Shatrughan Sinha, Reena Roy, Ajit Khan, Premna...                 NaN   \n",
       "\n",
       "      Vote_Count  \n",
       "135          NaN  \n",
       "218          NaN  \n",
       "294          NaN  \n",
       "335          NaN  \n",
       "409          NaN  \n",
       "...          ...  \n",
       "2153         NaN  \n",
       "2163         NaN  \n",
       "2166         NaN  \n",
       "2176         NaN  \n",
       "2194         NaN  \n",
       "\n",
       "[83 rows x 5 columns]"
      ]
     },
     "execution_count": 86,
     "metadata": {},
     "output_type": "execute_result"
    }
   ],
   "source": [
    "# Checking missing value\n",
    "wiki_df2[wiki_df2.isna().any(axis=1)]"
   ]
  },
  {
   "cell_type": "code",
   "execution_count": 87,
   "metadata": {},
   "outputs": [],
   "source": [
    "wiki_df2 =  wiki_df2.fillna({'Genre':'', 'Vote_Average':0,'Vote_Count':0})\n"
   ]
  },
  {
   "cell_type": "code",
   "execution_count": 88,
   "metadata": {},
   "outputs": [],
   "source": [
    "wiki_df2 =  wiki_df2.fillna({'Title':'', 'Cast and crew':''})"
   ]
  },
  {
   "cell_type": "code",
   "execution_count": 89,
   "metadata": {},
   "outputs": [
    {
     "data": {
      "text/html": [
       "<div>\n",
       "<style scoped>\n",
       "    .dataframe tbody tr th:only-of-type {\n",
       "        vertical-align: middle;\n",
       "    }\n",
       "\n",
       "    .dataframe tbody tr th {\n",
       "        vertical-align: top;\n",
       "    }\n",
       "\n",
       "    .dataframe thead th {\n",
       "        text-align: right;\n",
       "    }\n",
       "</style>\n",
       "<table border=\"1\" class=\"dataframe\">\n",
       "  <thead>\n",
       "    <tr style=\"text-align: right;\">\n",
       "      <th></th>\n",
       "      <th>Title</th>\n",
       "      <th>Cast and crew</th>\n",
       "      <th>Genre</th>\n",
       "      <th>Vote_Average</th>\n",
       "      <th>Vote_Count</th>\n",
       "    </tr>\n",
       "  </thead>\n",
       "  <tbody>\n",
       "  </tbody>\n",
       "</table>\n",
       "</div>"
      ],
      "text/plain": [
       "Empty DataFrame\n",
       "Columns: [Title, Cast and crew, Genre, Vote_Average, Vote_Count]\n",
       "Index: []"
      ]
     },
     "execution_count": 89,
     "metadata": {},
     "output_type": "execute_result"
    }
   ],
   "source": [
    "wiki_df2[wiki_df2.isna().any(axis=1)]"
   ]
  },
  {
   "cell_type": "code",
   "execution_count": 90,
   "metadata": {},
   "outputs": [
    {
     "name": "stdout",
     "output_type": "stream",
     "text": [
      "Kareena Kapoor, Jaideep Ahlawat, Vijay Varma, Saurabh Sachdeva\n",
      "====================================\n",
      "Adah Sharma, Yogita Bihani, Sonia Balani, Siddhi Idnani\n",
      "====================================\n",
      "Bhumi Pednekar, Dolly Ahluwalia, Shibani Bedi, Saloni Daini\n",
      "====================================\n",
      "Tamannaah Bhatia, Vijay Varma, Neena Gupta, Mrunal Thakur\n",
      "====================================\n",
      "Hrithik Roshan, Kiara Advani, N.T. Rama Rao Jr.\n"
     ]
    }
   ],
   "source": [
    "# Cheking random row values of cast and crew column.\n",
    "sent_1 = wiki_df2['Cast and crew'][1]\n",
    "sent_2 = wiki_df2['Cast and crew'][55]\n",
    "sent_3 = wiki_df2['Cast and crew'][42]\n",
    "sent_4 = wiki_df2['Cast and crew'][88]\n",
    "sent_5 = wiki_df2['Cast and crew'][500]\n",
    "print(sent_1)\n",
    "print(\"====================================\")\n",
    "print(sent_2)\n",
    "print(\"====================================\")\n",
    "print(sent_3)\n",
    "print(\"====================================\")\n",
    "print(sent_4)\n",
    "print(\"====================================\")\n",
    "print(sent_5)"
   ]
  },
  {
   "cell_type": "code",
   "execution_count": 91,
   "metadata": {},
   "outputs": [],
   "source": [
    "# Text Preprocessing.\n",
    "preprocessed = []\n",
    "for sentance in wiki_df2['Cast and crew'].values:\n",
    "    \n",
    "    # convert all uppercase string into lowercase\n",
    "    sentance = sentance.lower()\n",
    "    \n",
    "    # removing specific keywords\n",
    "    sentance = re.sub(r\"director\",\"\", sentance)\n",
    "    sentance = re.sub(r\"co-director/screenplay\",\"\", sentance)\n",
    "    sentance = re.sub(r\"co-/screenplay\",\"\", sentance)\n",
    "    sentance = re.sub(r\"screenplay\",\"\", sentance)\n",
    "    sentance = re.sub(r\"director/screenplay\",\"\", sentance)\n",
    "    \n",
    "    # removing special symbol\n",
    "    sentance = re.sub('[^A-Za-z]+', ' ', sentance) \n",
    "    \n",
    "    # removing extra space\n",
    "    sentance = re.sub(' +', ' ', sentance) \n",
    "    \n",
    "    # tokenizing the review by words\n",
    "    sentance = sentance.split() \n",
    "    sentance = ' '.join(sentance)\n",
    "    \n",
    "    # creating a corpus\n",
    "    preprocessed.append(sentance)\n",
    "    \n",
    "wiki_df2[\"Cast and crew\"] = preprocessed\n"
   ]
  },
  {
   "cell_type": "code",
   "execution_count": 92,
   "metadata": {},
   "outputs": [
    {
     "name": "stdout",
     "output_type": "stream",
     "text": [
      "kareena kapoor jaideep ahlawat vijay varma saurabh sachdeva\n",
      "====================================\n",
      "adah sharma yogita bihani sonia balani siddhi idnani\n",
      "====================================\n",
      "bhumi pednekar dolly ahluwalia shibani bedi saloni daini\n",
      "====================================\n",
      "tamannaah bhatia vijay varma neena gupta mrunal thakur\n",
      "====================================\n",
      "hrithik roshan kiara advani n t rama rao jr\n",
      "====================================\n",
      "irrfan khan saba qamar dishita sehgal deepak dobriyal\n",
      "====================================\n"
     ]
    }
   ],
   "source": [
    "# Now again check random row values of cast and crew column after cleaning.\n",
    "sent_1 = wiki_df2['Cast and crew'][1]\n",
    "sent_2 = wiki_df2['Cast and crew'][55]\n",
    "sent_3 = wiki_df2['Cast and crew'][42]\n",
    "sent_4 = wiki_df2['Cast and crew'][88]\n",
    "sent_5 = wiki_df2['Cast and crew'][500]\n",
    "sent_6 = wiki_df2['Cast and crew'][605]\n",
    "print(sent_1)\n",
    "print(\"====================================\")\n",
    "print(sent_2)\n",
    "print(\"====================================\")\n",
    "print(sent_3)\n",
    "print(\"====================================\")\n",
    "print(sent_4)\n",
    "print(\"====================================\")\n",
    "print(sent_5)\n",
    "print(\"====================================\")\n",
    "print(sent_6)\n",
    "print(\"====================================\")"
   ]
  },
  {
   "cell_type": "code",
   "execution_count": 93,
   "metadata": {},
   "outputs": [
    {
     "data": {
      "text/html": [
       "<div>\n",
       "<style scoped>\n",
       "    .dataframe tbody tr th:only-of-type {\n",
       "        vertical-align: middle;\n",
       "    }\n",
       "\n",
       "    .dataframe tbody tr th {\n",
       "        vertical-align: top;\n",
       "    }\n",
       "\n",
       "    .dataframe thead th {\n",
       "        text-align: right;\n",
       "    }\n",
       "</style>\n",
       "<table border=\"1\" class=\"dataframe\">\n",
       "  <thead>\n",
       "    <tr style=\"text-align: right;\">\n",
       "      <th></th>\n",
       "      <th>Title</th>\n",
       "      <th>Cast and crew</th>\n",
       "      <th>Genre</th>\n",
       "      <th>Vote_Average</th>\n",
       "      <th>Vote_Count</th>\n",
       "    </tr>\n",
       "  </thead>\n",
       "  <tbody>\n",
       "    <tr>\n",
       "      <th>0</th>\n",
       "      <td>Jawan</td>\n",
       "      <td>shah rukh khan nayanthara vijay sethupathi dee...</td>\n",
       "      <td>Action, Adventure, Thriller</td>\n",
       "      <td>7.200</td>\n",
       "      <td>225.0</td>\n",
       "    </tr>\n",
       "    <tr>\n",
       "      <th>1</th>\n",
       "      <td>Jaane Jaan</td>\n",
       "      <td>kareena kapoor jaideep ahlawat vijay varma sau...</td>\n",
       "      <td>Crime, Thriller, Drama</td>\n",
       "      <td>7.100</td>\n",
       "      <td>80.0</td>\n",
       "    </tr>\n",
       "    <tr>\n",
       "      <th>2</th>\n",
       "      <td>Jailer</td>\n",
       "      <td>rajinikanth mohanlal shivarajkumar jackie shroff</td>\n",
       "      <td></td>\n",
       "      <td>0.000</td>\n",
       "      <td>0.0</td>\n",
       "    </tr>\n",
       "    <tr>\n",
       "      <th>3</th>\n",
       "      <td>Rocky Aur Rani Kii Prem Kahaani</td>\n",
       "      <td>ranveer singh alia bhatt dharmendra shabana azmi</td>\n",
       "      <td>Comedy, Drama, Family, Romance</td>\n",
       "      <td>6.125</td>\n",
       "      <td>48.0</td>\n",
       "    </tr>\n",
       "    <tr>\n",
       "      <th>4</th>\n",
       "      <td>OMG 2</td>\n",
       "      <td>pankaj tripathi akshay kumar yami gautam pawan...</td>\n",
       "      <td>Comedy, Drama</td>\n",
       "      <td>7.300</td>\n",
       "      <td>41.0</td>\n",
       "    </tr>\n",
       "  </tbody>\n",
       "</table>\n",
       "</div>"
      ],
      "text/plain": [
       "                             Title  \\\n",
       "0                            Jawan   \n",
       "1                       Jaane Jaan   \n",
       "2                           Jailer   \n",
       "3  Rocky Aur Rani Kii Prem Kahaani   \n",
       "4                            OMG 2   \n",
       "\n",
       "                                       Cast and crew  \\\n",
       "0  shah rukh khan nayanthara vijay sethupathi dee...   \n",
       "1  kareena kapoor jaideep ahlawat vijay varma sau...   \n",
       "2   rajinikanth mohanlal shivarajkumar jackie shroff   \n",
       "3   ranveer singh alia bhatt dharmendra shabana azmi   \n",
       "4  pankaj tripathi akshay kumar yami gautam pawan...   \n",
       "\n",
       "                            Genre  Vote_Average  Vote_Count  \n",
       "0     Action, Adventure, Thriller         7.200       225.0  \n",
       "1          Crime, Thriller, Drama         7.100        80.0  \n",
       "2                                         0.000         0.0  \n",
       "3  Comedy, Drama, Family, Romance         6.125        48.0  \n",
       "4                   Comedy, Drama         7.300        41.0  "
      ]
     },
     "execution_count": 93,
     "metadata": {},
     "output_type": "execute_result"
    }
   ],
   "source": [
    "wiki_df2.head()"
   ]
  },
  {
   "cell_type": "code",
   "execution_count": 94,
   "metadata": {},
   "outputs": [],
   "source": [
    "# Text Preprocessing on movie genre column\n",
    "preprocessed = []\n",
    "for sentance in wiki_df2['Genre'].values:\n",
    "    \n",
    "    # convert all uppercase string into lowercase\n",
    "    sentance = sentance.lower()\n",
    "    \n",
    "    # removing special symbol\n",
    "    sentance = re.sub('[^A-Za-z]+', ' ', sentance) \n",
    "    \n",
    "    # removing extra space\n",
    "    sentance = re.sub(' +', ' ', sentance) \n",
    "    \n",
    "    # tokenizing the review by words\n",
    "    sentance = sentance.split() \n",
    "    sentance = ' '.join(sentance)\n",
    "    \n",
    "    # This line adds the cleaned and processed genre string to the preprocessed list.\n",
    "\n",
    "    preprocessed.append(sentance) # Update the 'Genre' column with the preprocessed data:\n",
    "    \n",
    "wiki_df2[\"Genre\"] = preprocessed"
   ]
  },
  {
   "cell_type": "code",
   "execution_count": 95,
   "metadata": {},
   "outputs": [
    {
     "data": {
      "text/html": [
       "<div>\n",
       "<style scoped>\n",
       "    .dataframe tbody tr th:only-of-type {\n",
       "        vertical-align: middle;\n",
       "    }\n",
       "\n",
       "    .dataframe tbody tr th {\n",
       "        vertical-align: top;\n",
       "    }\n",
       "\n",
       "    .dataframe thead th {\n",
       "        text-align: right;\n",
       "    }\n",
       "</style>\n",
       "<table border=\"1\" class=\"dataframe\">\n",
       "  <thead>\n",
       "    <tr style=\"text-align: right;\">\n",
       "      <th></th>\n",
       "      <th>Title</th>\n",
       "      <th>Cast and crew</th>\n",
       "      <th>Genre</th>\n",
       "      <th>Vote_Average</th>\n",
       "      <th>Vote_Count</th>\n",
       "    </tr>\n",
       "  </thead>\n",
       "  <tbody>\n",
       "    <tr>\n",
       "      <th>0</th>\n",
       "      <td>Jawan</td>\n",
       "      <td>shah rukh khan nayanthara vijay sethupathi dee...</td>\n",
       "      <td>action adventure thriller</td>\n",
       "      <td>7.200</td>\n",
       "      <td>225.0</td>\n",
       "    </tr>\n",
       "    <tr>\n",
       "      <th>1</th>\n",
       "      <td>Jaane Jaan</td>\n",
       "      <td>kareena kapoor jaideep ahlawat vijay varma sau...</td>\n",
       "      <td>crime thriller drama</td>\n",
       "      <td>7.100</td>\n",
       "      <td>80.0</td>\n",
       "    </tr>\n",
       "    <tr>\n",
       "      <th>2</th>\n",
       "      <td>Jailer</td>\n",
       "      <td>rajinikanth mohanlal shivarajkumar jackie shroff</td>\n",
       "      <td></td>\n",
       "      <td>0.000</td>\n",
       "      <td>0.0</td>\n",
       "    </tr>\n",
       "    <tr>\n",
       "      <th>3</th>\n",
       "      <td>Rocky Aur Rani Kii Prem Kahaani</td>\n",
       "      <td>ranveer singh alia bhatt dharmendra shabana azmi</td>\n",
       "      <td>comedy drama family romance</td>\n",
       "      <td>6.125</td>\n",
       "      <td>48.0</td>\n",
       "    </tr>\n",
       "    <tr>\n",
       "      <th>4</th>\n",
       "      <td>OMG 2</td>\n",
       "      <td>pankaj tripathi akshay kumar yami gautam pawan...</td>\n",
       "      <td>comedy drama</td>\n",
       "      <td>7.300</td>\n",
       "      <td>41.0</td>\n",
       "    </tr>\n",
       "  </tbody>\n",
       "</table>\n",
       "</div>"
      ],
      "text/plain": [
       "                             Title  \\\n",
       "0                            Jawan   \n",
       "1                       Jaane Jaan   \n",
       "2                           Jailer   \n",
       "3  Rocky Aur Rani Kii Prem Kahaani   \n",
       "4                            OMG 2   \n",
       "\n",
       "                                       Cast and crew  \\\n",
       "0  shah rukh khan nayanthara vijay sethupathi dee...   \n",
       "1  kareena kapoor jaideep ahlawat vijay varma sau...   \n",
       "2   rajinikanth mohanlal shivarajkumar jackie shroff   \n",
       "3   ranveer singh alia bhatt dharmendra shabana azmi   \n",
       "4  pankaj tripathi akshay kumar yami gautam pawan...   \n",
       "\n",
       "                         Genre  Vote_Average  Vote_Count  \n",
       "0    action adventure thriller         7.200       225.0  \n",
       "1         crime thriller drama         7.100        80.0  \n",
       "2                                      0.000         0.0  \n",
       "3  comedy drama family romance         6.125        48.0  \n",
       "4                 comedy drama         7.300        41.0  "
      ]
     },
     "execution_count": 95,
     "metadata": {},
     "output_type": "execute_result"
    }
   ],
   "source": [
    "wiki_df2.head()"
   ]
  },
  {
   "cell_type": "code",
   "execution_count": 96,
   "metadata": {},
   "outputs": [],
   "source": [
    "\n",
    "# Text Preprocessing on title column\n",
    "preprocessed = []\n",
    "for sentance in wiki_df2['Title'].values:\n",
    "    \n",
    "    # convert all uppercase string into lowercase\n",
    "    sentance = sentance.lower()\n",
    "       \n",
    "    # removing extra space\n",
    "    sentance = re.sub(' +', ' ', sentance) \n",
    "    \n",
    "    # tokenizing the review by words\n",
    "    sentance = sentance.split() \n",
    "    sentance = ' '.join(sentance)\n",
    "    \n",
    "    # creating a corpus\n",
    "    preprocessed.append(sentance)\n",
    "    \n",
    "wiki_df2[\"Title\"] = preprocessed"
   ]
  },
  {
   "cell_type": "code",
   "execution_count": 97,
   "metadata": {},
   "outputs": [
    {
     "data": {
      "text/html": [
       "<div>\n",
       "<style scoped>\n",
       "    .dataframe tbody tr th:only-of-type {\n",
       "        vertical-align: middle;\n",
       "    }\n",
       "\n",
       "    .dataframe tbody tr th {\n",
       "        vertical-align: top;\n",
       "    }\n",
       "\n",
       "    .dataframe thead th {\n",
       "        text-align: right;\n",
       "    }\n",
       "</style>\n",
       "<table border=\"1\" class=\"dataframe\">\n",
       "  <thead>\n",
       "    <tr style=\"text-align: right;\">\n",
       "      <th></th>\n",
       "      <th>Title</th>\n",
       "      <th>Cast and crew</th>\n",
       "      <th>Genre</th>\n",
       "      <th>Vote_Average</th>\n",
       "      <th>Vote_Count</th>\n",
       "    </tr>\n",
       "  </thead>\n",
       "  <tbody>\n",
       "    <tr>\n",
       "      <th>0</th>\n",
       "      <td>jawan</td>\n",
       "      <td>shah rukh khan nayanthara vijay sethupathi dee...</td>\n",
       "      <td>action adventure thriller</td>\n",
       "      <td>7.200</td>\n",
       "      <td>225.0</td>\n",
       "    </tr>\n",
       "    <tr>\n",
       "      <th>1</th>\n",
       "      <td>jaane jaan</td>\n",
       "      <td>kareena kapoor jaideep ahlawat vijay varma sau...</td>\n",
       "      <td>crime thriller drama</td>\n",
       "      <td>7.100</td>\n",
       "      <td>80.0</td>\n",
       "    </tr>\n",
       "    <tr>\n",
       "      <th>2</th>\n",
       "      <td>jailer</td>\n",
       "      <td>rajinikanth mohanlal shivarajkumar jackie shroff</td>\n",
       "      <td></td>\n",
       "      <td>0.000</td>\n",
       "      <td>0.0</td>\n",
       "    </tr>\n",
       "    <tr>\n",
       "      <th>3</th>\n",
       "      <td>rocky aur rani kii prem kahaani</td>\n",
       "      <td>ranveer singh alia bhatt dharmendra shabana azmi</td>\n",
       "      <td>comedy drama family romance</td>\n",
       "      <td>6.125</td>\n",
       "      <td>48.0</td>\n",
       "    </tr>\n",
       "    <tr>\n",
       "      <th>4</th>\n",
       "      <td>omg 2</td>\n",
       "      <td>pankaj tripathi akshay kumar yami gautam pawan...</td>\n",
       "      <td>comedy drama</td>\n",
       "      <td>7.300</td>\n",
       "      <td>41.0</td>\n",
       "    </tr>\n",
       "  </tbody>\n",
       "</table>\n",
       "</div>"
      ],
      "text/plain": [
       "                             Title  \\\n",
       "0                            jawan   \n",
       "1                       jaane jaan   \n",
       "2                           jailer   \n",
       "3  rocky aur rani kii prem kahaani   \n",
       "4                            omg 2   \n",
       "\n",
       "                                       Cast and crew  \\\n",
       "0  shah rukh khan nayanthara vijay sethupathi dee...   \n",
       "1  kareena kapoor jaideep ahlawat vijay varma sau...   \n",
       "2   rajinikanth mohanlal shivarajkumar jackie shroff   \n",
       "3   ranveer singh alia bhatt dharmendra shabana azmi   \n",
       "4  pankaj tripathi akshay kumar yami gautam pawan...   \n",
       "\n",
       "                         Genre  Vote_Average  Vote_Count  \n",
       "0    action adventure thriller         7.200       225.0  \n",
       "1         crime thriller drama         7.100        80.0  \n",
       "2                                      0.000         0.0  \n",
       "3  comedy drama family romance         6.125        48.0  \n",
       "4                 comedy drama         7.300        41.0  "
      ]
     },
     "execution_count": 97,
     "metadata": {},
     "output_type": "execute_result"
    }
   ],
   "source": [
    "wiki_df2.head()"
   ]
  },
  {
   "cell_type": "code",
   "execution_count": 98,
   "metadata": {},
   "outputs": [
    {
     "data": {
      "text/html": [
       "<div>\n",
       "<style scoped>\n",
       "    .dataframe tbody tr th:only-of-type {\n",
       "        vertical-align: middle;\n",
       "    }\n",
       "\n",
       "    .dataframe tbody tr th {\n",
       "        vertical-align: top;\n",
       "    }\n",
       "\n",
       "    .dataframe thead th {\n",
       "        text-align: right;\n",
       "    }\n",
       "</style>\n",
       "<table border=\"1\" class=\"dataframe\">\n",
       "  <thead>\n",
       "    <tr style=\"text-align: right;\">\n",
       "      <th></th>\n",
       "      <th>genre</th>\n",
       "      <th>Title</th>\n",
       "      <th>Cast and crew</th>\n",
       "      <th>director</th>\n",
       "      <th>Genre</th>\n",
       "      <th>Vote_Average</th>\n",
       "      <th>Vote_Count</th>\n",
       "    </tr>\n",
       "  </thead>\n",
       "  <tbody>\n",
       "    <tr>\n",
       "      <th>0</th>\n",
       "      <td>Action, Thriller</td>\n",
       "      <td>Jawan</td>\n",
       "      <td>Shah Rukh Khan, Nayanthara, Vijay Sethupathi, ...</td>\n",
       "      <td>Atlee</td>\n",
       "      <td>Action, Adventure, Thriller</td>\n",
       "      <td>7.200</td>\n",
       "      <td>225.0</td>\n",
       "    </tr>\n",
       "    <tr>\n",
       "      <th>1</th>\n",
       "      <td>Crime, Drama, Mystery</td>\n",
       "      <td>Jaane Jaan</td>\n",
       "      <td>Kareena Kapoor, Jaideep Ahlawat, Vijay Varma, ...</td>\n",
       "      <td>Sujoy Ghosh</td>\n",
       "      <td>Crime, Thriller, Drama</td>\n",
       "      <td>7.100</td>\n",
       "      <td>80.0</td>\n",
       "    </tr>\n",
       "    <tr>\n",
       "      <th>2</th>\n",
       "      <td>Action, Comedy, Crime</td>\n",
       "      <td>Jailer</td>\n",
       "      <td>Rajinikanth, Mohanlal, Shivarajkumar, Jackie S...</td>\n",
       "      <td>Nelson Dilipkumar</td>\n",
       "      <td></td>\n",
       "      <td>0.000</td>\n",
       "      <td>0.0</td>\n",
       "    </tr>\n",
       "    <tr>\n",
       "      <th>3</th>\n",
       "      <td>Comedy, Drama, Family</td>\n",
       "      <td>Rocky Aur Rani Kii Prem Kahaani</td>\n",
       "      <td>Ranveer Singh, Alia Bhatt, Dharmendra, Shabana...</td>\n",
       "      <td>Karan Johar</td>\n",
       "      <td>Comedy, Drama, Family, Romance</td>\n",
       "      <td>6.125</td>\n",
       "      <td>48.0</td>\n",
       "    </tr>\n",
       "    <tr>\n",
       "      <th>4</th>\n",
       "      <td>Comedy, Drama</td>\n",
       "      <td>OMG 2</td>\n",
       "      <td>Pankaj Tripathi, Akshay Kumar, Yami Gautam, Pa...</td>\n",
       "      <td>Amit Rai</td>\n",
       "      <td>Comedy, Drama</td>\n",
       "      <td>7.300</td>\n",
       "      <td>41.0</td>\n",
       "    </tr>\n",
       "  </tbody>\n",
       "</table>\n",
       "</div>"
      ],
      "text/plain": [
       "                   genre                            Title  \\\n",
       "0       Action, Thriller                            Jawan   \n",
       "1  Crime, Drama, Mystery                       Jaane Jaan   \n",
       "2  Action, Comedy, Crime                           Jailer   \n",
       "3  Comedy, Drama, Family  Rocky Aur Rani Kii Prem Kahaani   \n",
       "4          Comedy, Drama                            OMG 2   \n",
       "\n",
       "                                       Cast and crew           director  \\\n",
       "0  Shah Rukh Khan, Nayanthara, Vijay Sethupathi, ...              Atlee   \n",
       "1  Kareena Kapoor, Jaideep Ahlawat, Vijay Varma, ...        Sujoy Ghosh   \n",
       "2  Rajinikanth, Mohanlal, Shivarajkumar, Jackie S...  Nelson Dilipkumar   \n",
       "3  Ranveer Singh, Alia Bhatt, Dharmendra, Shabana...        Karan Johar   \n",
       "4  Pankaj Tripathi, Akshay Kumar, Yami Gautam, Pa...           Amit Rai   \n",
       "\n",
       "                            Genre  Vote_Average  Vote_Count  \n",
       "0     Action, Adventure, Thriller         7.200       225.0  \n",
       "1          Crime, Thriller, Drama         7.100        80.0  \n",
       "2                                         0.000         0.0  \n",
       "3  Comedy, Drama, Family, Romance         6.125        48.0  \n",
       "4                   Comedy, Drama         7.300        41.0  "
      ]
     },
     "execution_count": 98,
     "metadata": {},
     "output_type": "execute_result"
    }
   ],
   "source": [
    "df.head()\n"
   ]
  },
  {
   "cell_type": "code",
   "execution_count": 101,
   "metadata": {},
   "outputs": [
    {
     "name": "stdout",
     "output_type": "stream",
     "text": [
      "Columns 'cast' and/or 'director' not found in DataFrame\n",
      "Column 'original_title' not found in DataFrame\n",
      "Column 'genres' not found in DataFrame\n",
      "Column 'vote_average' not found in DataFrame\n",
      "Column 'vote_count' not found in DataFrame\n"
     ]
    }
   ],
   "source": [
    "\n",
    "# Combining cast and director columns\n",
    "if 'cast' in df.columns and 'director' in df.columns:\n",
    "    df[\"Cast and crew\"] = df['cast'].astype(str) + ' ' + df['director'].astype(str)\n",
    "else:\n",
    "    print(\"Columns 'cast' and/or 'director' not found in DataFrame\")\n",
    "\n",
    "# Renaming columns if they exist in the DataFrame\n",
    "rename_dict = {\n",
    "    'original_title': 'Title',\n",
    "    'genres': 'Genre',\n",
    "    'vote_average': 'Vote_Average',\n",
    "    'vote_count': 'Vote_Count'\n",
    "}\n",
    "\n",
    "for old_name, new_name in rename_dict.items():\n",
    "    if old_name in df.columns:\n",
    "        df.rename(columns={old_name: new_name}, inplace=True)\n",
    "    else:\n",
    "        print(f\"Column '{old_name}' not found in DataFrame\")\n",
    "\n",
    "# Converting all specified string columns to lowercase if they exist\n",
    "for col in ['Title', 'Cast and crew', 'Genre']:\n",
    "    if col in df.columns:\n",
    "        df[col] = df[col].str.lower()\n",
    "    else:\n",
    "        print(f\"Column '{col}' not found in DataFrame\")\n",
    "\n",
    "# Re-arranging columns\n",
    "required_columns = ['Title', 'Cast and crew', 'Genre', 'Vote_Average', 'Vote_Count']\n",
    "if all(col in df.columns for col in required_columns):\n",
    "    df = df[required_columns]\n",
    "else:\n",
    "    missing_cols = [col for col in required_columns if col not in df.columns]\n",
    "    print(f\"Missing columns in DataFrame: {missing_cols}\")\n",
    "\n"
   ]
  },
  {
   "cell_type": "code",
   "execution_count": 102,
   "metadata": {},
   "outputs": [
    {
     "data": {
      "text/html": [
       "<div>\n",
       "<style scoped>\n",
       "    .dataframe tbody tr th:only-of-type {\n",
       "        vertical-align: middle;\n",
       "    }\n",
       "\n",
       "    .dataframe tbody tr th {\n",
       "        vertical-align: top;\n",
       "    }\n",
       "\n",
       "    .dataframe thead th {\n",
       "        text-align: right;\n",
       "    }\n",
       "</style>\n",
       "<table border=\"1\" class=\"dataframe\">\n",
       "  <thead>\n",
       "    <tr style=\"text-align: right;\">\n",
       "      <th></th>\n",
       "      <th>Title</th>\n",
       "      <th>Cast and crew</th>\n",
       "      <th>Genre</th>\n",
       "      <th>Vote_Average</th>\n",
       "      <th>Vote_Count</th>\n",
       "    </tr>\n",
       "  </thead>\n",
       "  <tbody>\n",
       "    <tr>\n",
       "      <th>0</th>\n",
       "      <td>jawan</td>\n",
       "      <td>shah rukh khan, nayanthara, vijay sethupathi, ...</td>\n",
       "      <td>action, adventure, thriller</td>\n",
       "      <td>7.200</td>\n",
       "      <td>225.0</td>\n",
       "    </tr>\n",
       "    <tr>\n",
       "      <th>1</th>\n",
       "      <td>jaane jaan</td>\n",
       "      <td>kareena kapoor, jaideep ahlawat, vijay varma, ...</td>\n",
       "      <td>crime, thriller, drama</td>\n",
       "      <td>7.100</td>\n",
       "      <td>80.0</td>\n",
       "    </tr>\n",
       "    <tr>\n",
       "      <th>2</th>\n",
       "      <td>jailer</td>\n",
       "      <td>rajinikanth, mohanlal, shivarajkumar, jackie s...</td>\n",
       "      <td></td>\n",
       "      <td>0.000</td>\n",
       "      <td>0.0</td>\n",
       "    </tr>\n",
       "    <tr>\n",
       "      <th>3</th>\n",
       "      <td>rocky aur rani kii prem kahaani</td>\n",
       "      <td>ranveer singh, alia bhatt, dharmendra, shabana...</td>\n",
       "      <td>comedy, drama, family, romance</td>\n",
       "      <td>6.125</td>\n",
       "      <td>48.0</td>\n",
       "    </tr>\n",
       "    <tr>\n",
       "      <th>4</th>\n",
       "      <td>omg 2</td>\n",
       "      <td>pankaj tripathi, akshay kumar, yami gautam, pa...</td>\n",
       "      <td>comedy, drama</td>\n",
       "      <td>7.300</td>\n",
       "      <td>41.0</td>\n",
       "    </tr>\n",
       "  </tbody>\n",
       "</table>\n",
       "</div>"
      ],
      "text/plain": [
       "                             Title  \\\n",
       "0                            jawan   \n",
       "1                       jaane jaan   \n",
       "2                           jailer   \n",
       "3  rocky aur rani kii prem kahaani   \n",
       "4                            omg 2   \n",
       "\n",
       "                                       Cast and crew  \\\n",
       "0  shah rukh khan, nayanthara, vijay sethupathi, ...   \n",
       "1  kareena kapoor, jaideep ahlawat, vijay varma, ...   \n",
       "2  rajinikanth, mohanlal, shivarajkumar, jackie s...   \n",
       "3  ranveer singh, alia bhatt, dharmendra, shabana...   \n",
       "4  pankaj tripathi, akshay kumar, yami gautam, pa...   \n",
       "\n",
       "                            Genre  Vote_Average  Vote_Count  \n",
       "0     action, adventure, thriller         7.200       225.0  \n",
       "1          crime, thriller, drama         7.100        80.0  \n",
       "2                                         0.000         0.0  \n",
       "3  comedy, drama, family, romance         6.125        48.0  \n",
       "4                   comedy, drama         7.300        41.0  "
      ]
     },
     "execution_count": 102,
     "metadata": {},
     "output_type": "execute_result"
    }
   ],
   "source": [
    "df.head()"
   ]
  },
  {
   "cell_type": "code",
   "execution_count": 103,
   "metadata": {},
   "outputs": [],
   "source": [
    "# Now combine both main and wiki_df2 dataframe into one\n",
    "frame = [wiki_df2,df]\n",
    "final_df = pd.concat(frame).reset_index(drop=True) "
   ]
  },
  {
   "cell_type": "code",
   "execution_count": 104,
   "metadata": {},
   "outputs": [
    {
     "data": {
      "text/html": [
       "<div>\n",
       "<style scoped>\n",
       "    .dataframe tbody tr th:only-of-type {\n",
       "        vertical-align: middle;\n",
       "    }\n",
       "\n",
       "    .dataframe tbody tr th {\n",
       "        vertical-align: top;\n",
       "    }\n",
       "\n",
       "    .dataframe thead th {\n",
       "        text-align: right;\n",
       "    }\n",
       "</style>\n",
       "<table border=\"1\" class=\"dataframe\">\n",
       "  <thead>\n",
       "    <tr style=\"text-align: right;\">\n",
       "      <th></th>\n",
       "      <th>Title</th>\n",
       "      <th>Cast and crew</th>\n",
       "      <th>Genre</th>\n",
       "      <th>Vote_Average</th>\n",
       "      <th>Vote_Count</th>\n",
       "    </tr>\n",
       "  </thead>\n",
       "  <tbody>\n",
       "    <tr>\n",
       "      <th>0</th>\n",
       "      <td>jawan</td>\n",
       "      <td>shah rukh khan nayanthara vijay sethupathi dee...</td>\n",
       "      <td>action adventure thriller</td>\n",
       "      <td>7.200</td>\n",
       "      <td>225.0</td>\n",
       "    </tr>\n",
       "    <tr>\n",
       "      <th>1</th>\n",
       "      <td>jaane jaan</td>\n",
       "      <td>kareena kapoor jaideep ahlawat vijay varma sau...</td>\n",
       "      <td>crime thriller drama</td>\n",
       "      <td>7.100</td>\n",
       "      <td>80.0</td>\n",
       "    </tr>\n",
       "    <tr>\n",
       "      <th>2</th>\n",
       "      <td>jailer</td>\n",
       "      <td>rajinikanth mohanlal shivarajkumar jackie shroff</td>\n",
       "      <td></td>\n",
       "      <td>0.000</td>\n",
       "      <td>0.0</td>\n",
       "    </tr>\n",
       "    <tr>\n",
       "      <th>3</th>\n",
       "      <td>rocky aur rani kii prem kahaani</td>\n",
       "      <td>ranveer singh alia bhatt dharmendra shabana azmi</td>\n",
       "      <td>comedy drama family romance</td>\n",
       "      <td>6.125</td>\n",
       "      <td>48.0</td>\n",
       "    </tr>\n",
       "    <tr>\n",
       "      <th>4</th>\n",
       "      <td>omg 2</td>\n",
       "      <td>pankaj tripathi akshay kumar yami gautam pawan...</td>\n",
       "      <td>comedy drama</td>\n",
       "      <td>7.300</td>\n",
       "      <td>41.0</td>\n",
       "    </tr>\n",
       "  </tbody>\n",
       "</table>\n",
       "</div>"
      ],
      "text/plain": [
       "                             Title  \\\n",
       "0                            jawan   \n",
       "1                       jaane jaan   \n",
       "2                           jailer   \n",
       "3  rocky aur rani kii prem kahaani   \n",
       "4                            omg 2   \n",
       "\n",
       "                                       Cast and crew  \\\n",
       "0  shah rukh khan nayanthara vijay sethupathi dee...   \n",
       "1  kareena kapoor jaideep ahlawat vijay varma sau...   \n",
       "2   rajinikanth mohanlal shivarajkumar jackie shroff   \n",
       "3   ranveer singh alia bhatt dharmendra shabana azmi   \n",
       "4  pankaj tripathi akshay kumar yami gautam pawan...   \n",
       "\n",
       "                         Genre  Vote_Average  Vote_Count  \n",
       "0    action adventure thriller         7.200       225.0  \n",
       "1         crime thriller drama         7.100        80.0  \n",
       "2                                      0.000         0.0  \n",
       "3  comedy drama family romance         6.125        48.0  \n",
       "4                 comedy drama         7.300        41.0  "
      ]
     },
     "execution_count": 104,
     "metadata": {},
     "output_type": "execute_result"
    }
   ],
   "source": [
    "final_df.head()"
   ]
  },
  {
   "cell_type": "markdown",
   "metadata": {},
   "source": [
    "# ML MODEL DEVELOPMENT\n"
   ]
  },
  {
   "cell_type": "code",
   "execution_count": 105,
   "metadata": {},
   "outputs": [
    {
     "data": {
      "text/html": [
       "<div>\n",
       "<style scoped>\n",
       "    .dataframe tbody tr th:only-of-type {\n",
       "        vertical-align: middle;\n",
       "    }\n",
       "\n",
       "    .dataframe tbody tr th {\n",
       "        vertical-align: top;\n",
       "    }\n",
       "\n",
       "    .dataframe thead th {\n",
       "        text-align: right;\n",
       "    }\n",
       "</style>\n",
       "<table border=\"1\" class=\"dataframe\">\n",
       "  <thead>\n",
       "    <tr style=\"text-align: right;\">\n",
       "      <th></th>\n",
       "      <th>Title</th>\n",
       "      <th>Vote_Average</th>\n",
       "      <th>Vote_Count</th>\n",
       "    </tr>\n",
       "  </thead>\n",
       "  <tbody>\n",
       "    <tr>\n",
       "      <th>0</th>\n",
       "      <td>jawan</td>\n",
       "      <td>7.200</td>\n",
       "      <td>225.0</td>\n",
       "    </tr>\n",
       "    <tr>\n",
       "      <th>1</th>\n",
       "      <td>jaane jaan</td>\n",
       "      <td>7.100</td>\n",
       "      <td>80.0</td>\n",
       "    </tr>\n",
       "    <tr>\n",
       "      <th>2</th>\n",
       "      <td>jailer</td>\n",
       "      <td>0.000</td>\n",
       "      <td>0.0</td>\n",
       "    </tr>\n",
       "    <tr>\n",
       "      <th>3</th>\n",
       "      <td>rocky aur rani kii prem kahaani</td>\n",
       "      <td>6.125</td>\n",
       "      <td>48.0</td>\n",
       "    </tr>\n",
       "    <tr>\n",
       "      <th>4</th>\n",
       "      <td>omg 2</td>\n",
       "      <td>7.300</td>\n",
       "      <td>41.0</td>\n",
       "    </tr>\n",
       "  </tbody>\n",
       "</table>\n",
       "</div>"
      ],
      "text/plain": [
       "                             Title  Vote_Average  Vote_Count\n",
       "0                            jawan         7.200       225.0\n",
       "1                       jaane jaan         7.100        80.0\n",
       "2                           jailer         0.000         0.0\n",
       "3  rocky aur rani kii prem kahaani         6.125        48.0\n",
       "4                            omg 2         7.300        41.0"
      ]
     },
     "execution_count": 105,
     "metadata": {},
     "output_type": "execute_result"
    }
   ],
   "source": [
    "# Selecting feature which is needed to build a simple popularity based recomandation\n",
    "p_df = final_df[['Title', 'Vote_Average', 'Vote_Count']]\n",
    "p_df.head()"
   ]
  },
  {
   "cell_type": "code",
   "execution_count": 106,
   "metadata": {},
   "outputs": [],
   "source": [
    "# calculating all the components based IMDB formula\n",
    "v= p_df['Vote_Count']\n",
    "R= p_df['Vote_Average']\n",
    "C= p_df['Vote_Average'].mean()\n",
    "m= p_df['Vote_Count'].quantile(0.70)\n",
    "\n",
    "p_df['Weighted_Average']=((R*v)+ (C*m))/(v+m)\n"
   ]
  },
  {
   "cell_type": "code",
   "execution_count": 109,
   "metadata": {},
   "outputs": [],
   "source": [
    "def get_unique_sorted_movies(df, sort_by='Weighted_Average'):\n",
    "    \"\"\"\n",
    "    This function sorts the DataFrame by the specified column and removes duplicate titles.\n",
    "    \n",
    "    Parameters:\n",
    "    df (pd.DataFrame): DataFrame containing movie data.\n",
    "    sort_by (str): Column name to sort by. Default is 'Weighted_Average'.\n",
    "    \n",
    "    Returns:\n",
    "    pd.DataFrame: Sorted DataFrame with unique movie titles.\n",
    "    \"\"\"\n",
    "    # Ensure the DataFrame contains the necessary columns\n",
    "    if 'Title' not in df.columns or sort_by not in df.columns:\n",
    "        raise ValueError(f\"DataFrame must contain 'Title' and '{sort_by}' columns\")\n",
    "\n",
    "    # Sort the DataFrame by the specified column\n",
    "    sorted_df = df.sort_values(by=sort_by, ascending=False)\n",
    "\n",
    "    # Remove duplicates based on the Title column, keeping the first occurrence\n",
    "    unique_sorted_df = sorted_df.drop_duplicates(subset='Title', keep='first')\n",
    "\n",
    "    return unique_sorted_df"
   ]
  },
  {
   "cell_type": "code",
   "execution_count": 110,
   "metadata": {},
   "outputs": [],
   "source": [
    "popular_movies = get_unique_sorted_movies(p_df, sort_by='Weighted_Average')"
   ]
  },
  {
   "cell_type": "code",
   "execution_count": 111,
   "metadata": {},
   "outputs": [
    {
     "data": {
      "text/html": [
       "<div>\n",
       "<style scoped>\n",
       "    .dataframe tbody tr th:only-of-type {\n",
       "        vertical-align: middle;\n",
       "    }\n",
       "\n",
       "    .dataframe tbody tr th {\n",
       "        vertical-align: top;\n",
       "    }\n",
       "\n",
       "    .dataframe thead th {\n",
       "        text-align: right;\n",
       "    }\n",
       "</style>\n",
       "<table border=\"1\" class=\"dataframe\">\n",
       "  <thead>\n",
       "    <tr style=\"text-align: right;\">\n",
       "      <th></th>\n",
       "      <th>Title</th>\n",
       "      <th>Vote_Average</th>\n",
       "      <th>Vote_Count</th>\n",
       "      <th>Weighted_Average</th>\n",
       "    </tr>\n",
       "  </thead>\n",
       "  <tbody>\n",
       "    <tr>\n",
       "      <th>111</th>\n",
       "      <td>dilwale dulhania le jayenge</td>\n",
       "      <td>8.537</td>\n",
       "      <td>4403.0</td>\n",
       "      <td>8.508555</td>\n",
       "    </tr>\n",
       "    <tr>\n",
       "      <th>1372</th>\n",
       "      <td>city lights</td>\n",
       "      <td>8.287</td>\n",
       "      <td>2090.0</td>\n",
       "      <td>8.232101</td>\n",
       "    </tr>\n",
       "    <tr>\n",
       "      <th>751</th>\n",
       "      <td>joker</td>\n",
       "      <td>8.160</td>\n",
       "      <td>24831.0</td>\n",
       "      <td>8.155496</td>\n",
       "    </tr>\n",
       "    <tr>\n",
       "      <th>2192</th>\n",
       "      <td>taxi driver</td>\n",
       "      <td>8.150</td>\n",
       "      <td>11904.0</td>\n",
       "      <td>8.140653</td>\n",
       "    </tr>\n",
       "    <tr>\n",
       "      <th>2211</th>\n",
       "      <td>lion</td>\n",
       "      <td>8.071</td>\n",
       "      <td>6426.0</td>\n",
       "      <td>8.054197</td>\n",
       "    </tr>\n",
       "    <tr>\n",
       "      <th>236</th>\n",
       "      <td>dream girl</td>\n",
       "      <td>8.238</td>\n",
       "      <td>507.0</td>\n",
       "      <td>8.027058</td>\n",
       "    </tr>\n",
       "    <tr>\n",
       "      <th>2570</th>\n",
       "      <td>new york</td>\n",
       "      <td>8.121</td>\n",
       "      <td>1070.0</td>\n",
       "      <td>8.021255</td>\n",
       "    </tr>\n",
       "    <tr>\n",
       "      <th>38</th>\n",
       "      <td>my name is khan</td>\n",
       "      <td>8.038</td>\n",
       "      <td>1270.0</td>\n",
       "      <td>7.955918</td>\n",
       "    </tr>\n",
       "    <tr>\n",
       "      <th>10</th>\n",
       "      <td>3 idiots</td>\n",
       "      <td>7.997</td>\n",
       "      <td>2301.0</td>\n",
       "      <td>7.951765</td>\n",
       "    </tr>\n",
       "    <tr>\n",
       "      <th>3078</th>\n",
       "      <td>aks</td>\n",
       "      <td>7.948</td>\n",
       "      <td>4054.0</td>\n",
       "      <td>7.922598</td>\n",
       "    </tr>\n",
       "  </tbody>\n",
       "</table>\n",
       "</div>"
      ],
      "text/plain": [
       "                            Title  Vote_Average  Vote_Count  Weighted_Average\n",
       "111   dilwale dulhania le jayenge         8.537      4403.0          8.508555\n",
       "1372                  city lights         8.287      2090.0          8.232101\n",
       "751                         joker         8.160     24831.0          8.155496\n",
       "2192                  taxi driver         8.150     11904.0          8.140653\n",
       "2211                         lion         8.071      6426.0          8.054197\n",
       "236                    dream girl         8.238       507.0          8.027058\n",
       "2570                     new york         8.121      1070.0          8.021255\n",
       "38                my name is khan         8.038      1270.0          7.955918\n",
       "10                       3 idiots         7.997      2301.0          7.951765\n",
       "3078                          aks         7.948      4054.0          7.922598"
      ]
     },
     "execution_count": 111,
     "metadata": {},
     "output_type": "execute_result"
    }
   ],
   "source": [
    "popular_movies.head(10)"
   ]
  },
  {
   "cell_type": "code",
   "execution_count": 112,
   "metadata": {},
   "outputs": [],
   "source": [
    "# Save preprocessed data\n",
    "p_df.to_csv('preprocessed_movies_hindi.csv', index=False)\n",
    "popular_movies.head(10).to_csv('top_10_popular_movies_hindi.csv', index=False)"
   ]
  },
  {
   "cell_type": "code",
   "execution_count": 113,
   "metadata": {},
   "outputs": [
    {
     "data": {
      "text/html": [
       "<div>\n",
       "<style scoped>\n",
       "    .dataframe tbody tr th:only-of-type {\n",
       "        vertical-align: middle;\n",
       "    }\n",
       "\n",
       "    .dataframe tbody tr th {\n",
       "        vertical-align: top;\n",
       "    }\n",
       "\n",
       "    .dataframe thead th {\n",
       "        text-align: right;\n",
       "    }\n",
       "</style>\n",
       "<table border=\"1\" class=\"dataframe\">\n",
       "  <thead>\n",
       "    <tr style=\"text-align: right;\">\n",
       "      <th></th>\n",
       "      <th>Title</th>\n",
       "      <th>Cast and crew</th>\n",
       "      <th>Genre</th>\n",
       "      <th>Vote_Average</th>\n",
       "      <th>Vote_Count</th>\n",
       "    </tr>\n",
       "  </thead>\n",
       "  <tbody>\n",
       "    <tr>\n",
       "      <th>0</th>\n",
       "      <td>jawan</td>\n",
       "      <td>shah rukh khan nayanthara vijay sethupathi dee...</td>\n",
       "      <td>action adventure thriller</td>\n",
       "      <td>7.200</td>\n",
       "      <td>225.0</td>\n",
       "    </tr>\n",
       "    <tr>\n",
       "      <th>1</th>\n",
       "      <td>jaane jaan</td>\n",
       "      <td>kareena kapoor jaideep ahlawat vijay varma sau...</td>\n",
       "      <td>crime thriller drama</td>\n",
       "      <td>7.100</td>\n",
       "      <td>80.0</td>\n",
       "    </tr>\n",
       "    <tr>\n",
       "      <th>2</th>\n",
       "      <td>jailer</td>\n",
       "      <td>rajinikanth mohanlal shivarajkumar jackie shroff</td>\n",
       "      <td></td>\n",
       "      <td>0.000</td>\n",
       "      <td>0.0</td>\n",
       "    </tr>\n",
       "    <tr>\n",
       "      <th>3</th>\n",
       "      <td>rocky aur rani kii prem kahaani</td>\n",
       "      <td>ranveer singh alia bhatt dharmendra shabana azmi</td>\n",
       "      <td>comedy drama family romance</td>\n",
       "      <td>6.125</td>\n",
       "      <td>48.0</td>\n",
       "    </tr>\n",
       "    <tr>\n",
       "      <th>4</th>\n",
       "      <td>omg 2</td>\n",
       "      <td>pankaj tripathi akshay kumar yami gautam pawan...</td>\n",
       "      <td>comedy drama</td>\n",
       "      <td>7.300</td>\n",
       "      <td>41.0</td>\n",
       "    </tr>\n",
       "  </tbody>\n",
       "</table>\n",
       "</div>"
      ],
      "text/plain": [
       "                             Title  \\\n",
       "0                            jawan   \n",
       "1                       jaane jaan   \n",
       "2                           jailer   \n",
       "3  rocky aur rani kii prem kahaani   \n",
       "4                            omg 2   \n",
       "\n",
       "                                       Cast and crew  \\\n",
       "0  shah rukh khan nayanthara vijay sethupathi dee...   \n",
       "1  kareena kapoor jaideep ahlawat vijay varma sau...   \n",
       "2   rajinikanth mohanlal shivarajkumar jackie shroff   \n",
       "3   ranveer singh alia bhatt dharmendra shabana azmi   \n",
       "4  pankaj tripathi akshay kumar yami gautam pawan...   \n",
       "\n",
       "                         Genre  Vote_Average  Vote_Count  \n",
       "0    action adventure thriller         7.200       225.0  \n",
       "1         crime thriller drama         7.100        80.0  \n",
       "2                                      0.000         0.0  \n",
       "3  comedy drama family romance         6.125        48.0  \n",
       "4                 comedy drama         7.300        41.0  "
      ]
     },
     "execution_count": 113,
     "metadata": {},
     "output_type": "execute_result"
    }
   ],
   "source": [
    "final_df.head()"
   ]
  },
  {
   "cell_type": "markdown",
   "metadata": {},
   "source": [
    "## 2. Content Based Recommender"
   ]
  },
  {
   "cell_type": "code",
   "execution_count": 114,
   "metadata": {},
   "outputs": [],
   "source": [
    "# concatinate all these columns and create one seprate column for them\n",
    "final_df['Combined_Features'] = final_df['Cast and crew'] +' '+ final_df['Genre']"
   ]
  },
  {
   "cell_type": "code",
   "execution_count": 115,
   "metadata": {},
   "outputs": [
    {
     "data": {
      "text/plain": [
       "0    shah rukh khan nayanthara vijay sethupathi dee...\n",
       "1    kareena kapoor jaideep ahlawat vijay varma sau...\n",
       "2    rajinikanth mohanlal shivarajkumar jackie shroff \n",
       "3    ranveer singh alia bhatt dharmendra shabana az...\n",
       "4    pankaj tripathi akshay kumar yami gautam pawan...\n",
       "Name: Combined_Features, dtype: object"
      ]
     },
     "execution_count": 115,
     "metadata": {},
     "output_type": "execute_result"
    }
   ],
   "source": [
    "final_df['Combined_Features'].head()"
   ]
  },
  {
   "cell_type": "code",
   "execution_count": 116,
   "metadata": {},
   "outputs": [],
   "source": [
    "# Create count matrix from this new combined column\n",
    "from sklearn.feature_extraction.text import CountVectorizer\n",
    "cv = CountVectorizer()\n",
    "count_matrix = cv.fit_transform(final_df[\"Combined_Features\"])"
   ]
  },
  {
   "cell_type": "code",
   "execution_count": 117,
   "metadata": {},
   "outputs": [],
   "source": [
    "# Now Compute the Cosine Similarity based on the count_matrix\n",
    "from sklearn.metrics.pairwise import cosine_similarity\n",
    "cosine_sim = cosine_similarity(count_matrix)"
   ]
  },
  {
   "cell_type": "code",
   "execution_count": 120,
   "metadata": {},
   "outputs": [],
   "source": [
    "# # This Function takes movie title as input and return 15 most similar movies.\n",
    "# # This function is also capable for correcting user input spell.\n",
    "\n",
    "\n",
    "def get_recomandation_contentBase(title):\n",
    "    # Converting uppercase into lower - ensure case-insensitive matching\n",
    "    title = title.lower()\n",
    "    \n",
    "    # Correcting user input spell (close match from our movie list) - also ensures spell checking\n",
    "    close_matches = get_close_matches(title, final_df['Title'].str.lower().values, n=1, cutoff=0.6)\n",
    "    if not close_matches:\n",
    "        return \"No close matches found.\"\n",
    "    \n",
    "    title = close_matches[0]\n",
    "    \n",
    "    # Get the index of the movie that matches the title\n",
    "    idx = final_df['Title'].str.lower()[final_df['Title'].str.lower() == title].index[0]\n",
    "    \n",
    "    # Get the pairwise similarity scores of all movies with that movie\n",
    "    sim_scores = list(enumerate(cosine_sim[idx]))\n",
    "    \n",
    "    # Sort the movies based on the similarity scores\n",
    "    sim_scores = sorted(sim_scores, key=lambda x: x[1], reverse=True)\n",
    "    \n",
    "    # Get the scores of the 15 most similar movies, excluding the input movie\n",
    "    sim_scores = [x for x in sim_scores if x[0] != idx][:15]\n",
    "    \n",
    "    # Ensure unique movie titles in the recommendations\n",
    "    seen_titles = set()\n",
    "    unique_recommendations = []\n",
    "    for i in sim_scores:\n",
    "        movie_index = i[0]\n",
    "        movie_title = final_df['Title'].iloc[movie_index]\n",
    "        if movie_title not in seen_titles:\n",
    "            seen_titles.add(movie_title)\n",
    "            unique_recommendations.append(movie_title)\n",
    "    \n",
    "    for movie in unique_recommendations:\n",
    "        print(movie)"
   ]
  },
  {
   "cell_type": "code",
   "execution_count": 121,
   "metadata": {},
   "outputs": [
    {
     "name": "stdout",
     "output_type": "stream",
     "text": [
      "zindagi na milegi dobara\n",
      "namastey london\n",
      "dev.d\n",
      "mujhse dosti karoge!\n",
      "mere brother ki dulhan\n",
      "honeymoon travels pvt. ltd.\n",
      "na tum jaano na hum\n",
      "the sky is pink\n",
      "luck by chance\n"
     ]
    }
   ],
   "source": [
    "# Now lets make predictions like \n",
    "get_recomandation_contentBase(\"Zindagi Na Milegi Dobara\")"
   ]
  },
  {
   "cell_type": "code",
   "execution_count": 122,
   "metadata": {},
   "outputs": [],
   "source": [
    "final_df.to_csv('final_movies_hindi.csv', index=False)"
   ]
  },
  {
   "cell_type": "code",
   "execution_count": 123,
   "metadata": {},
   "outputs": [],
   "source": [
    "np.save('cosine_sim_bollywood.npy', cosine_sim)"
   ]
  },
  {
   "cell_type": "markdown",
   "metadata": {},
   "source": [
    "## 3. Collaborative filtering"
   ]
  },
  {
   "cell_type": "code",
   "execution_count": null,
   "metadata": {},
   "outputs": [],
   "source": []
  }
 ],
 "metadata": {
  "kernelspec": {
   "display_name": "Python 3",
   "language": "python",
   "name": "python3"
  },
  "language_info": {
   "codemirror_mode": {
    "name": "ipython",
    "version": 3
   },
   "file_extension": ".py",
   "mimetype": "text/x-python",
   "name": "python",
   "nbconvert_exporter": "python",
   "pygments_lexer": "ipython3",
   "version": "3.12.3"
  }
 },
 "nbformat": 4,
 "nbformat_minor": 2
}
