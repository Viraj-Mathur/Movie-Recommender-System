{
 "cells": [
  {
   "cell_type": "code",
   "execution_count": 2,
   "metadata": {},
   "outputs": [],
   "source": [
    "# Import libraries\n",
    "import numpy as np\n",
    "import pandas as pd\n",
    "import re\n",
    "from tqdm import tqdm\n",
    "import seaborn as sns\n",
    "import matplotlib.pyplot as plt\n",
    "from sklearn.metrics.pairwise import cosine_similarity\n",
    "from difflib import get_close_matches\n",
    "import warnings\n",
    "warnings.filterwarnings('ignore')"
   ]
  },
  {
   "cell_type": "code",
   "execution_count": 30,
   "metadata": {},
   "outputs": [
    {
     "data": {
      "text/html": [
       "<div>\n",
       "<style scoped>\n",
       "    .dataframe tbody tr th:only-of-type {\n",
       "        vertical-align: middle;\n",
       "    }\n",
       "\n",
       "    .dataframe tbody tr th {\n",
       "        vertical-align: top;\n",
       "    }\n",
       "\n",
       "    .dataframe thead th {\n",
       "        text-align: right;\n",
       "    }\n",
       "</style>\n",
       "<table border=\"1\" class=\"dataframe\">\n",
       "  <thead>\n",
       "    <tr style=\"text-align: right;\">\n",
       "      <th></th>\n",
       "      <th>title_x</th>\n",
       "      <th>imdb_id</th>\n",
       "      <th>poster_path</th>\n",
       "      <th>wiki_link</th>\n",
       "      <th>title_y</th>\n",
       "      <th>original_title</th>\n",
       "      <th>is_adult</th>\n",
       "      <th>year_of_release</th>\n",
       "      <th>runtime</th>\n",
       "      <th>genres</th>\n",
       "      <th>imdb_rating</th>\n",
       "      <th>imdb_votes</th>\n",
       "      <th>story</th>\n",
       "      <th>summary</th>\n",
       "      <th>tagline</th>\n",
       "      <th>actors</th>\n",
       "      <th>wins_nominations</th>\n",
       "      <th>release_date</th>\n",
       "    </tr>\n",
       "  </thead>\n",
       "  <tbody>\n",
       "    <tr>\n",
       "      <th>0</th>\n",
       "      <td>Uri: The Surgical Strike</td>\n",
       "      <td>tt8291224</td>\n",
       "      <td>https://upload.wikimedia.org/wikipedia/en/thum...</td>\n",
       "      <td>https://en.wikipedia.org/wiki/Uri:_The_Surgica...</td>\n",
       "      <td>Uri: The Surgical Strike</td>\n",
       "      <td>Uri: The Surgical Strike</td>\n",
       "      <td>0</td>\n",
       "      <td>2019</td>\n",
       "      <td>138</td>\n",
       "      <td>Action|Drama|War</td>\n",
       "      <td>8.4</td>\n",
       "      <td>35112.0</td>\n",
       "      <td>Divided over five chapters  the film chronicle...</td>\n",
       "      <td>Indian army special forces execute a covert op...</td>\n",
       "      <td>NaN</td>\n",
       "      <td>Vicky Kaushal|Paresh Rawal|Mohit Raina|Yami Ga...</td>\n",
       "      <td>4 wins</td>\n",
       "      <td>11 January 2019 (USA)</td>\n",
       "    </tr>\n",
       "    <tr>\n",
       "      <th>1</th>\n",
       "      <td>Battalion 609</td>\n",
       "      <td>tt9472208</td>\n",
       "      <td>NaN</td>\n",
       "      <td>https://en.wikipedia.org/wiki/Battalion_609</td>\n",
       "      <td>Battalion 609</td>\n",
       "      <td>Battalion 609</td>\n",
       "      <td>0</td>\n",
       "      <td>2019</td>\n",
       "      <td>131</td>\n",
       "      <td>War</td>\n",
       "      <td>4.1</td>\n",
       "      <td>73.0</td>\n",
       "      <td>The story revolves around a cricket match betw...</td>\n",
       "      <td>The story of Battalion 609 revolves around a c...</td>\n",
       "      <td>NaN</td>\n",
       "      <td>Vicky Ahuja|Shoaib Ibrahim|Shrikant Kamat|Elen...</td>\n",
       "      <td>NaN</td>\n",
       "      <td>11 January 2019 (India)</td>\n",
       "    </tr>\n",
       "    <tr>\n",
       "      <th>2</th>\n",
       "      <td>The Accidental Prime Minister (film)</td>\n",
       "      <td>tt6986710</td>\n",
       "      <td>https://upload.wikimedia.org/wikipedia/en/thum...</td>\n",
       "      <td>https://en.wikipedia.org/wiki/The_Accidental_P...</td>\n",
       "      <td>The Accidental Prime Minister</td>\n",
       "      <td>The Accidental Prime Minister</td>\n",
       "      <td>0</td>\n",
       "      <td>2019</td>\n",
       "      <td>112</td>\n",
       "      <td>Biography|Drama</td>\n",
       "      <td>6.1</td>\n",
       "      <td>5549.0</td>\n",
       "      <td>Based on the memoir by Indian policy analyst S...</td>\n",
       "      <td>Explores Manmohan Singh's tenure as the Prime ...</td>\n",
       "      <td>NaN</td>\n",
       "      <td>Anupam Kher|Akshaye Khanna|Aahana Kumra|Atul S...</td>\n",
       "      <td>NaN</td>\n",
       "      <td>11 January 2019 (USA)</td>\n",
       "    </tr>\n",
       "    <tr>\n",
       "      <th>3</th>\n",
       "      <td>Why Cheat India</td>\n",
       "      <td>tt8108208</td>\n",
       "      <td>https://upload.wikimedia.org/wikipedia/en/thum...</td>\n",
       "      <td>https://en.wikipedia.org/wiki/Why_Cheat_India</td>\n",
       "      <td>Why Cheat India</td>\n",
       "      <td>Why Cheat India</td>\n",
       "      <td>0</td>\n",
       "      <td>2019</td>\n",
       "      <td>121</td>\n",
       "      <td>Crime|Drama</td>\n",
       "      <td>6.0</td>\n",
       "      <td>1891.0</td>\n",
       "      <td>The movie focuses on existing malpractices in ...</td>\n",
       "      <td>The movie focuses on existing malpractices in ...</td>\n",
       "      <td>NaN</td>\n",
       "      <td>Emraan Hashmi|Shreya Dhanwanthary|Snighdadeep ...</td>\n",
       "      <td>NaN</td>\n",
       "      <td>18 January 2019 (USA)</td>\n",
       "    </tr>\n",
       "    <tr>\n",
       "      <th>4</th>\n",
       "      <td>Evening Shadows</td>\n",
       "      <td>tt6028796</td>\n",
       "      <td>NaN</td>\n",
       "      <td>https://en.wikipedia.org/wiki/Evening_Shadows</td>\n",
       "      <td>Evening Shadows</td>\n",
       "      <td>Evening Shadows</td>\n",
       "      <td>0</td>\n",
       "      <td>2018</td>\n",
       "      <td>102</td>\n",
       "      <td>Drama</td>\n",
       "      <td>7.3</td>\n",
       "      <td>280.0</td>\n",
       "      <td>While gay rights and marriage equality has bee...</td>\n",
       "      <td>Under the 'Evening Shadows'  truth often plays...</td>\n",
       "      <td>NaN</td>\n",
       "      <td>Mona Ambegaonkar|Ananth Narayan Mahadevan|Deva...</td>\n",
       "      <td>17 wins &amp; 1 nomination</td>\n",
       "      <td>11 January 2019 (India)</td>\n",
       "    </tr>\n",
       "  </tbody>\n",
       "</table>\n",
       "</div>"
      ],
      "text/plain": [
       "                                title_x    imdb_id  \\\n",
       "0              Uri: The Surgical Strike  tt8291224   \n",
       "1                         Battalion 609  tt9472208   \n",
       "2  The Accidental Prime Minister (film)  tt6986710   \n",
       "3                       Why Cheat India  tt8108208   \n",
       "4                       Evening Shadows  tt6028796   \n",
       "\n",
       "                                         poster_path  \\\n",
       "0  https://upload.wikimedia.org/wikipedia/en/thum...   \n",
       "1                                                NaN   \n",
       "2  https://upload.wikimedia.org/wikipedia/en/thum...   \n",
       "3  https://upload.wikimedia.org/wikipedia/en/thum...   \n",
       "4                                                NaN   \n",
       "\n",
       "                                           wiki_link  \\\n",
       "0  https://en.wikipedia.org/wiki/Uri:_The_Surgica...   \n",
       "1        https://en.wikipedia.org/wiki/Battalion_609   \n",
       "2  https://en.wikipedia.org/wiki/The_Accidental_P...   \n",
       "3      https://en.wikipedia.org/wiki/Why_Cheat_India   \n",
       "4      https://en.wikipedia.org/wiki/Evening_Shadows   \n",
       "\n",
       "                         title_y                 original_title  is_adult  \\\n",
       "0       Uri: The Surgical Strike       Uri: The Surgical Strike         0   \n",
       "1                  Battalion 609                  Battalion 609         0   \n",
       "2  The Accidental Prime Minister  The Accidental Prime Minister         0   \n",
       "3                Why Cheat India                Why Cheat India         0   \n",
       "4                Evening Shadows                Evening Shadows         0   \n",
       "\n",
       "  year_of_release runtime            genres  imdb_rating  imdb_votes  \\\n",
       "0            2019     138  Action|Drama|War          8.4     35112.0   \n",
       "1            2019     131               War          4.1        73.0   \n",
       "2            2019     112   Biography|Drama          6.1      5549.0   \n",
       "3            2019     121       Crime|Drama          6.0      1891.0   \n",
       "4            2018     102             Drama          7.3       280.0   \n",
       "\n",
       "                                               story  \\\n",
       "0  Divided over five chapters  the film chronicle...   \n",
       "1  The story revolves around a cricket match betw...   \n",
       "2  Based on the memoir by Indian policy analyst S...   \n",
       "3  The movie focuses on existing malpractices in ...   \n",
       "4  While gay rights and marriage equality has bee...   \n",
       "\n",
       "                                             summary tagline  \\\n",
       "0  Indian army special forces execute a covert op...     NaN   \n",
       "1  The story of Battalion 609 revolves around a c...     NaN   \n",
       "2  Explores Manmohan Singh's tenure as the Prime ...     NaN   \n",
       "3  The movie focuses on existing malpractices in ...     NaN   \n",
       "4  Under the 'Evening Shadows'  truth often plays...     NaN   \n",
       "\n",
       "                                              actors        wins_nominations  \\\n",
       "0  Vicky Kaushal|Paresh Rawal|Mohit Raina|Yami Ga...                  4 wins   \n",
       "1  Vicky Ahuja|Shoaib Ibrahim|Shrikant Kamat|Elen...                     NaN   \n",
       "2  Anupam Kher|Akshaye Khanna|Aahana Kumra|Atul S...                     NaN   \n",
       "3  Emraan Hashmi|Shreya Dhanwanthary|Snighdadeep ...                     NaN   \n",
       "4  Mona Ambegaonkar|Ananth Narayan Mahadevan|Deva...  17 wins & 1 nomination   \n",
       "\n",
       "              release_date  \n",
       "0    11 January 2019 (USA)  \n",
       "1  11 January 2019 (India)  \n",
       "2    11 January 2019 (USA)  \n",
       "3    18 January 2019 (USA)  \n",
       "4  11 January 2019 (India)  "
      ]
     },
     "execution_count": 30,
     "metadata": {},
     "output_type": "execute_result"
    }
   ],
   "source": [
    "# Importing dataset\n",
    "# raw_data = pd.read_csv(\"Data/hindi_movies_dataset.csv\")\n",
    "raw_data = pd.read_csv(\"Data/bollywood_full.csv\")\n",
    "raw_data.head(5)"
   ]
  },
  {
   "cell_type": "code",
   "execution_count": 31,
   "metadata": {},
   "outputs": [
    {
     "data": {
      "text/html": [
       "<div>\n",
       "<style scoped>\n",
       "    .dataframe tbody tr th:only-of-type {\n",
       "        vertical-align: middle;\n",
       "    }\n",
       "\n",
       "    .dataframe tbody tr th {\n",
       "        vertical-align: top;\n",
       "    }\n",
       "\n",
       "    .dataframe thead th {\n",
       "        text-align: right;\n",
       "    }\n",
       "</style>\n",
       "<table border=\"1\" class=\"dataframe\">\n",
       "  <thead>\n",
       "    <tr style=\"text-align: right;\">\n",
       "      <th></th>\n",
       "      <th>is_adult</th>\n",
       "      <th>imdb_rating</th>\n",
       "      <th>imdb_votes</th>\n",
       "    </tr>\n",
       "  </thead>\n",
       "  <tbody>\n",
       "    <tr>\n",
       "      <th>count</th>\n",
       "      <td>4330.0</td>\n",
       "      <td>4317.000000</td>\n",
       "      <td>4317.000000</td>\n",
       "    </tr>\n",
       "    <tr>\n",
       "      <th>mean</th>\n",
       "      <td>0.0</td>\n",
       "      <td>5.911744</td>\n",
       "      <td>2387.874913</td>\n",
       "    </tr>\n",
       "    <tr>\n",
       "      <th>std</th>\n",
       "      <td>0.0</td>\n",
       "      <td>1.330077</td>\n",
       "      <td>9404.126400</td>\n",
       "    </tr>\n",
       "    <tr>\n",
       "      <th>min</th>\n",
       "      <td>0.0</td>\n",
       "      <td>0.000000</td>\n",
       "      <td>0.000000</td>\n",
       "    </tr>\n",
       "    <tr>\n",
       "      <th>25%</th>\n",
       "      <td>0.0</td>\n",
       "      <td>5.100000</td>\n",
       "      <td>32.000000</td>\n",
       "    </tr>\n",
       "    <tr>\n",
       "      <th>50%</th>\n",
       "      <td>0.0</td>\n",
       "      <td>6.100000</td>\n",
       "      <td>131.000000</td>\n",
       "    </tr>\n",
       "    <tr>\n",
       "      <th>75%</th>\n",
       "      <td>0.0</td>\n",
       "      <td>6.900000</td>\n",
       "      <td>966.000000</td>\n",
       "    </tr>\n",
       "    <tr>\n",
       "      <th>max</th>\n",
       "      <td>0.0</td>\n",
       "      <td>9.400000</td>\n",
       "      <td>310481.000000</td>\n",
       "    </tr>\n",
       "  </tbody>\n",
       "</table>\n",
       "</div>"
      ],
      "text/plain": [
       "       is_adult  imdb_rating     imdb_votes\n",
       "count    4330.0  4317.000000    4317.000000\n",
       "mean        0.0     5.911744    2387.874913\n",
       "std         0.0     1.330077    9404.126400\n",
       "min         0.0     0.000000       0.000000\n",
       "25%         0.0     5.100000      32.000000\n",
       "50%         0.0     6.100000     131.000000\n",
       "75%         0.0     6.900000     966.000000\n",
       "max         0.0     9.400000  310481.000000"
      ]
     },
     "execution_count": 31,
     "metadata": {},
     "output_type": "execute_result"
    }
   ],
   "source": [
    "raw_data.describe()"
   ]
  },
  {
   "cell_type": "code",
   "execution_count": 32,
   "metadata": {},
   "outputs": [
    {
     "data": {
      "text/plain": [
       "(4330, 18)"
      ]
     },
     "execution_count": 32,
     "metadata": {},
     "output_type": "execute_result"
    }
   ],
   "source": [
    "# Total number of data points and columns\n",
    "raw_data.shape"
   ]
  },
  {
   "cell_type": "code",
   "execution_count": 33,
   "metadata": {},
   "outputs": [
    {
     "data": {
      "text/plain": [
       "Index(['title_x', 'imdb_id', 'poster_path', 'wiki_link', 'title_y',\n",
       "       'original_title', 'is_adult', 'year_of_release', 'runtime', 'genres',\n",
       "       'imdb_rating', 'imdb_votes', 'story', 'summary', 'tagline', 'actors',\n",
       "       'wins_nominations', 'release_date'],\n",
       "      dtype='object')"
      ]
     },
     "execution_count": 33,
     "metadata": {},
     "output_type": "execute_result"
    }
   ],
   "source": [
    "raw_data.columns"
   ]
  },
  {
   "cell_type": "code",
   "execution_count": 34,
   "metadata": {},
   "outputs": [
    {
     "data": {
      "text/html": [
       "<div>\n",
       "<style scoped>\n",
       "    .dataframe tbody tr th:only-of-type {\n",
       "        vertical-align: middle;\n",
       "    }\n",
       "\n",
       "    .dataframe tbody tr th {\n",
       "        vertical-align: top;\n",
       "    }\n",
       "\n",
       "    .dataframe thead th {\n",
       "        text-align: right;\n",
       "    }\n",
       "</style>\n",
       "<table border=\"1\" class=\"dataframe\">\n",
       "  <thead>\n",
       "    <tr style=\"text-align: right;\">\n",
       "      <th></th>\n",
       "      <th>title_x</th>\n",
       "      <th>imdb_id</th>\n",
       "      <th>poster_path</th>\n",
       "      <th>wiki_link</th>\n",
       "      <th>title_y</th>\n",
       "      <th>original_title</th>\n",
       "      <th>is_adult</th>\n",
       "      <th>year_of_release</th>\n",
       "      <th>runtime</th>\n",
       "      <th>genres</th>\n",
       "      <th>imdb_rating</th>\n",
       "      <th>imdb_votes</th>\n",
       "      <th>story</th>\n",
       "      <th>summary</th>\n",
       "      <th>tagline</th>\n",
       "      <th>actors</th>\n",
       "      <th>wins_nominations</th>\n",
       "      <th>release_date</th>\n",
       "    </tr>\n",
       "  </thead>\n",
       "  <tbody>\n",
       "  </tbody>\n",
       "</table>\n",
       "</div>"
      ],
      "text/plain": [
       "Empty DataFrame\n",
       "Columns: [title_x, imdb_id, poster_path, wiki_link, title_y, original_title, is_adult, year_of_release, runtime, genres, imdb_rating, imdb_votes, story, summary, tagline, actors, wins_nominations, release_date]\n",
       "Index: []"
      ]
     },
     "execution_count": 34,
     "metadata": {},
     "output_type": "execute_result"
    }
   ],
   "source": [
    "# checking if any duplicates\n",
    "raw_data[raw_data.duplicated()]"
   ]
  },
  {
   "cell_type": "code",
   "execution_count": 35,
   "metadata": {},
   "outputs": [],
   "source": [
    "# Selecting usefull features\n",
    "# df = raw_data[['genre','movie_name','year','cast', 'director']]\n",
    "df = raw_data[['genres','title_x','year_of_release','actors',]]"
   ]
  },
  {
   "cell_type": "code",
   "execution_count": 36,
   "metadata": {},
   "outputs": [
    {
     "data": {
      "text/plain": [
       "0                   Uri: The Surgical Strike\n",
       "1                              Battalion 609\n",
       "2       The Accidental Prime Minister (film)\n",
       "3                            Why Cheat India\n",
       "4                            Evening Shadows\n",
       "                        ...                 \n",
       "4325                     Samadhi (1950 film)\n",
       "4326                     Sangram (1950 film)\n",
       "4327                      Sargam (1950 film)\n",
       "4328                Sheesh Mahal (1950 film)\n",
       "4329                     Meena Bazaar (film)\n",
       "Name: title_x, Length: 4330, dtype: object"
      ]
     },
     "execution_count": 36,
     "metadata": {},
     "output_type": "execute_result"
    }
   ],
   "source": [
    "df['title_x']"
   ]
  },
  {
   "cell_type": "code",
   "execution_count": 37,
   "metadata": {},
   "outputs": [],
   "source": [
    "\n",
    "df['title_x'] = df['title_x'].str.replace(' (film)', '', regex=False)"
   ]
  },
  {
   "cell_type": "code",
   "execution_count": 38,
   "metadata": {},
   "outputs": [],
   "source": [
    "df['title_x'] = df['title_x'].str.replace(r' \\(film\\)', '', regex=True, case=False)"
   ]
  },
  {
   "cell_type": "code",
   "execution_count": 39,
   "metadata": {},
   "outputs": [
    {
     "data": {
      "text/plain": [
       "0            Uri: The Surgical Strike\n",
       "1                       Battalion 609\n",
       "2       The Accidental Prime Minister\n",
       "3                     Why Cheat India\n",
       "4                     Evening Shadows\n",
       "                    ...              \n",
       "4325              Samadhi (1950 film)\n",
       "4326              Sangram (1950 film)\n",
       "4327               Sargam (1950 film)\n",
       "4328         Sheesh Mahal (1950 film)\n",
       "4329                     Meena Bazaar\n",
       "Name: title_x, Length: 4330, dtype: object"
      ]
     },
     "execution_count": 39,
     "metadata": {},
     "output_type": "execute_result"
    }
   ],
   "source": [
    "df['title_x']"
   ]
  },
  {
   "cell_type": "code",
   "execution_count": 40,
   "metadata": {},
   "outputs": [],
   "source": [
    "df['title_x'] = df['title_x'].apply(lambda x: re.sub(r'\\s*[\\(\\[].*?[\\)\\]]\\s*$', '', x))"
   ]
  },
  {
   "cell_type": "code",
   "execution_count": 41,
   "metadata": {},
   "outputs": [],
   "source": [
    "df['title_x'] = df['title_x'].apply(lambda x: re.sub(r'\\s*\\([^)]*\\)\\s*$', '', x))"
   ]
  },
  {
   "cell_type": "code",
   "execution_count": 42,
   "metadata": {},
   "outputs": [
    {
     "data": {
      "text/plain": [
       "0            Uri: The Surgical Strike\n",
       "1                       Battalion 609\n",
       "2       The Accidental Prime Minister\n",
       "3                     Why Cheat India\n",
       "4                     Evening Shadows\n",
       "                    ...              \n",
       "4325                          Samadhi\n",
       "4326                          Sangram\n",
       "4327                           Sargam\n",
       "4328                     Sheesh Mahal\n",
       "4329                     Meena Bazaar\n",
       "Name: title_x, Length: 4330, dtype: object"
      ]
     },
     "execution_count": 42,
     "metadata": {},
     "output_type": "execute_result"
    }
   ],
   "source": [
    "df['title_x']"
   ]
  },
  {
   "cell_type": "code",
   "execution_count": 43,
   "metadata": {},
   "outputs": [
    {
     "name": "stdout",
     "output_type": "stream",
     "text": [
      "<class 'pandas.core.frame.DataFrame'>\n",
      "RangeIndex: 4330 entries, 0 to 4329\n",
      "Data columns (total 4 columns):\n",
      " #   Column           Non-Null Count  Dtype \n",
      "---  ------           --------------  ----- \n",
      " 0   genres           4330 non-null   object\n",
      " 1   title_x          4330 non-null   object\n",
      " 2   year_of_release  4330 non-null   object\n",
      " 3   actors           4320 non-null   object\n",
      "dtypes: object(4)\n",
      "memory usage: 135.4+ KB\n"
     ]
    }
   ],
   "source": [
    "# column data types\n",
    "df.info()"
   ]
  },
  {
   "cell_type": "code",
   "execution_count": 44,
   "metadata": {},
   "outputs": [
    {
     "data": {
      "text/html": [
       "<div>\n",
       "<style scoped>\n",
       "    .dataframe tbody tr th:only-of-type {\n",
       "        vertical-align: middle;\n",
       "    }\n",
       "\n",
       "    .dataframe tbody tr th {\n",
       "        vertical-align: top;\n",
       "    }\n",
       "\n",
       "    .dataframe thead th {\n",
       "        text-align: right;\n",
       "    }\n",
       "</style>\n",
       "<table border=\"1\" class=\"dataframe\">\n",
       "  <thead>\n",
       "    <tr style=\"text-align: right;\">\n",
       "      <th></th>\n",
       "      <th>genres</th>\n",
       "      <th>title_x</th>\n",
       "      <th>year_of_release</th>\n",
       "      <th>actors</th>\n",
       "    </tr>\n",
       "  </thead>\n",
       "  <tbody>\n",
       "    <tr>\n",
       "      <th>0</th>\n",
       "      <td>Action|Drama|War</td>\n",
       "      <td>Uri: The Surgical Strike</td>\n",
       "      <td>2019</td>\n",
       "      <td>Vicky Kaushal|Paresh Rawal|Mohit Raina|Yami Ga...</td>\n",
       "    </tr>\n",
       "    <tr>\n",
       "      <th>1</th>\n",
       "      <td>War</td>\n",
       "      <td>Battalion 609</td>\n",
       "      <td>2019</td>\n",
       "      <td>Vicky Ahuja|Shoaib Ibrahim|Shrikant Kamat|Elen...</td>\n",
       "    </tr>\n",
       "    <tr>\n",
       "      <th>2</th>\n",
       "      <td>Biography|Drama</td>\n",
       "      <td>The Accidental Prime Minister</td>\n",
       "      <td>2019</td>\n",
       "      <td>Anupam Kher|Akshaye Khanna|Aahana Kumra|Atul S...</td>\n",
       "    </tr>\n",
       "    <tr>\n",
       "      <th>3</th>\n",
       "      <td>Crime|Drama</td>\n",
       "      <td>Why Cheat India</td>\n",
       "      <td>2019</td>\n",
       "      <td>Emraan Hashmi|Shreya Dhanwanthary|Snighdadeep ...</td>\n",
       "    </tr>\n",
       "    <tr>\n",
       "      <th>4</th>\n",
       "      <td>Drama</td>\n",
       "      <td>Evening Shadows</td>\n",
       "      <td>2018</td>\n",
       "      <td>Mona Ambegaonkar|Ananth Narayan Mahadevan|Deva...</td>\n",
       "    </tr>\n",
       "    <tr>\n",
       "      <th>...</th>\n",
       "      <td>...</td>\n",
       "      <td>...</td>\n",
       "      <td>...</td>\n",
       "      <td>...</td>\n",
       "    </tr>\n",
       "    <tr>\n",
       "      <th>4325</th>\n",
       "      <td>Drama</td>\n",
       "      <td>Samadhi</td>\n",
       "      <td>1950</td>\n",
       "      <td>Ashok Kumar|Nalini Jaywant|Kuldip Kaur|Shyam|M...</td>\n",
       "    </tr>\n",
       "    <tr>\n",
       "      <th>4326</th>\n",
       "      <td>Drama</td>\n",
       "      <td>Sangram</td>\n",
       "      <td>1950</td>\n",
       "      <td>Ashok Kumar|Nalini Jaywant|Nawab|Sajjan|Tiwari...</td>\n",
       "    </tr>\n",
       "    <tr>\n",
       "      <th>4327</th>\n",
       "      <td>Drama|Family</td>\n",
       "      <td>Sargam</td>\n",
       "      <td>1950</td>\n",
       "      <td>Raj Kapoor|Rehana|Om Prakash|David Abraham|Rad...</td>\n",
       "    </tr>\n",
       "    <tr>\n",
       "      <th>4328</th>\n",
       "      <td>Drama</td>\n",
       "      <td>Sheesh Mahal</td>\n",
       "      <td>1950</td>\n",
       "      <td>Sohrab Modi|Naseem Banu|Pushpa Hans|Nigar Sult...</td>\n",
       "    </tr>\n",
       "    <tr>\n",
       "      <th>4329</th>\n",
       "      <td>Drama</td>\n",
       "      <td>Meena Bazaar</td>\n",
       "      <td>1950</td>\n",
       "      <td>NaN</td>\n",
       "    </tr>\n",
       "  </tbody>\n",
       "</table>\n",
       "<p>4330 rows × 4 columns</p>\n",
       "</div>"
      ],
      "text/plain": [
       "                genres                        title_x year_of_release  \\\n",
       "0     Action|Drama|War       Uri: The Surgical Strike            2019   \n",
       "1                  War                  Battalion 609            2019   \n",
       "2      Biography|Drama  The Accidental Prime Minister            2019   \n",
       "3          Crime|Drama                Why Cheat India            2019   \n",
       "4                Drama                Evening Shadows            2018   \n",
       "...                ...                            ...             ...   \n",
       "4325             Drama                        Samadhi            1950   \n",
       "4326             Drama                        Sangram            1950   \n",
       "4327      Drama|Family                         Sargam            1950   \n",
       "4328             Drama                   Sheesh Mahal            1950   \n",
       "4329             Drama                   Meena Bazaar            1950   \n",
       "\n",
       "                                                 actors  \n",
       "0     Vicky Kaushal|Paresh Rawal|Mohit Raina|Yami Ga...  \n",
       "1     Vicky Ahuja|Shoaib Ibrahim|Shrikant Kamat|Elen...  \n",
       "2     Anupam Kher|Akshaye Khanna|Aahana Kumra|Atul S...  \n",
       "3     Emraan Hashmi|Shreya Dhanwanthary|Snighdadeep ...  \n",
       "4     Mona Ambegaonkar|Ananth Narayan Mahadevan|Deva...  \n",
       "...                                                 ...  \n",
       "4325  Ashok Kumar|Nalini Jaywant|Kuldip Kaur|Shyam|M...  \n",
       "4326  Ashok Kumar|Nalini Jaywant|Nawab|Sajjan|Tiwari...  \n",
       "4327  Raj Kapoor|Rehana|Om Prakash|David Abraham|Rad...  \n",
       "4328  Sohrab Modi|Naseem Banu|Pushpa Hans|Nigar Sult...  \n",
       "4329                                                NaN  \n",
       "\n",
       "[4330 rows x 4 columns]"
      ]
     },
     "execution_count": 44,
     "metadata": {},
     "output_type": "execute_result"
    }
   ],
   "source": [
    "df"
   ]
  },
  {
   "cell_type": "code",
   "execution_count": 45,
   "metadata": {},
   "outputs": [],
   "source": [
    "# Ensure 'title_y' column is of string type\n",
    "df['title_x'] = df['title_x'].astype(str)"
   ]
  },
  {
   "cell_type": "code",
   "execution_count": 46,
   "metadata": {},
   "outputs": [
    {
     "name": "stdout",
     "output_type": "stream",
     "text": [
      "object\n"
     ]
    }
   ],
   "source": [
    "# Optional: Check if the conversion was successful\n",
    "print(df['title_x'].dtype)  # Should output: object"
   ]
  },
  {
   "cell_type": "code",
   "execution_count": 47,
   "metadata": {},
   "outputs": [
    {
     "data": {
      "image/png": "[encoded data removed]",
      "text/plain": [
       "<Figure size 1500x1600 with 1 Axes>"
      ]
     },
     "metadata": {},
     "output_type": "display_data"
    }
   ],
   "source": [
    "plt.figure(figsize=[15,16])\n",
    "sns.countplot(data=df, y='year_of_release')\n",
    "plt.title('Countplot for year', fontsize = 20)\n",
    "plt.show()"
   ]
  },
  {
   "cell_type": "code",
   "execution_count": 48,
   "metadata": {},
   "outputs": [],
   "source": [
    "# Now we are not using year column also\n",
    "df = df.drop(\"year_of_release\", axis=1)"
   ]
  },
  {
   "cell_type": "code",
   "execution_count": 49,
   "metadata": {},
   "outputs": [
    {
     "data": {
      "text/plain": [
       "genres      0\n",
       "title_x     0\n",
       "actors     10\n",
       "dtype: int64"
      ]
     },
     "execution_count": 49,
     "metadata": {},
     "output_type": "execute_result"
    }
   ],
   "source": [
    "# Cheking null values\n",
    "df.isna().sum()"
   ]
  },
  {
   "cell_type": "code",
   "execution_count": 50,
   "metadata": {},
   "outputs": [],
   "source": [
    "# Filing nan value with blank string\n",
    "df['genres'] = df['genres'].replace(np.nan,\" \")\n",
    "df['actors'] = df['actors'].replace(np.nan,\" \")\n"
   ]
  },
  {
   "cell_type": "code",
   "execution_count": 51,
   "metadata": {},
   "outputs": [
    {
     "data": {
      "text/html": [
       "<div>\n",
       "<style scoped>\n",
       "    .dataframe tbody tr th:only-of-type {\n",
       "        vertical-align: middle;\n",
       "    }\n",
       "\n",
       "    .dataframe tbody tr th {\n",
       "        vertical-align: top;\n",
       "    }\n",
       "\n",
       "    .dataframe thead th {\n",
       "        text-align: right;\n",
       "    }\n",
       "</style>\n",
       "<table border=\"1\" class=\"dataframe\">\n",
       "  <thead>\n",
       "    <tr style=\"text-align: right;\">\n",
       "      <th></th>\n",
       "      <th>genres</th>\n",
       "      <th>title_x</th>\n",
       "      <th>actors</th>\n",
       "    </tr>\n",
       "  </thead>\n",
       "  <tbody>\n",
       "    <tr>\n",
       "      <th>0</th>\n",
       "      <td>Action|Drama|War</td>\n",
       "      <td>Uri: The Surgical Strike</td>\n",
       "      <td>Vicky Kaushal|Paresh Rawal|Mohit Raina|Yami Ga...</td>\n",
       "    </tr>\n",
       "    <tr>\n",
       "      <th>1</th>\n",
       "      <td>War</td>\n",
       "      <td>Battalion 609</td>\n",
       "      <td>Vicky Ahuja|Shoaib Ibrahim|Shrikant Kamat|Elen...</td>\n",
       "    </tr>\n",
       "    <tr>\n",
       "      <th>2</th>\n",
       "      <td>Biography|Drama</td>\n",
       "      <td>The Accidental Prime Minister</td>\n",
       "      <td>Anupam Kher|Akshaye Khanna|Aahana Kumra|Atul S...</td>\n",
       "    </tr>\n",
       "    <tr>\n",
       "      <th>3</th>\n",
       "      <td>Crime|Drama</td>\n",
       "      <td>Why Cheat India</td>\n",
       "      <td>Emraan Hashmi|Shreya Dhanwanthary|Snighdadeep ...</td>\n",
       "    </tr>\n",
       "    <tr>\n",
       "      <th>4</th>\n",
       "      <td>Drama</td>\n",
       "      <td>Evening Shadows</td>\n",
       "      <td>Mona Ambegaonkar|Ananth Narayan Mahadevan|Deva...</td>\n",
       "    </tr>\n",
       "    <tr>\n",
       "      <th>...</th>\n",
       "      <td>...</td>\n",
       "      <td>...</td>\n",
       "      <td>...</td>\n",
       "    </tr>\n",
       "    <tr>\n",
       "      <th>4325</th>\n",
       "      <td>Drama</td>\n",
       "      <td>Samadhi</td>\n",
       "      <td>Ashok Kumar|Nalini Jaywant|Kuldip Kaur|Shyam|M...</td>\n",
       "    </tr>\n",
       "    <tr>\n",
       "      <th>4326</th>\n",
       "      <td>Drama</td>\n",
       "      <td>Sangram</td>\n",
       "      <td>Ashok Kumar|Nalini Jaywant|Nawab|Sajjan|Tiwari...</td>\n",
       "    </tr>\n",
       "    <tr>\n",
       "      <th>4327</th>\n",
       "      <td>Drama|Family</td>\n",
       "      <td>Sargam</td>\n",
       "      <td>Raj Kapoor|Rehana|Om Prakash|David Abraham|Rad...</td>\n",
       "    </tr>\n",
       "    <tr>\n",
       "      <th>4328</th>\n",
       "      <td>Drama</td>\n",
       "      <td>Sheesh Mahal</td>\n",
       "      <td>Sohrab Modi|Naseem Banu|Pushpa Hans|Nigar Sult...</td>\n",
       "    </tr>\n",
       "    <tr>\n",
       "      <th>4329</th>\n",
       "      <td>Drama</td>\n",
       "      <td>Meena Bazaar</td>\n",
       "      <td></td>\n",
       "    </tr>\n",
       "  </tbody>\n",
       "</table>\n",
       "<p>4330 rows × 3 columns</p>\n",
       "</div>"
      ],
      "text/plain": [
       "                genres                        title_x  \\\n",
       "0     Action|Drama|War       Uri: The Surgical Strike   \n",
       "1                  War                  Battalion 609   \n",
       "2      Biography|Drama  The Accidental Prime Minister   \n",
       "3          Crime|Drama                Why Cheat India   \n",
       "4                Drama                Evening Shadows   \n",
       "...                ...                            ...   \n",
       "4325             Drama                        Samadhi   \n",
       "4326             Drama                        Sangram   \n",
       "4327      Drama|Family                         Sargam   \n",
       "4328             Drama                   Sheesh Mahal   \n",
       "4329             Drama                   Meena Bazaar   \n",
       "\n",
       "                                                 actors  \n",
       "0     Vicky Kaushal|Paresh Rawal|Mohit Raina|Yami Ga...  \n",
       "1     Vicky Ahuja|Shoaib Ibrahim|Shrikant Kamat|Elen...  \n",
       "2     Anupam Kher|Akshaye Khanna|Aahana Kumra|Atul S...  \n",
       "3     Emraan Hashmi|Shreya Dhanwanthary|Snighdadeep ...  \n",
       "4     Mona Ambegaonkar|Ananth Narayan Mahadevan|Deva...  \n",
       "...                                                 ...  \n",
       "4325  Ashok Kumar|Nalini Jaywant|Kuldip Kaur|Shyam|M...  \n",
       "4326  Ashok Kumar|Nalini Jaywant|Nawab|Sajjan|Tiwari...  \n",
       "4327  Raj Kapoor|Rehana|Om Prakash|David Abraham|Rad...  \n",
       "4328  Sohrab Modi|Naseem Banu|Pushpa Hans|Nigar Sult...  \n",
       "4329                                                     \n",
       "\n",
       "[4330 rows x 3 columns]"
      ]
     },
     "execution_count": 51,
     "metadata": {},
     "output_type": "execute_result"
    }
   ],
   "source": [
    "df"
   ]
  },
  {
   "cell_type": "code",
   "execution_count": 52,
   "metadata": {},
   "outputs": [],
   "source": [
    "#tmdb = TMDb()\n",
    "# tmdb.api_key = 'a8f3c31b4bc4c4de56e1affe22e456ff'\n",
    "\n",
    "# importing tmdb\n",
    "from tmdbv3api import TMDb,Movie\n",
    "import json\n",
    "import requests #for making HTTP requests\n",
    "\n",
    "# Creating TMDB Api Object\n",
    "tmdb = TMDb()\n",
    "# tmdb.api_key = 'a8f3c31b4bc4c4de56e1affe22e456ff'\n",
    "tmdb.api_key = 'c6c09d114effb5caac5eba5a761473a2'\n",
    "tmdb_movie = Movie()\n",
    "\n",
    "# OMDB API key\n",
    "omdb_api_key = '338007de'\n",
    "\n",
    "def get_movie_details(title):\n",
    "    try:\n",
    "        title = str(title).strip()\n",
    "        result = tmdb_movie.search(title)\n",
    "        if result:\n",
    "            movie_id = result[0].id\n",
    "            response = requests.get(f'https://api.themoviedb.org/3/movie/{movie_id}?api_key={tmdb.api_key}')\n",
    "            data_json = response.json()\n",
    "            \n",
    "            # Check if the data structure is correct\n",
    "            if not isinstance(data_json, dict):\n",
    "                raise ValueError(\"Invalid data structure from TMDb\")\n",
    "\n",
    "            # Fetching movie genre\n",
    "            movie_genres = [str(genre.get('name', '')) for genre in data_json.get('genres', [])]\n",
    "            genre = \", \".join(movie_genres)\n",
    "            \n",
    "            # Fetching vote average and vote count\n",
    "            vote_average = data_json.get('vote_average', np.nan)\n",
    "            vote_count = data_json.get('vote_count', np.nan)\n",
    "        else:\n",
    "            raise ValueError(\"No results from TMDb\")\n",
    "    except Exception as e:\n",
    "        print(f\"Error processing {title} with TMDb: {e}\")\n",
    "        genre, vote_average, vote_count = get_movie_details_from_omdb(title)\n",
    "    \n",
    "    return genre, vote_average, vote_count\n",
    "\n",
    "def get_movie_details_from_omdb(title):\n",
    "    try:\n",
    "        response = requests.get(f'http://www.omdbapi.com/?t={title}&apikey={omdb_api_key}')\n",
    "        data_json = response.json()\n",
    "        \n",
    "        if data_json.get('Response') == 'True':\n",
    "            # Fetching movie genre\n",
    "            genre = data_json.get('Genre', 'N/A')\n",
    "            \n",
    "            # Fetching vote average and vote count\n",
    "            vote_average = float(data_json.get('imdbRating', np.nan))\n",
    "            vote_count = int(data_json.get('imdbVotes', '0').replace(',', ''))\n",
    "        else:\n",
    "            genre, vote_average, vote_count = \"N/A\", np.nan, np.nan\n",
    "    except Exception as e:\n",
    "        print(f\"Error processing {title} with OMDb: {e}\")\n",
    "        genre, vote_average, vote_count = \"N/A\", np.nan, np.nan\n",
    "    \n",
    "    return genre, vote_average, vote_count\n",
    "\n",
    "\n",
    "\n"
   ]
  },
  {
   "cell_type": "code",
   "execution_count": 53,
   "metadata": {},
   "outputs": [],
   "source": [
    "# Apply the function to get movie details\n",
    "tqdm.pandas()"
   ]
  },
  {
   "cell_type": "code",
   "execution_count": 54,
   "metadata": {},
   "outputs": [],
   "source": [
    "def apply_get_movie_details(row):\n",
    "    title = row['title_x']\n",
    "    genre, vote_average, vote_count = get_movie_details(title)\n",
    "    return pd.Series({'TMDB_Genre': genre, 'Vote_Average': vote_average, 'Vote_Count': vote_count})"
   ]
  },
  {
   "cell_type": "code",
   "execution_count": 55,
   "metadata": {},
   "outputs": [],
   "source": [
    "# df['movie_name'] = df['movie_name'].astype(str)"
   ]
  },
  {
   "cell_type": "code",
   "execution_count": 56,
   "metadata": {},
   "outputs": [
    {
     "name": "stderr",
     "output_type": "stream",
     "text": [
      "  0%|          | 19/4330 [00:01<05:45, 12.49it/s]"
     ]
    },
    {
     "name": "stdout",
     "output_type": "stream",
     "text": [
      "Error processing Risknamaa with TMDb: attribute name must be string, not 'int'\n"
     ]
    },
    {
     "name": "stderr",
     "output_type": "stream",
     "text": [
      "  1%|          | 23/4330 [00:02<06:28, 11.09it/s]"
     ]
    },
    {
     "name": "stdout",
     "output_type": "stream",
     "text": [
      "Error processing Risknamaa with OMDb: could not convert string to float: 'N/A'\n"
     ]
    },
    {
     "name": "stderr",
     "output_type": "stream",
     "text": [
      "  4%|▎         | 156/4330 [00:12<04:03, 17.12it/s]"
     ]
    },
    {
     "name": "stdout",
     "output_type": "stream",
     "text": [
      "Error processing Jack and Dil with TMDb: attribute name must be string, not 'int'\n"
     ]
    },
    {
     "name": "stderr",
     "output_type": "stream",
     "text": [
      "  4%|▍         | 190/4330 [00:14<04:09, 16.58it/s]"
     ]
    },
    {
     "name": "stdout",
     "output_type": "stream",
     "text": [
      "Error processing Ek Thi Rani Aisi Bhi with TMDb: attribute name must be string, not 'int'\n"
     ]
    },
    {
     "name": "stderr",
     "output_type": "stream",
     "text": [
      "  6%|▌         | 258/4330 [00:19<04:02, 16.80it/s]"
     ]
    },
    {
     "name": "stdout",
     "output_type": "stream",
     "text": [
      "Error processing Saankal with TMDb: attribute name must be string, not 'int'\n"
     ]
    },
    {
     "name": "stderr",
     "output_type": "stream",
     "text": [
      "  7%|▋         | 294/4330 [00:21<04:02, 16.64it/s]"
     ]
    },
    {
     "name": "stdout",
     "output_type": "stream",
     "text": [
      "Error processing Murari the Mad Gentleman with TMDb: attribute name must be string, not 'int'\n",
      "Error processing Murari the Mad Gentleman with OMDb: could not convert string to float: 'N/A'\n"
     ]
    },
    {
     "name": "stderr",
     "output_type": "stream",
     "text": [
      "  8%|▊         | 346/4330 [00:24<03:59, 16.61it/s]"
     ]
    },
    {
     "name": "stdout",
     "output_type": "stream",
     "text": [
      "Error processing Dongari Ka Raja with TMDb: attribute name must be string, not 'int'\n"
     ]
    },
    {
     "name": "stderr",
     "output_type": "stream",
     "text": [
      "  9%|▊         | 372/4330 [00:26<03:48, 17.29it/s]"
     ]
    },
    {
     "name": "stdout",
     "output_type": "stream",
     "text": [
      "Error processing Mumbai Can Dance Saala with TMDb: attribute name must be string, not 'int'\n"
     ]
    },
    {
     "name": "stderr",
     "output_type": "stream",
     "text": [
      "  9%|▉         | 404/4330 [00:28<05:16, 12.39it/s]"
     ]
    },
    {
     "name": "stdout",
     "output_type": "stream",
     "text": [
      "Error processing Dilliwali Zaalim Girlfriend with TMDb: attribute name must be string, not 'int'\n"
     ]
    },
    {
     "name": "stderr",
     "output_type": "stream",
     "text": [
      " 10%|▉         | 428/4330 [00:29<03:49, 16.99it/s]"
     ]
    },
    {
     "name": "stdout",
     "output_type": "stream",
     "text": [
      "Error processing Main Hoon Part-Time Killer with TMDb: attribute name must be string, not 'int'\n",
      "Error processing Kaun Kitne Paani Mein with TMDb: attribute name must be string, not 'int'\n"
     ]
    },
    {
     "name": "stderr",
     "output_type": "stream",
     "text": [
      " 11%|█         | 478/4330 [00:33<04:07, 15.57it/s]"
     ]
    },
    {
     "name": "stdout",
     "output_type": "stream",
     "text": [
      "Error processing Dee Saturday Night with TMDb: attribute name must be string, not 'int'\n",
      "Error processing Dee Saturday Night with OMDb: could not convert string to float: 'N/A'\n"
     ]
    },
    {
     "name": "stderr",
     "output_type": "stream",
     "text": [
      " 12%|█▏        | 512/4330 [00:35<03:44, 17.03it/s]"
     ]
    },
    {
     "name": "stdout",
     "output_type": "stream",
     "text": [
      "Error processing Kaanchi: The Unbreakable with TMDb: attribute name must be string, not 'int'\n"
     ]
    },
    {
     "name": "stderr",
     "output_type": "stream",
     "text": [
      " 15%|█▍        | 630/4330 [00:43<05:08, 11.98it/s]"
     ]
    },
    {
     "name": "stdout",
     "output_type": "stream",
     "text": [
      "Error processing Once Upon ay Time in Mumbai Dobaara! with TMDb: attribute name must be string, not 'int'\n"
     ]
    },
    {
     "name": "stderr",
     "output_type": "stream",
     "text": [
      " 16%|█▋        | 706/4330 [00:48<03:41, 16.37it/s]"
     ]
    },
    {
     "name": "stdout",
     "output_type": "stream",
     "text": [
      "Error processing Paanch Ghantey Mien Paanch Crore with TMDb: attribute name must be string, not 'int'\n"
     ]
    },
    {
     "name": "stderr",
     "output_type": "stream",
     "text": [
      " 17%|█▋        | 716/4330 [00:49<03:29, 17.28it/s]"
     ]
    },
    {
     "name": "stdout",
     "output_type": "stream",
     "text": [
      "Error processing Jalpari: The Desert Mermaid with TMDb: attribute name must be string, not 'int'\n"
     ]
    },
    {
     "name": "stderr",
     "output_type": "stream",
     "text": [
      " 17%|█▋        | 732/4330 [00:50<03:45, 15.96it/s]"
     ]
    },
    {
     "name": "stdout",
     "output_type": "stream",
     "text": [
      "Error processing Ata Pata Laapata with TMDb: attribute name must be string, not 'int'\n"
     ]
    },
    {
     "name": "stderr",
     "output_type": "stream",
     "text": [
      " 18%|█▊        | 786/4330 [00:54<03:42, 15.95it/s]"
     ]
    },
    {
     "name": "stdout",
     "output_type": "stream",
     "text": [
      "Error processing Dear Friend Hitler with TMDb: attribute name must be string, not 'int'\n"
     ]
    },
    {
     "name": "stderr",
     "output_type": "stream",
     "text": [
      " 19%|█▉        | 844/4330 [00:58<03:39, 15.88it/s]"
     ]
    },
    {
     "name": "stdout",
     "output_type": "stream",
     "text": [
      "Error processing Sukhmani: Hope for Life with TMDb: attribute name must be string, not 'int'\n"
     ]
    },
    {
     "name": "stderr",
     "output_type": "stream",
     "text": [
      " 21%|██        | 900/4330 [01:02<03:33, 16.05it/s]"
     ]
    },
    {
     "name": "stdout",
     "output_type": "stream",
     "text": [
      "Error processing Malik Ek with TMDb: attribute name must be string, not 'int'\n"
     ]
    },
    {
     "name": "stderr",
     "output_type": "stream",
     "text": [
      " 21%|██        | 910/4330 [01:03<03:41, 15.42it/s]"
     ]
    },
    {
     "name": "stdout",
     "output_type": "stream",
     "text": [
      "Error processing Toonpur Ka Super Hero with TMDb: attribute name must be string, not 'int'\n"
     ]
    },
    {
     "name": "stderr",
     "output_type": "stream",
     "text": [
      " 21%|██        | 916/4330 [01:03<03:19, 17.09it/s]"
     ]
    },
    {
     "name": "stdout",
     "output_type": "stream",
     "text": [
      "Error processing Dunno Y... Na Jaane Kyon with TMDb: attribute name must be string, not 'int'\n"
     ]
    },
    {
     "name": "stderr",
     "output_type": "stream",
     "text": [
      " 24%|██▍       | 1032/4330 [01:11<03:26, 16.00it/s]"
     ]
    },
    {
     "name": "stdout",
     "output_type": "stream",
     "text": [
      "Error processing Hari Puttar: A Comedy of Terrors with TMDb: attribute name must be string, not 'int'\n"
     ]
    },
    {
     "name": "stderr",
     "output_type": "stream",
     "text": [
      " 24%|██▍       | 1048/4330 [01:12<03:36, 15.19it/s]"
     ]
    },
    {
     "name": "stdout",
     "output_type": "stream",
     "text": [
      "Error processing Wafa: A Deadly Love Story with TMDb: attribute name must be string, not 'int'\n"
     ]
    },
    {
     "name": "stderr",
     "output_type": "stream",
     "text": [
      " 25%|██▍       | 1065/4330 [01:13<04:05, 13.27it/s]"
     ]
    },
    {
     "name": "stdout",
     "output_type": "stream",
     "text": [
      "Error processing Aur Pappu Paas Ho Gaya with TMDb: attribute name must be string, not 'int'\n"
     ]
    },
    {
     "name": "stderr",
     "output_type": "stream",
     "text": [
      " 25%|██▌       | 1093/4330 [01:15<03:20, 16.15it/s]"
     ]
    },
    {
     "name": "stdout",
     "output_type": "stream",
     "text": [
      "Error processing Jahan Jaaeyega Hamen Paaeyega with TMDb: attribute name must be string, not 'int'\n"
     ]
    },
    {
     "name": "stderr",
     "output_type": "stream",
     "text": [
      " 25%|██▌       | 1101/4330 [01:16<03:13, 16.70it/s]"
     ]
    },
    {
     "name": "stdout",
     "output_type": "stream",
     "text": [
      "Error processing Kudiyon Ka Hai Zamana with TMDb: attribute name must be string, not 'int'\n"
     ]
    },
    {
     "name": "stderr",
     "output_type": "stream",
     "text": [
      " 26%|██▌       | 1127/4330 [01:17<03:24, 15.69it/s]"
     ]
    },
    {
     "name": "stdout",
     "output_type": "stream",
     "text": [
      "Error processing Salaam-e-Ishq: A Tribute to Love with TMDb: attribute name must be string, not 'int'\n"
     ]
    },
    {
     "name": "stderr",
     "output_type": "stream",
     "text": [
      " 26%|██▋       | 1143/4330 [01:19<04:13, 12.58it/s]"
     ]
    },
    {
     "name": "stdout",
     "output_type": "stream",
     "text": [
      "Error processing Zamaanat with TMDb: attribute name must be string, not 'int'\n"
     ]
    },
    {
     "name": "stderr",
     "output_type": "stream",
     "text": [
      " 27%|██▋       | 1153/4330 [01:19<03:35, 14.77it/s]"
     ]
    },
    {
     "name": "stdout",
     "output_type": "stream",
     "text": [
      "Error processing Aisa Kyon Hota Hai? with TMDb: attribute name must be string, not 'int'\n"
     ]
    },
    {
     "name": "stderr",
     "output_type": "stream",
     "text": [
      " 29%|██▊       | 1237/4330 [01:28<03:12, 16.09it/s]"
     ]
    },
    {
     "name": "stdout",
     "output_type": "stream",
     "text": [
      "Error processing Bhola in Bollywood with TMDb: attribute name must be string, not 'int'\n"
     ]
    },
    {
     "name": "stderr",
     "output_type": "stream",
     "text": [
      " 29%|██▊       | 1243/4330 [01:29<03:00, 17.07it/s]"
     ]
    },
    {
     "name": "stdout",
     "output_type": "stream",
     "text": [
      "Error processing Chetna: The Excitement with TMDb: attribute name must be string, not 'int'\n"
     ]
    },
    {
     "name": "stderr",
     "output_type": "stream",
     "text": [
      " 30%|███       | 1319/4330 [01:34<03:16, 15.35it/s]"
     ]
    },
    {
     "name": "stdout",
     "output_type": "stream",
     "text": [
      "Error processing Waqt: The Race Against Time with TMDb: attribute name must be string, not 'int'\n",
      "Error processing Vidyaarthi with TMDb: attribute name must be string, not 'int'\n"
     ]
    },
    {
     "name": "stderr",
     "output_type": "stream",
     "text": [
      " 31%|███       | 1325/4330 [01:34<03:06, 16.14it/s]"
     ]
    },
    {
     "name": "stdout",
     "output_type": "stream",
     "text": [
      "Error processing Zameer: The Fire Within with TMDb: attribute name must be string, not 'int'\n"
     ]
    },
    {
     "name": "stderr",
     "output_type": "stream",
     "text": [
      " 31%|███       | 1340/4330 [01:35<02:55, 17.07it/s]"
     ]
    },
    {
     "name": "stdout",
     "output_type": "stream",
     "text": [
      "Error processing Agnipankh with TMDb: attribute name must be string, not 'int'\n",
      "Error processing Agnipankh with OMDb: could not convert string to float: 'N/A'\n"
     ]
    },
    {
     "name": "stderr",
     "output_type": "stream",
     "text": [
      " 32%|███▏      | 1375/4330 [01:37<02:59, 16.43it/s]"
     ]
    },
    {
     "name": "stdout",
     "output_type": "stream",
     "text": [
      "Error processing Meenaxi: A Tale of Three Cities with TMDb: attribute name must be string, not 'int'\n"
     ]
    },
    {
     "name": "stderr",
     "output_type": "stream",
     "text": [
      " 32%|███▏      | 1379/4330 [01:38<02:50, 17.27it/s]"
     ]
    },
    {
     "name": "stdout",
     "output_type": "stream",
     "text": [
      "Error processing Meri Biwi Ka Jawaab Nahin with TMDb: attribute name must be string, not 'int'\n"
     ]
    },
    {
     "name": "stderr",
     "output_type": "stream",
     "text": [
      " 32%|███▏      | 1405/4330 [01:40<03:11, 15.31it/s]"
     ]
    },
    {
     "name": "stdout",
     "output_type": "stream",
     "text": [
      "Error processing Thoda Tum Badlo Thoda Hum with TMDb: attribute name must be string, not 'int'\n"
     ]
    },
    {
     "name": "stderr",
     "output_type": "stream",
     "text": [
      " 33%|███▎      | 1423/4330 [01:41<03:04, 15.76it/s]"
     ]
    },
    {
     "name": "stdout",
     "output_type": "stream",
     "text": [
      "Error processing Aaj Ka Andha Kanoon with TMDb: attribute name must be string, not 'int'\n"
     ]
    },
    {
     "name": "stderr",
     "output_type": "stream",
     "text": [
      " 34%|███▎      | 1461/4330 [01:43<02:51, 16.69it/s]"
     ]
    },
    {
     "name": "stdout",
     "output_type": "stream",
     "text": [
      "Error processing Kagaar: Life on the Edge with TMDb: attribute name must be string, not 'int'\n",
      "Error processing Khel – No Ordinary Game with TMDb: attribute name must be string, not 'int'\n"
     ]
    },
    {
     "name": "stderr",
     "output_type": "stream",
     "text": [
      " 35%|███▍      | 1515/4330 [01:47<04:13, 11.11it/s]"
     ]
    },
    {
     "name": "stdout",
     "output_type": "stream",
     "text": [
      "Error processing Ansh: The Deadly Part with TMDb: attribute name must be string, not 'int'\n"
     ]
    },
    {
     "name": "stderr",
     "output_type": "stream",
     "text": [
      " 35%|███▌      | 1523/4330 [01:48<03:15, 14.34it/s]"
     ]
    },
    {
     "name": "stdout",
     "output_type": "stream",
     "text": [
      "Error processing Be-Lagaam with TMDb: attribute name must be string, not 'int'\n"
     ]
    },
    {
     "name": "stderr",
     "output_type": "stream",
     "text": [
      " 36%|███▌      | 1539/4330 [01:49<02:53, 16.08it/s]"
     ]
    },
    {
     "name": "stdout",
     "output_type": "stream",
     "text": [
      "Error processing Kabhie Tum Kabhie Hum with TMDb: attribute name must be string, not 'int'\n"
     ]
    },
    {
     "name": "stderr",
     "output_type": "stream",
     "text": [
      " 36%|███▋      | 1571/4330 [01:51<02:47, 16.43it/s]"
     ]
    },
    {
     "name": "stdout",
     "output_type": "stream",
     "text": [
      "Error processing Yeh Kaisi Mohabbat with TMDb: attribute name must be string, not 'int'\n"
     ]
    },
    {
     "name": "stderr",
     "output_type": "stream",
     "text": [
      " 37%|███▋      | 1617/4330 [01:54<02:44, 16.45it/s]"
     ]
    },
    {
     "name": "stdout",
     "output_type": "stream",
     "text": [
      "Error processing Hadh: Life on the Edge of Death with TMDb: attribute name must be string, not 'int'\n"
     ]
    },
    {
     "name": "stderr",
     "output_type": "stream",
     "text": [
      " 38%|███▊      | 1660/4330 [01:57<02:39, 16.78it/s]"
     ]
    },
    {
     "name": "stdout",
     "output_type": "stream",
     "text": [
      "Error processing Dhai Akshar Prem Ke with TMDb: attribute name must be string, not 'int'\n"
     ]
    },
    {
     "name": "stderr",
     "output_type": "stream",
     "text": [
      " 38%|███▊      | 1666/4330 [01:57<02:49, 15.73it/s]"
     ]
    },
    {
     "name": "stdout",
     "output_type": "stream",
     "text": [
      "Error processing Hari-Bhari with TMDb: attribute name must be string, not 'int'\n"
     ]
    },
    {
     "name": "stderr",
     "output_type": "stream",
     "text": [
      " 39%|███▉      | 1688/4330 [01:58<02:33, 17.17it/s]"
     ]
    },
    {
     "name": "stdout",
     "output_type": "stream",
     "text": [
      "Error processing Nidaan with TMDb: attribute name must be string, not 'int'\n"
     ]
    },
    {
     "name": "stderr",
     "output_type": "stream",
     "text": [
      " 39%|███▉      | 1693/4330 [01:59<02:29, 17.61it/s]"
     ]
    },
    {
     "name": "stdout",
     "output_type": "stream",
     "text": [
      "Error processing Meri Jung Ka Elaan with TMDb: attribute name must be string, not 'int'\n",
      "Error processing The Revenge: Geeta Mera Naam with TMDb: attribute name must be string, not 'int'\n"
     ]
    },
    {
     "name": "stderr",
     "output_type": "stream",
     "text": [
      " 40%|███▉      | 1723/4330 [02:00<02:41, 16.15it/s]"
     ]
    },
    {
     "name": "stdout",
     "output_type": "stream",
     "text": [
      "Error processing Heeralal Pannalal with TMDb: attribute name must be string, not 'int'\n"
     ]
    },
    {
     "name": "stderr",
     "output_type": "stream",
     "text": [
      " 40%|███▉      | 1727/4330 [02:01<02:35, 16.75it/s]"
     ]
    },
    {
     "name": "stdout",
     "output_type": "stream",
     "text": [
      "Error processing Jahan Tum Le Chalo with TMDb: attribute name must be string, not 'int'\n"
     ]
    },
    {
     "name": "stderr",
     "output_type": "stream",
     "text": [
      " 40%|████      | 1751/4330 [02:02<02:35, 16.63it/s]"
     ]
    },
    {
     "name": "stdout",
     "output_type": "stream",
     "text": [
      "Error processing Vaastav: The Reality with TMDb: attribute name must be string, not 'int'\n"
     ]
    },
    {
     "name": "stderr",
     "output_type": "stream",
     "text": [
      " 42%|████▏     | 1835/4330 [02:08<02:29, 16.63it/s]"
     ]
    },
    {
     "name": "stdout",
     "output_type": "stream",
     "text": [
      "Error processing Vinashak – Destroyer with TMDb: attribute name must be string, not 'int'\n"
     ]
    },
    {
     "name": "stderr",
     "output_type": "stream",
     "text": [
      " 43%|████▎     | 1879/4330 [02:11<02:35, 15.76it/s]"
     ]
    },
    {
     "name": "stdout",
     "output_type": "stream",
     "text": [
      "Error processing Mrityudata with TMDb: attribute name must be string, not 'int'\n",
      "Error processing Mere Sapno Ki Rani with TMDb: attribute name must be string, not 'int'\n",
      "Error processing Mr. and Mrs. Khiladi with TMDb: attribute name must be string, not 'int'\n"
     ]
    },
    {
     "name": "stderr",
     "output_type": "stream",
     "text": [
      " 44%|████▎     | 1885/4330 [02:11<02:27, 16.61it/s]"
     ]
    },
    {
     "name": "stdout",
     "output_type": "stream",
     "text": [
      "Error processing Krishna Arjun with TMDb: attribute name must be string, not 'int'\n"
     ]
    },
    {
     "name": "stderr",
     "output_type": "stream",
     "text": [
      " 44%|████▍     | 1901/4330 [02:12<02:35, 15.57it/s]"
     ]
    },
    {
     "name": "stdout",
     "output_type": "stream",
     "text": [
      "Error processing Ghatak: Lethal with TMDb: attribute name must be string, not 'int'\n"
     ]
    },
    {
     "name": "stderr",
     "output_type": "stream",
     "text": [
      " 44%|████▍     | 1909/4330 [02:13<02:32, 15.90it/s]"
     ]
    },
    {
     "name": "stdout",
     "output_type": "stream",
     "text": [
      "Error processing Aisi Bhi Kya Jaldi Hai with TMDb: attribute name must be string, not 'int'\n"
     ]
    },
    {
     "name": "stderr",
     "output_type": "stream",
     "text": [
      " 45%|████▍     | 1930/4330 [02:14<02:28, 16.19it/s]"
     ]
    },
    {
     "name": "stdout",
     "output_type": "stream",
     "text": [
      "Error processing Is Raat Ki Subah Nahin with TMDb: attribute name must be string, not 'int'\n"
     ]
    },
    {
     "name": "stderr",
     "output_type": "stream",
     "text": [
      " 45%|████▍     | 1946/4330 [02:15<02:22, 16.78it/s]"
     ]
    },
    {
     "name": "stdout",
     "output_type": "stream",
     "text": [
      "Error processing Muqadar with TMDb: attribute name must be string, not 'int'\n"
     ]
    },
    {
     "name": "stderr",
     "output_type": "stream",
     "text": [
      " 46%|████▋     | 2003/4330 [02:19<02:11, 17.71it/s]"
     ]
    },
    {
     "name": "stdout",
     "output_type": "stream",
     "text": [
      "Error processing Kalyug Ke Avtaar with TMDb: attribute name must be string, not 'int'\n",
      "Error processing Ham Sab Chor Hain with TMDb: attribute name must be string, not 'int'\n"
     ]
    },
    {
     "name": "stderr",
     "output_type": "stream",
     "text": [
      " 47%|████▋     | 2017/4330 [02:20<02:22, 16.29it/s]"
     ]
    },
    {
     "name": "stdout",
     "output_type": "stream",
     "text": [
      "Error processing Param Vir Chakra with TMDb: attribute name must be string, not 'int'\n"
     ]
    },
    {
     "name": "stderr",
     "output_type": "stream",
     "text": [
      " 47%|████▋     | 2037/4330 [02:21<03:13, 11.88it/s]"
     ]
    },
    {
     "name": "stdout",
     "output_type": "stream",
     "text": [
      "Error processing Sarhad: The Border of Crime with TMDb: attribute name must be string, not 'int'\n"
     ]
    },
    {
     "name": "stderr",
     "output_type": "stream",
     "text": [
      " 48%|████▊     | 2061/4330 [02:23<02:15, 16.78it/s]"
     ]
    },
    {
     "name": "stdout",
     "output_type": "stream",
     "text": [
      "Error processing Amanaat with TMDb: attribute name must be string, not 'int'\n"
     ]
    },
    {
     "name": "stderr",
     "output_type": "stream",
     "text": [
      " 48%|████▊     | 2081/4330 [02:24<02:18, 16.18it/s]"
     ]
    },
    {
     "name": "stdout",
     "output_type": "stream",
     "text": [
      "Error processing Do Fantoosh with TMDb: attribute name must be string, not 'int'\n"
     ]
    },
    {
     "name": "stderr",
     "output_type": "stream",
     "text": [
      " 48%|████▊     | 2085/4330 [02:24<02:11, 17.06it/s]"
     ]
    },
    {
     "name": "stdout",
     "output_type": "stream",
     "text": [
      "Error processing Ganga Aur Ranga with TMDb: attribute name must be string, not 'int'\n"
     ]
    },
    {
     "name": "stderr",
     "output_type": "stream",
     "text": [
      " 48%|████▊     | 2095/4330 [02:25<02:17, 16.29it/s]"
     ]
    },
    {
     "name": "stdout",
     "output_type": "stream",
     "text": [
      "Error processing Ishq Mein Jeena Ishq Mein Marna with TMDb: attribute name must be string, not 'int'\n"
     ]
    },
    {
     "name": "stderr",
     "output_type": "stream",
     "text": [
      " 49%|████▉     | 2131/4330 [02:27<02:09, 16.92it/s]"
     ]
    },
    {
     "name": "stdout",
     "output_type": "stream",
     "text": [
      "Error processing Aashik Awara with TMDb: attribute name must be string, not 'int'\n"
     ]
    },
    {
     "name": "stderr",
     "output_type": "stream",
     "text": [
      " 49%|████▉     | 2143/4330 [02:28<02:12, 16.55it/s]"
     ]
    },
    {
     "name": "stdout",
     "output_type": "stream",
     "text": [
      "Error processing Chahoonga Main Tujhe with TMDb: attribute name must be string, not 'int'\n"
     ]
    },
    {
     "name": "stderr",
     "output_type": "stream",
     "text": [
      " 50%|████▉     | 2146/4330 [02:28<02:03, 17.62it/s]"
     ]
    },
    {
     "name": "stdout",
     "output_type": "stream",
     "text": [
      "Error processing Bhookamp with TMDb: attribute name must be string, not 'int'\n"
     ]
    },
    {
     "name": "stderr",
     "output_type": "stream",
     "text": [
      " 51%|█████     | 2193/4330 [02:31<02:12, 16.08it/s]"
     ]
    },
    {
     "name": "stdout",
     "output_type": "stream",
     "text": [
      "Error processing Phoolan Hasina Ramkali with TMDb: attribute name must be string, not 'int'\n",
      "Error processing Sangraam with TMDb: attribute name must be string, not 'int'\n"
     ]
    },
    {
     "name": "stderr",
     "output_type": "stream",
     "text": [
      " 51%|█████     | 2197/4330 [02:31<02:10, 16.30it/s]"
     ]
    },
    {
     "name": "stdout",
     "output_type": "stream",
     "text": [
      "Error processing Sangraam with OMDb: could not convert string to float: 'N/A'\n"
     ]
    },
    {
     "name": "stderr",
     "output_type": "stream",
     "text": [
      " 51%|█████▏    | 2221/4330 [02:33<02:01, 17.38it/s]"
     ]
    },
    {
     "name": "stdout",
     "output_type": "stream",
     "text": [
      "Error processing Meera Ka Mohan with TMDb: attribute name must be string, not 'int'\n"
     ]
    },
    {
     "name": "stderr",
     "output_type": "stream",
     "text": [
      " 52%|█████▏    | 2241/4330 [02:34<02:12, 15.80it/s]"
     ]
    },
    {
     "name": "stdout",
     "output_type": "stream",
     "text": [
      "Error processing Jaan Se Pyaara with TMDb: attribute name must be string, not 'int'\n"
     ]
    },
    {
     "name": "stderr",
     "output_type": "stream",
     "text": [
      " 52%|█████▏    | 2249/4330 [02:35<02:05, 16.55it/s]"
     ]
    },
    {
     "name": "stdout",
     "output_type": "stream",
     "text": [
      "Error processing Sapne Sajan Ke with TMDb: attribute name must be string, not 'int'\n"
     ]
    },
    {
     "name": "stderr",
     "output_type": "stream",
     "text": [
      " 53%|█████▎    | 2283/4330 [02:37<02:01, 16.85it/s]"
     ]
    },
    {
     "name": "stdout",
     "output_type": "stream",
     "text": [
      "Error processing Ayee Milan Ki Raat with TMDb: attribute name must be string, not 'int'\n",
      "Error processing Aaj Ka Samson with TMDb: attribute name must be string, not 'int'\n"
     ]
    },
    {
     "name": "stderr",
     "output_type": "stream",
     "text": [
      " 53%|█████▎    | 2307/4330 [02:38<02:00, 16.72it/s]"
     ]
    },
    {
     "name": "stdout",
     "output_type": "stream",
     "text": [
      "Error processing Ghar Parivar with TMDb: attribute name must be string, not 'int'\n",
      "Error processing Ghar Parivar with OMDb: could not convert string to float: 'N/A'\n"
     ]
    },
    {
     "name": "stderr",
     "output_type": "stream",
     "text": [
      " 53%|█████▎    | 2311/4330 [02:38<01:54, 17.62it/s]"
     ]
    },
    {
     "name": "stdout",
     "output_type": "stream",
     "text": [
      "Error processing Jaan Pechaan with TMDb: attribute name must be string, not 'int'\n",
      "Error processing Jaan Pechaan with OMDb: could not convert string to float: 'N/A'\n"
     ]
    },
    {
     "name": "stderr",
     "output_type": "stream",
     "text": [
      " 54%|█████▎    | 2325/4330 [02:39<02:01, 16.50it/s]"
     ]
    },
    {
     "name": "stdout",
     "output_type": "stream",
     "text": [
      "Error processing Mehandi Ban Gai Khoon with TMDb: attribute name must be string, not 'int'\n",
      "Error processing Mehandi Ban Gai Khoon with OMDb: could not convert string to float: 'N/A'\n"
     ]
    },
    {
     "name": "stderr",
     "output_type": "stream",
     "text": [
      " 54%|█████▍    | 2353/4330 [02:42<05:07,  6.43it/s]"
     ]
    },
    {
     "name": "stdout",
     "output_type": "stream",
     "text": [
      "Error processing Swarg Jaisaa Ghar with TMDb: attribute name must be string, not 'int'\n",
      "Error processing Swarg Jaisaa Ghar with OMDb: could not convert string to float: 'N/A'\n"
     ]
    },
    {
     "name": "stderr",
     "output_type": "stream",
     "text": [
      " 54%|█████▍    | 2356/4330 [02:42<05:14,  6.28it/s]"
     ]
    },
    {
     "name": "stdout",
     "output_type": "stream",
     "text": [
      "Error processing Shiv Ram with TMDb: attribute name must be string, not 'int'\n"
     ]
    },
    {
     "name": "stderr",
     "output_type": "stream",
     "text": [
      " 55%|█████▍    | 2361/4330 [02:43<05:31,  5.94it/s]"
     ]
    },
    {
     "name": "stdout",
     "output_type": "stream",
     "text": [
      "Error processing Aaj Ke Shahenshah with TMDb: attribute name must be string, not 'int'\n",
      "Error processing Yeh Aag Kab Bujhegi with TMDb: attribute name must be string, not 'int'\n"
     ]
    },
    {
     "name": "stderr",
     "output_type": "stream",
     "text": [
      " 55%|█████▍    | 2362/4330 [02:43<05:11,  6.32it/s]"
     ]
    },
    {
     "name": "stdout",
     "output_type": "stream",
     "text": [
      "Error processing Amiri Garibi with TMDb: attribute name must be string, not 'int'\n"
     ]
    },
    {
     "name": "stderr",
     "output_type": "stream",
     "text": [
      " 55%|█████▍    | 2367/4330 [02:44<06:42,  4.87it/s]"
     ]
    },
    {
     "name": "stdout",
     "output_type": "stream",
     "text": [
      "Error processing Awaaz De Kahan Hai with TMDb: attribute name must be string, not 'int'\n"
     ]
    },
    {
     "name": "stderr",
     "output_type": "stream",
     "text": [
      " 55%|█████▌    | 2393/4330 [02:49<05:30,  5.86it/s]"
     ]
    },
    {
     "name": "stdout",
     "output_type": "stream",
     "text": [
      "Error processing Jai Shiv Shankar with TMDb: attribute name must be string, not 'int'\n",
      "Error processing Kaarnama with TMDb: attribute name must be string, not 'int'\n",
      "Error processing Kaarnama with OMDb: could not convert string to float: 'N/A'\n"
     ]
    },
    {
     "name": "stderr",
     "output_type": "stream",
     "text": [
      " 56%|█████▌    | 2404/4330 [02:52<06:24,  5.01it/s]"
     ]
    },
    {
     "name": "stdout",
     "output_type": "stream",
     "text": [
      "Error processing Pati Patni Aur Tawaif with TMDb: attribute name must be string, not 'int'\n"
     ]
    },
    {
     "name": "stderr",
     "output_type": "stream",
     "text": [
      " 56%|█████▌    | 2406/4330 [02:52<05:39,  5.67it/s]"
     ]
    },
    {
     "name": "stdout",
     "output_type": "stream",
     "text": [
      "Error processing Kali Ganga with TMDb: attribute name must be string, not 'int'\n"
     ]
    },
    {
     "name": "stderr",
     "output_type": "stream",
     "text": [
      " 56%|█████▌    | 2413/4330 [02:53<04:25,  7.21it/s]"
     ]
    },
    {
     "name": "stdout",
     "output_type": "stream",
     "text": [
      "Error processing Pyar Ke Naam Qurbaan with TMDb: attribute name must be string, not 'int'\n"
     ]
    },
    {
     "name": "stderr",
     "output_type": "stream",
     "text": [
      " 56%|█████▋    | 2436/4330 [02:58<06:21,  4.97it/s]"
     ]
    },
    {
     "name": "stdout",
     "output_type": "stream",
     "text": [
      "Error processing Dav Pech with TMDb: attribute name must be string, not 'int'\n"
     ]
    },
    {
     "name": "stderr",
     "output_type": "stream",
     "text": [
      " 57%|█████▋    | 2456/4330 [03:02<06:08,  5.08it/s]"
     ]
    },
    {
     "name": "stdout",
     "output_type": "stream",
     "text": [
      "Error processing Jaisi Karni Waisi Bharnii with TMDb: attribute name must be string, not 'int'\n"
     ]
    },
    {
     "name": "stderr",
     "output_type": "stream",
     "text": [
      " 57%|█████▋    | 2483/4330 [03:08<07:02,  4.37it/s]"
     ]
    },
    {
     "name": "stdout",
     "output_type": "stream",
     "text": [
      "Error processing Vicky Daada with TMDb: attribute name must be string, not 'int'\n"
     ]
    },
    {
     "name": "stderr",
     "output_type": "stream",
     "text": [
      " 57%|█████▋    | 2489/4330 [03:10<06:19,  4.86it/s]"
     ]
    },
    {
     "name": "stdout",
     "output_type": "stream",
     "text": [
      "Error processing Andha Yudh with TMDb: attribute name must be string, not 'int'\n"
     ]
    },
    {
     "name": "stderr",
     "output_type": "stream",
     "text": [
      " 58%|█████▊    | 2514/4330 [03:16<06:05,  4.97it/s]"
     ]
    },
    {
     "name": "stdout",
     "output_type": "stream",
     "text": [
      "Error processing Jungle Ki Beti with TMDb: attribute name must be string, not 'int'\n"
     ]
    },
    {
     "name": "stderr",
     "output_type": "stream",
     "text": [
      " 58%|█████▊    | 2531/4330 [03:20<06:11,  4.85it/s]"
     ]
    },
    {
     "name": "stdout",
     "output_type": "stream",
     "text": [
      "Error processing Paanch Fauladi with TMDb: attribute name must be string, not 'int'\n"
     ]
    },
    {
     "name": "stderr",
     "output_type": "stream",
     "text": [
      " 59%|█████▊    | 2543/4330 [03:22<05:03,  5.89it/s]"
     ]
    },
    {
     "name": "stdout",
     "output_type": "stream",
     "text": [
      "Error processing Pyaar Ka Mandir with TMDb: attribute name must be string, not 'int'\n"
     ]
    },
    {
     "name": "stderr",
     "output_type": "stream",
     "text": [
      " 59%|█████▉    | 2550/4330 [03:23<06:24,  4.63it/s]"
     ]
    },
    {
     "name": "stdout",
     "output_type": "stream",
     "text": [
      "Error processing Soorma Bhopali with TMDb: attribute name must be string, not 'int'\n"
     ]
    },
    {
     "name": "stderr",
     "output_type": "stream",
     "text": [
      " 60%|██████    | 2598/4330 [03:34<05:09,  5.60it/s]"
     ]
    },
    {
     "name": "stdout",
     "output_type": "stream",
     "text": [
      "Error processing Jhanjhaar with TMDb: attribute name must be string, not 'int'\n"
     ]
    },
    {
     "name": "stderr",
     "output_type": "stream",
     "text": [
      " 60%|██████    | 2600/4330 [03:34<04:53,  5.90it/s]"
     ]
    },
    {
     "name": "stdout",
     "output_type": "stream",
     "text": [
      "Error processing Madadgaar with TMDb: attribute name must be string, not 'int'\n"
     ]
    },
    {
     "name": "stderr",
     "output_type": "stream",
     "text": [
      " 61%|██████    | 2621/4330 [03:39<04:58,  5.73it/s]"
     ]
    },
    {
     "name": "stdout",
     "output_type": "stream",
     "text": [
      "Error processing Susman with TMDb: attribute name must be string, not 'int'\n"
     ]
    },
    {
     "name": "stderr",
     "output_type": "stream",
     "text": [
      " 61%|██████    | 2648/4330 [03:45<07:40,  3.65it/s]"
     ]
    },
    {
     "name": "stdout",
     "output_type": "stream",
     "text": [
      "Error processing Dosti Dushmani with TMDb: attribute name must be string, not 'int'\n"
     ]
    },
    {
     "name": "stderr",
     "output_type": "stream",
     "text": [
      " 62%|██████▏   | 2663/4330 [03:48<06:05,  4.57it/s]"
     ]
    },
    {
     "name": "stdout",
     "output_type": "stream",
     "text": [
      "Error processing Khel Mohabbat Ka with TMDb: attribute name must be string, not 'int'\n"
     ]
    },
    {
     "name": "stderr",
     "output_type": "stream",
     "text": [
      " 62%|██████▏   | 2680/4330 [03:51<04:49,  5.71it/s]"
     ]
    },
    {
     "name": "stdout",
     "output_type": "stream",
     "text": [
      "Error processing Pyaar Ke Do Pal with TMDb: attribute name must be string, not 'int'\n"
     ]
    },
    {
     "name": "stderr",
     "output_type": "stream",
     "text": [
      " 62%|██████▏   | 2700/4330 [03:55<04:40,  5.81it/s]"
     ]
    },
    {
     "name": "stdout",
     "output_type": "stream",
     "text": [
      "Error processing Ameer Aadmi Gharib Aadmi with TMDb: attribute name must be string, not 'int'\n"
     ]
    },
    {
     "name": "stderr",
     "output_type": "stream",
     "text": [
      " 63%|██████▎   | 2709/4330 [03:57<05:07,  5.26it/s]"
     ]
    },
    {
     "name": "stdout",
     "output_type": "stream",
     "text": [
      "Error processing Bhago Bhut Aaya with TMDb: attribute name must be string, not 'int'\n"
     ]
    },
    {
     "name": "stderr",
     "output_type": "stream",
     "text": [
      " 63%|██████▎   | 2715/4330 [03:58<05:33,  4.85it/s]"
     ]
    },
    {
     "name": "stdout",
     "output_type": "stream",
     "text": [
      "Error processing Durgaa with TMDb: attribute name must be string, not 'int'\n"
     ]
    },
    {
     "name": "stderr",
     "output_type": "stream",
     "text": [
      " 63%|██████▎   | 2730/4330 [04:01<04:52,  5.47it/s]"
     ]
    },
    {
     "name": "stdout",
     "output_type": "stream",
     "text": [
      "Error processing Kabhie Ajnabi The with TMDb: attribute name must be string, not 'int'\n"
     ]
    },
    {
     "name": "stderr",
     "output_type": "stream",
     "text": [
      " 63%|██████▎   | 2740/4330 [04:04<05:08,  5.15it/s]"
     ]
    },
    {
     "name": "stdout",
     "output_type": "stream",
     "text": [
      "Error processing Karm Yudh with TMDb: attribute name must be string, not 'int'\n"
     ]
    },
    {
     "name": "stderr",
     "output_type": "stream",
     "text": [
      " 63%|██████▎   | 2745/4330 [04:05<05:20,  4.95it/s]"
     ]
    },
    {
     "name": "stdout",
     "output_type": "stream",
     "text": [
      "Error processing Meraa Ghar Mere Bachche with TMDb: attribute name must be string, not 'int'\n"
     ]
    },
    {
     "name": "stderr",
     "output_type": "stream",
     "text": [
      " 64%|██████▍   | 2763/4330 [04:08<05:16,  4.96it/s]"
     ]
    },
    {
     "name": "stdout",
     "output_type": "stream",
     "text": [
      "Error processing Ram Tere Kitne Naam with TMDb: attribute name must be string, not 'int'\n"
     ]
    },
    {
     "name": "stderr",
     "output_type": "stream",
     "text": [
      " 64%|██████▍   | 2774/4330 [04:11<05:31,  4.69it/s]"
     ]
    },
    {
     "name": "stdout",
     "output_type": "stream",
     "text": [
      "Error processing Aaj Ki Awaaz with TMDb: attribute name must be string, not 'int'\n"
     ]
    },
    {
     "name": "stderr",
     "output_type": "stream",
     "text": [
      " 65%|██████▌   | 2825/4330 [04:22<05:04,  4.94it/s]"
     ]
    },
    {
     "name": "stdout",
     "output_type": "stream",
     "text": [
      "Error processing Vayanadan Thamban with TMDb: attribute name must be string, not 'int'\n"
     ]
    },
    {
     "name": "stderr",
     "output_type": "stream",
     "text": [
      " 66%|██████▌   | 2843/4330 [04:26<04:21,  5.69it/s]"
     ]
    },
    {
     "name": "stdout",
     "output_type": "stream",
     "text": [
      "Error processing Waqt Ki Pukar with TMDb: attribute name must be string, not 'int'\n",
      "Error processing Waqt Ki Pukar with OMDb: could not convert string to float: 'N/A'\n"
     ]
    },
    {
     "name": "stderr",
     "output_type": "stream",
     "text": [
      " 66%|██████▌   | 2854/4330 [04:28<04:25,  5.56it/s]"
     ]
    },
    {
     "name": "stdout",
     "output_type": "stream",
     "text": [
      "Error processing Andha Kanoon with TMDb: attribute name must be string, not 'int'\n",
      "Error processing Arohan with TMDb: attribute name must be string, not 'int'\n"
     ]
    },
    {
     "name": "stderr",
     "output_type": "stream",
     "text": [
      " 66%|██████▌   | 2865/4330 [04:30<04:30,  5.42it/s]"
     ]
    },
    {
     "name": "stdout",
     "output_type": "stream",
     "text": [
      "Error processing Ek Baar Chale Aao with TMDb: attribute name must be string, not 'int'\n"
     ]
    },
    {
     "name": "stderr",
     "output_type": "stream",
     "text": [
      " 66%|██████▌   | 2868/4330 [04:31<04:21,  5.60it/s]"
     ]
    },
    {
     "name": "stdout",
     "output_type": "stream",
     "text": [
      "Error processing Gehri Chot - Urf: Durdesh with TMDb: attribute name must be string, not 'int'\n"
     ]
    },
    {
     "name": "stderr",
     "output_type": "stream",
     "text": [
      " 66%|██████▋   | 2879/4330 [04:33<04:41,  5.16it/s]"
     ]
    },
    {
     "name": "stdout",
     "output_type": "stream",
     "text": [
      "Error processing Log Kya Kahenge with TMDb: attribute name must be string, not 'int'\n",
      "Error processing Log Kya Kahenge with OMDb: could not convert string to float: 'N/A'\n"
     ]
    },
    {
     "name": "stderr",
     "output_type": "stream",
     "text": [
      " 67%|██████▋   | 2905/4330 [04:39<05:05,  4.66it/s]"
     ]
    },
    {
     "name": "stdout",
     "output_type": "stream",
     "text": [
      "Error processing Woh Saat Din with TMDb: attribute name must be string, not 'int'\n"
     ]
    },
    {
     "name": "stderr",
     "output_type": "stream",
     "text": [
      " 67%|██████▋   | 2920/4330 [04:42<04:13,  5.56it/s]"
     ]
    },
    {
     "name": "stdout",
     "output_type": "stream",
     "text": [
      "Error processing Baawri with TMDb: attribute name must be string, not 'int'\n",
      "Error processing Baawri with OMDb: could not convert string to float: 'N/A'\n"
     ]
    },
    {
     "name": "stderr",
     "output_type": "stream",
     "text": [
      " 68%|██████▊   | 2936/4330 [04:45<04:30,  5.15it/s]"
     ]
    },
    {
     "name": "stdout",
     "output_type": "stream",
     "text": [
      "Error processing Do Dishayen with TMDb: attribute name must be string, not 'int'\n"
     ]
    },
    {
     "name": "stderr",
     "output_type": "stream",
     "text": [
      " 68%|██████▊   | 2952/4330 [04:49<04:38,  4.94it/s]"
     ]
    },
    {
     "name": "stdout",
     "output_type": "stream",
     "text": [
      "Error processing Main Intequam Loonga with TMDb: attribute name must be string, not 'int'\n"
     ]
    },
    {
     "name": "stderr",
     "output_type": "stream",
     "text": [
      " 68%|██████▊   | 2957/4330 [04:49<03:40,  6.22it/s]"
     ]
    },
    {
     "name": "stdout",
     "output_type": "stream",
     "text": [
      "Error processing Mehndi Rang Layegi with TMDb: attribute name must be string, not 'int'\n"
     ]
    },
    {
     "name": "stderr",
     "output_type": "stream",
     "text": [
      " 69%|██████▊   | 2973/4330 [04:52<03:43,  6.06it/s]"
     ]
    },
    {
     "name": "stdout",
     "output_type": "stream",
     "text": [
      "Error processing Shiv Charan with TMDb: attribute name must be string, not 'int'\n",
      "Error processing Shiv Charan with OMDb: could not convert string to float: 'N/A'\n",
      "Error processing Situm with TMDb: attribute name must be string, not 'int'\n"
     ]
    },
    {
     "name": "stderr",
     "output_type": "stream",
     "text": [
      " 69%|██████▉   | 2978/4330 [04:53<03:51,  5.83it/s]"
     ]
    },
    {
     "name": "stdout",
     "output_type": "stream",
     "text": [
      "Error processing Taqdeer Ka Badshah with TMDb: attribute name must be string, not 'int'\n"
     ]
    },
    {
     "name": "stderr",
     "output_type": "stream",
     "text": [
      " 69%|██████▉   | 3003/4330 [04:58<04:21,  5.07it/s]"
     ]
    },
    {
     "name": "stdout",
     "output_type": "stream",
     "text": [
      "Error processing Jwala Daku with TMDb: attribute name must be string, not 'int'\n",
      "Error processing Jwala Daku with OMDb: could not convert string to float: 'N/A'\n"
     ]
    },
    {
     "name": "stderr",
     "output_type": "stream",
     "text": [
      " 70%|██████▉   | 3019/4330 [05:01<03:15,  6.69it/s]"
     ]
    },
    {
     "name": "stdout",
     "output_type": "stream",
     "text": [
      "Error processing Main Aur Mera Haathi with TMDb: attribute name must be string, not 'int'\n",
      "Error processing Plot No. 5 with TMDb: attribute name must be string, not 'int'\n"
     ]
    },
    {
     "name": "stderr",
     "output_type": "stream",
     "text": [
      " 70%|██████▉   | 3024/4330 [05:02<03:35,  6.07it/s]"
     ]
    },
    {
     "name": "stdout",
     "output_type": "stream",
     "text": [
      "Error processing Kahani Ek Chor Ki with TMDb: attribute name must be string, not 'int'\n",
      "Error processing Kahani Ek Chor Ki with OMDb: could not convert string to float: 'N/A'\n"
     ]
    },
    {
     "name": "stderr",
     "output_type": "stream",
     "text": [
      " 70%|███████   | 3042/4330 [05:06<04:51,  4.42it/s]"
     ]
    },
    {
     "name": "stdout",
     "output_type": "stream",
     "text": [
      "Error processing Zamane Ko Dikhana Hai with TMDb: attribute name must be string, not 'int'\n",
      "Error processing Zamane Ko Dikhana Hai with OMDb: could not convert string to float: 'N/A'\n"
     ]
    },
    {
     "name": "stderr",
     "output_type": "stream",
     "text": [
      " 71%|███████   | 3073/4330 [05:11<03:49,  5.48it/s]"
     ]
    },
    {
     "name": "stdout",
     "output_type": "stream",
     "text": [
      "Error processing Jyoti Bane Jwala with TMDb: attribute name must be string, not 'int'\n"
     ]
    },
    {
     "name": "stderr",
     "output_type": "stream",
     "text": [
      " 72%|███████▏  | 3097/4330 [05:17<03:56,  5.21it/s]"
     ]
    },
    {
     "name": "stdout",
     "output_type": "stream",
     "text": [
      "Error processing Taxi Chor with TMDb: attribute name must be string, not 'int'\n"
     ]
    },
    {
     "name": "stderr",
     "output_type": "stream",
     "text": [
      " 72%|███████▏  | 3103/4330 [05:18<03:20,  6.11it/s]"
     ]
    },
    {
     "name": "stdout",
     "output_type": "stream",
     "text": [
      "Error processing Aakhri Kasam with TMDb: attribute name must be string, not 'int'\n"
     ]
    },
    {
     "name": "stderr",
     "output_type": "stream",
     "text": [
      " 72%|███████▏  | 3108/4330 [05:18<03:15,  6.24it/s]"
     ]
    },
    {
     "name": "stdout",
     "output_type": "stream",
     "text": [
      "Error processing Bagula Bhagat with TMDb: attribute name must be string, not 'int'\n"
     ]
    },
    {
     "name": "stderr",
     "output_type": "stream",
     "text": [
      " 72%|███████▏  | 3128/4330 [05:22<03:20,  6.01it/s]"
     ]
    },
    {
     "name": "stdout",
     "output_type": "stream",
     "text": [
      "Error processing Hum Tere Aashiq Hain with TMDb: attribute name must be string, not 'int'\n"
     ]
    },
    {
     "name": "stderr",
     "output_type": "stream",
     "text": [
      " 73%|███████▎  | 3141/4330 [05:25<02:55,  6.78it/s]"
     ]
    },
    {
     "name": "stdout",
     "output_type": "stream",
     "text": [
      "Error processing Magroor with TMDb: attribute name must be string, not 'int'\n"
     ]
    },
    {
     "name": "stderr",
     "output_type": "stream",
     "text": [
      " 73%|███████▎  | 3147/4330 [05:25<02:45,  7.16it/s]"
     ]
    },
    {
     "name": "stdout",
     "output_type": "stream",
     "text": [
      "Error processing Nagin Aur Suhagin with TMDb: attribute name must be string, not 'int'\n"
     ]
    },
    {
     "name": "stderr",
     "output_type": "stream",
     "text": [
      " 73%|███████▎  | 3151/4330 [05:26<03:12,  6.12it/s]"
     ]
    },
    {
     "name": "stdout",
     "output_type": "stream",
     "text": [
      "Error processing Prem Vivah with TMDb: attribute name must be string, not 'int'\n"
     ]
    },
    {
     "name": "stderr",
     "output_type": "stream",
     "text": [
      " 73%|███████▎  | 3170/4330 [05:30<04:23,  4.40it/s]"
     ]
    },
    {
     "name": "stdout",
     "output_type": "stream",
     "text": [
      "Error processing Aakhri Daku with TMDb: attribute name must be string, not 'int'\n"
     ]
    },
    {
     "name": "stderr",
     "output_type": "stream",
     "text": [
      " 73%|███████▎  | 3178/4330 [05:32<03:48,  5.03it/s]"
     ]
    },
    {
     "name": "stdout",
     "output_type": "stream",
     "text": [
      "Error processing Badalte Rishtey with TMDb: attribute name must be string, not 'int'\n"
     ]
    },
    {
     "name": "stderr",
     "output_type": "stream",
     "text": [
      " 74%|███████▎  | 3188/4330 [05:34<03:59,  4.76it/s]"
     ]
    },
    {
     "name": "stdout",
     "output_type": "stream",
     "text": [
      "Error processing Daaku Aur Jawan with TMDb: attribute name must be string, not 'int'\n"
     ]
    },
    {
     "name": "stderr",
     "output_type": "stream",
     "text": [
      " 74%|███████▍  | 3194/4330 [05:35<02:46,  6.83it/s]"
     ]
    },
    {
     "name": "stdout",
     "output_type": "stream",
     "text": [
      "Error processing Dil Se Mile Dil with TMDb: attribute name must be string, not 'int'\n"
     ]
    },
    {
     "name": "stderr",
     "output_type": "stream",
     "text": [
      " 74%|███████▍  | 3196/4330 [05:35<02:50,  6.67it/s]"
     ]
    },
    {
     "name": "stdout",
     "output_type": "stream",
     "text": [
      "Error processing Heeralaal Pannalal with TMDb: attribute name must be string, not 'int'\n"
     ]
    },
    {
     "name": "stderr",
     "output_type": "stream",
     "text": [
      " 74%|███████▍  | 3201/4330 [05:36<02:31,  7.47it/s]"
     ]
    },
    {
     "name": "stdout",
     "output_type": "stream",
     "text": [
      "Error processing Khoon Ka Badla Khoon with TMDb: attribute name must be string, not 'int'\n"
     ]
    },
    {
     "name": "stderr",
     "output_type": "stream",
     "text": [
      " 74%|███████▍  | 3204/4330 [05:37<03:08,  5.98it/s]"
     ]
    },
    {
     "name": "stdout",
     "output_type": "stream",
     "text": [
      "Error processing Kondura with TMDb: attribute name must be string, not 'int'\n"
     ]
    },
    {
     "name": "stderr",
     "output_type": "stream",
     "text": [
      " 74%|███████▍  | 3223/4330 [05:41<03:36,  5.12it/s]"
     ]
    },
    {
     "name": "stdout",
     "output_type": "stream",
     "text": [
      "Error processing Aakhri Goli with TMDb: attribute name must be string, not 'int'\n"
     ]
    },
    {
     "name": "stderr",
     "output_type": "stream",
     "text": [
      " 75%|███████▍  | 3230/4330 [05:42<02:58,  6.17it/s]"
     ]
    },
    {
     "name": "stdout",
     "output_type": "stream",
     "text": [
      "Error processing Abhi To Jee Lein with TMDb: attribute name must be string, not 'int'\n"
     ]
    },
    {
     "name": "stderr",
     "output_type": "stream",
     "text": [
      " 75%|███████▍  | 3231/4330 [05:42<03:05,  5.91it/s]"
     ]
    },
    {
     "name": "stdout",
     "output_type": "stream",
     "text": [
      "Error processing Adha Din Aadhi Raat with TMDb: attribute name must be string, not 'int'\n"
     ]
    },
    {
     "name": "stderr",
     "output_type": "stream",
     "text": [
      " 76%|███████▌  | 3272/4330 [05:50<02:51,  6.15it/s]"
     ]
    },
    {
     "name": "stdout",
     "output_type": "stream",
     "text": [
      "Error processing Kachcha Chor with TMDb: attribute name must be string, not 'int'\n"
     ]
    },
    {
     "name": "stderr",
     "output_type": "stream",
     "text": [
      " 76%|███████▌  | 3279/4330 [05:52<03:23,  5.16it/s]"
     ]
    },
    {
     "name": "stdout",
     "output_type": "stream",
     "text": [
      "Error processing Kissa Kursi Ka with TMDb: attribute name must be string, not 'int'\n",
      "Error processing Kissa Kursi Ka with OMDb: could not convert string to float: 'N/A'\n"
     ]
    },
    {
     "name": "stderr",
     "output_type": "stream",
     "text": [
      " 76%|███████▌  | 3288/4330 [05:54<03:29,  4.98it/s]"
     ]
    },
    {
     "name": "stdout",
     "output_type": "stream",
     "text": [
      "Error processing Pandit Aur Pathan with TMDb: attribute name must be string, not 'int'\n"
     ]
    },
    {
     "name": "stderr",
     "output_type": "stream",
     "text": [
      " 76%|███████▋  | 3303/4330 [05:57<02:45,  6.21it/s]"
     ]
    },
    {
     "name": "stdout",
     "output_type": "stream",
     "text": [
      "Error processing Aaj Ka Mahaatma with TMDb: attribute name must be string, not 'int'\n",
      "Error processing Aaj Ka Ye Ghar with TMDb: attribute name must be string, not 'int'\n"
     ]
    },
    {
     "name": "stderr",
     "output_type": "stream",
     "text": [
      " 77%|███████▋  | 3336/4330 [06:02<02:14,  7.39it/s]"
     ]
    },
    {
     "name": "stdout",
     "output_type": "stream",
     "text": [
      "Error processing Mazdoor Zindabaad with TMDb: attribute name must be string, not 'int'\n"
     ]
    },
    {
     "name": "stderr",
     "output_type": "stream",
     "text": [
      " 77%|███████▋  | 3339/4330 [06:02<03:06,  5.30it/s]"
     ]
    },
    {
     "name": "stdout",
     "output_type": "stream",
     "text": [
      "Error processing Mrigayaa with TMDb: attribute name must be string, not 'int'\n"
     ]
    },
    {
     "name": "stderr",
     "output_type": "stream",
     "text": [
      " 77%|███████▋  | 3344/4330 [06:03<02:55,  5.62it/s]"
     ]
    },
    {
     "name": "stdout",
     "output_type": "stream",
     "text": [
      "Error processing Rakhi Aur Rifle with TMDb: attribute name must be string, not 'int'\n",
      "Error processing Rangila Ratan with TMDb: attribute name must be string, not 'int'\n"
     ]
    },
    {
     "name": "stderr",
     "output_type": "stream",
     "text": [
      " 77%|███████▋  | 3346/4330 [06:04<03:18,  4.96it/s]"
     ]
    },
    {
     "name": "stdout",
     "output_type": "stream",
     "text": [
      "Error processing Sajjo Rani with TMDb: attribute name must be string, not 'int'\n",
      "Error processing Sajjo Rani with OMDb: could not convert string to float: 'N/A'\n"
     ]
    },
    {
     "name": "stderr",
     "output_type": "stream",
     "text": [
      " 77%|███████▋  | 3354/4330 [06:06<03:24,  4.77it/s]"
     ]
    },
    {
     "name": "stdout",
     "output_type": "stream",
     "text": [
      "Error processing Aa Jaa Sanam with TMDb: attribute name must be string, not 'int'\n"
     ]
    },
    {
     "name": "stderr",
     "output_type": "stream",
     "text": [
      " 78%|███████▊  | 3363/4330 [06:07<03:00,  5.37it/s]"
     ]
    },
    {
     "name": "stdout",
     "output_type": "stream",
     "text": [
      "Error processing Balak Aur Janwar with TMDb: attribute name must be string, not 'int'\n"
     ]
    },
    {
     "name": "stderr",
     "output_type": "stream",
     "text": [
      " 78%|███████▊  | 3366/4330 [06:08<02:50,  5.66it/s]"
     ]
    },
    {
     "name": "stdout",
     "output_type": "stream",
     "text": [
      "Error processing Dafaa 302 with TMDb: attribute name must be string, not 'int'\n",
      "Error processing Dafaa 302 with OMDb: could not convert string to float: 'N/A'\n"
     ]
    },
    {
     "name": "stderr",
     "output_type": "stream",
     "text": [
      " 78%|███████▊  | 3372/4330 [06:09<02:20,  6.82it/s]"
     ]
    },
    {
     "name": "stdout",
     "output_type": "stream",
     "text": [
      "Error processing Charandas Chor with TMDb: attribute name must be string, not 'int'\n"
     ]
    },
    {
     "name": "stderr",
     "output_type": "stream",
     "text": [
      " 78%|███████▊  | 3381/4330 [06:11<02:47,  5.65it/s]"
     ]
    },
    {
     "name": "stdout",
     "output_type": "stream",
     "text": [
      "Error processing Jaan Hazir Hai with TMDb: attribute name must be string, not 'int'\n"
     ]
    },
    {
     "name": "stderr",
     "output_type": "stream",
     "text": [
      " 78%|███████▊  | 3389/4330 [06:12<02:51,  5.49it/s]"
     ]
    },
    {
     "name": "stdout",
     "output_type": "stream",
     "text": [
      "Error processing Kahte Hain Mujhko Raja with TMDb: attribute name must be string, not 'int'\n"
     ]
    },
    {
     "name": "stderr",
     "output_type": "stream",
     "text": [
      " 78%|███████▊  | 3395/4330 [06:13<02:40,  5.83it/s]"
     ]
    },
    {
     "name": "stdout",
     "output_type": "stream",
     "text": [
      "Error processing Mazaaq with TMDb: attribute name must be string, not 'int'\n",
      "Error processing Mere Sajna with TMDb: attribute name must be string, not 'int'\n"
     ]
    },
    {
     "name": "stderr",
     "output_type": "stream",
     "text": [
      " 79%|███████▊  | 3407/4330 [06:16<03:05,  4.98it/s]"
     ]
    },
    {
     "name": "stdout",
     "output_type": "stream",
     "text": [
      "Error processing Sewak with TMDb: attribute name must be string, not 'int'\n",
      "Error processing Sewak with OMDb: could not convert string to float: 'N/A'\n"
     ]
    },
    {
     "name": "stderr",
     "output_type": "stream",
     "text": [
      " 79%|███████▉  | 3413/4330 [06:17<02:49,  5.41it/s]"
     ]
    },
    {
     "name": "stdout",
     "output_type": "stream",
     "text": [
      "Error processing Umar Qaid with TMDb: attribute name must be string, not 'int'\n"
     ]
    },
    {
     "name": "stderr",
     "output_type": "stream",
     "text": [
      " 79%|███████▉  | 3429/4330 [06:20<02:42,  5.54it/s]"
     ]
    },
    {
     "name": "stdout",
     "output_type": "stream",
     "text": [
      "Error processing Azad Mohabbat with TMDb: attribute name must be string, not 'int'\n"
     ]
    },
    {
     "name": "stderr",
     "output_type": "stream",
     "text": [
      " 80%|███████▉  | 3443/4330 [06:23<03:06,  4.75it/s]"
     ]
    },
    {
     "name": "stdout",
     "output_type": "stream",
     "text": [
      "Error processing Duniya Ka Mela with TMDb: attribute name must be string, not 'int'\n",
      "Error processing Duniya Ka Mela with OMDb: could not convert string to float: 'N/A'\n"
     ]
    },
    {
     "name": "stderr",
     "output_type": "stream",
     "text": [
      " 80%|███████▉  | 3445/4330 [06:24<03:59,  3.69it/s]"
     ]
    },
    {
     "name": "stdout",
     "output_type": "stream",
     "text": [
      "Error processing Farebi with TMDb: attribute name must be string, not 'int'\n",
      "Error processing Farebi with OMDb: could not convert string to float: 'N/A'\n"
     ]
    },
    {
     "name": "stderr",
     "output_type": "stream",
     "text": [
      " 81%|████████  | 3489/4330 [06:53<06:49,  2.05it/s]"
     ]
    },
    {
     "name": "stdout",
     "output_type": "stream",
     "text": [
      "Error processing Barkha Bahar with TMDb: attribute name must be string, not 'int'\n"
     ]
    },
    {
     "name": "stderr",
     "output_type": "stream",
     "text": [
      " 81%|████████  | 3502/4330 [07:04<08:27,  1.63it/s]"
     ]
    },
    {
     "name": "stdout",
     "output_type": "stream",
     "text": [
      "Error processing Ek Mutthi Aasmaan with TMDb: attribute name must be string, not 'int'\n"
     ]
    },
    {
     "name": "stderr",
     "output_type": "stream",
     "text": [
      " 81%|████████  | 3503/4330 [07:07<17:56,  1.30s/it]"
     ]
    },
    {
     "name": "stdout",
     "output_type": "stream",
     "text": [
      "Error processing Ek Mutthi Aasmaan with OMDb: could not convert string to float: 'N/A'\n"
     ]
    },
    {
     "name": "stderr",
     "output_type": "stream",
     "text": [
      " 81%|████████  | 3505/4330 [07:08<14:30,  1.05s/it]"
     ]
    },
    {
     "name": "stdout",
     "output_type": "stream",
     "text": [
      "Error processing Ek Nari Do Roop with TMDb: attribute name must be string, not 'int'\n"
     ]
    },
    {
     "name": "stderr",
     "output_type": "stream",
     "text": [
      " 81%|████████  | 3507/4330 [07:13<19:41,  1.44s/it]"
     ]
    },
    {
     "name": "stdout",
     "output_type": "stream",
     "text": [
      "Error processing Ghulam Begam Badshah with TMDb: attribute name must be string, not 'int'\n"
     ]
    },
    {
     "name": "stderr",
     "output_type": "stream",
     "text": [
      " 81%|████████  | 3513/4330 [07:17<11:42,  1.16it/s]"
     ]
    },
    {
     "name": "stdout",
     "output_type": "stream",
     "text": [
      "Error processing Kahani Hum Sab Ki with TMDb: attribute name must be string, not 'int'\n"
     ]
    },
    {
     "name": "stderr",
     "output_type": "stream",
     "text": [
      " 82%|████████▏ | 3540/4330 [07:34<11:14,  1.17it/s]"
     ]
    },
    {
     "name": "stdout",
     "output_type": "stream",
     "text": [
      "Error processing Anokhi Pehchan with TMDb: attribute name must be string, not 'int'\n"
     ]
    },
    {
     "name": "stderr",
     "output_type": "stream",
     "text": [
      " 82%|████████▏ | 3547/4330 [07:41<11:09,  1.17it/s]"
     ]
    },
    {
     "name": "stdout",
     "output_type": "stream",
     "text": [
      "Error processing Babul Ki Galiyaan with TMDb: attribute name must be string, not 'int'\n"
     ]
    },
    {
     "name": "stderr",
     "output_type": "stream",
     "text": [
      " 82%|████████▏ | 3552/4330 [07:46<11:18,  1.15it/s]"
     ]
    },
    {
     "name": "stdout",
     "output_type": "stream",
     "text": [
      "Error processing Bees Saal Pehle with TMDb: attribute name must be string, not 'int'\n"
     ]
    },
    {
     "name": "stderr",
     "output_type": "stream",
     "text": [
      " 82%|████████▏ | 3565/4330 [07:57<06:28,  1.97it/s]"
     ]
    },
    {
     "name": "stdout",
     "output_type": "stream",
     "text": [
      "Error processing Ek Adhuri Kahani with TMDb: attribute name must be string, not 'int'\n"
     ]
    },
    {
     "name": "stderr",
     "output_type": "stream",
     "text": [
      " 82%|████████▏ | 3568/4330 [08:02<14:39,  1.15s/it]"
     ]
    },
    {
     "name": "stdout",
     "output_type": "stream",
     "text": [
      "Error processing Ek Khiladi Bawan Pattey with TMDb: attribute name must be string, not 'int'\n"
     ]
    },
    {
     "name": "stderr",
     "output_type": "stream",
     "text": [
      " 82%|████████▏ | 3570/4330 [08:04<13:00,  1.03s/it]"
     ]
    },
    {
     "name": "stdout",
     "output_type": "stream",
     "text": [
      "Error processing Gaon Hamara Shaher Tumhara with TMDb: attribute name must be string, not 'int'\n"
     ]
    },
    {
     "name": "stderr",
     "output_type": "stream",
     "text": [
      " 83%|████████▎ | 3591/4330 [08:22<08:31,  1.45it/s]"
     ]
    },
    {
     "name": "stdout",
     "output_type": "stream",
     "text": [
      "Error processing Piya Ka Ghar with TMDb: attribute name must be string, not 'int'\n"
     ]
    },
    {
     "name": "stderr",
     "output_type": "stream",
     "text": [
      " 84%|████████▎ | 3624/4330 [08:44<04:34,  2.57it/s]"
     ]
    },
    {
     "name": "stdout",
     "output_type": "stream",
     "text": [
      "Error processing Bikhre Moti with TMDb: attribute name must be string, not 'int'\n"
     ]
    },
    {
     "name": "stderr",
     "output_type": "stream",
     "text": [
      " 84%|████████▎ | 3625/4330 [08:46<07:18,  1.61it/s]"
     ]
    },
    {
     "name": "stdout",
     "output_type": "stream",
     "text": [
      "Error processing Beharoopia with TMDb: attribute name must be string, not 'int'\n"
     ]
    },
    {
     "name": "stderr",
     "output_type": "stream",
     "text": [
      " 84%|████████▍ | 3633/4330 [08:52<07:59,  1.45it/s]"
     ]
    },
    {
     "name": "stdout",
     "output_type": "stream",
     "text": [
      "Error processing Badnam Farishte with TMDb: attribute name must be string, not 'int'\n"
     ]
    },
    {
     "name": "stderr",
     "output_type": "stream",
     "text": [
      " 84%|████████▍ | 3647/4330 [09:01<05:20,  2.13it/s]"
     ]
    },
    {
     "name": "stdout",
     "output_type": "stream",
     "text": [
      "Error processing Jai Bangladesh with TMDb: attribute name must be string, not 'int'\n"
     ]
    },
    {
     "name": "stderr",
     "output_type": "stream",
     "text": [
      " 84%|████████▍ | 3648/4330 [09:03<08:50,  1.29it/s]"
     ]
    },
    {
     "name": "stdout",
     "output_type": "stream",
     "text": [
      "Error processing Jawan Mohabbat with TMDb: attribute name must be string, not 'int'\n"
     ]
    },
    {
     "name": "stderr",
     "output_type": "stream",
     "text": [
      " 84%|████████▍ | 3656/4330 [09:09<07:56,  1.41it/s]"
     ]
    },
    {
     "name": "stdout",
     "output_type": "stream",
     "text": [
      "Error processing Ladki Pasand Hai with TMDb: attribute name must be string, not 'int'\n"
     ]
    },
    {
     "name": "stderr",
     "output_type": "stream",
     "text": [
      " 85%|████████▍ | 3673/4330 [09:23<07:40,  1.43it/s]"
     ]
    },
    {
     "name": "stdout",
     "output_type": "stream",
     "text": [
      "Error processing Preet Ki Dori with TMDb: attribute name must be string, not 'int'\n"
     ]
    },
    {
     "name": "stderr",
     "output_type": "stream",
     "text": [
      " 85%|████████▍ | 3675/4330 [09:26<12:07,  1.11s/it]"
     ]
    },
    {
     "name": "stdout",
     "output_type": "stream",
     "text": [
      "Error processing Preet Ki Dori with OMDb: could not convert string to float: 'N/A'\n"
     ]
    },
    {
     "name": "stderr",
     "output_type": "stream",
     "text": [
      " 85%|████████▌ | 3690/4330 [09:37<07:56,  1.34it/s]"
     ]
    },
    {
     "name": "stdout",
     "output_type": "stream",
     "text": [
      "Error processing Purab Aur Paschim with TMDb: attribute name must be string, not 'int'\n"
     ]
    },
    {
     "name": "stderr",
     "output_type": "stream",
     "text": [
      " 85%|████████▌ | 3691/4330 [09:40<16:01,  1.51s/it]"
     ]
    },
    {
     "name": "stdout",
     "output_type": "stream",
     "text": [
      "Error processing Purab Aur Paschim with OMDb: could not convert string to float: 'N/A'\n"
     ]
    },
    {
     "name": "stderr",
     "output_type": "stream",
     "text": [
      " 85%|████████▌ | 3697/4330 [09:44<07:48,  1.35it/s]"
     ]
    },
    {
     "name": "stdout",
     "output_type": "stream",
     "text": [
      "Error processing Tum Haseen Main Jawaan with TMDb: attribute name must be string, not 'int'\n"
     ]
    },
    {
     "name": "stderr",
     "output_type": "stream",
     "text": [
      " 86%|████████▌ | 3721/4330 [09:59<06:27,  1.57it/s]"
     ]
    },
    {
     "name": "stdout",
     "output_type": "stream",
     "text": [
      "Error processing Gunah Aur Kanoon with TMDb: attribute name must be string, not 'int'\n"
     ]
    },
    {
     "name": "stderr",
     "output_type": "stream",
     "text": [
      " 86%|████████▌ | 3732/4330 [10:09<07:48,  1.28it/s]"
     ]
    },
    {
     "name": "stdout",
     "output_type": "stream",
     "text": [
      "Error processing Moojrim with TMDb: attribute name must be string, not 'int'\n"
     ]
    },
    {
     "name": "stderr",
     "output_type": "stream",
     "text": [
      " 86%|████████▋ | 3736/4330 [10:15<10:22,  1.05s/it]"
     ]
    },
    {
     "name": "stdout",
     "output_type": "stream",
     "text": [
      "Error processing Pavitra Paapi with TMDb: attribute name must be string, not 'int'\n"
     ]
    },
    {
     "name": "stderr",
     "output_type": "stream",
     "text": [
      " 86%|████████▋ | 3740/4330 [10:23<15:15,  1.55s/it]"
     ]
    },
    {
     "name": "stdout",
     "output_type": "stream",
     "text": [
      "Error processing Pushpanjali with TMDb: attribute name must be string, not 'int'\n"
     ]
    },
    {
     "name": "stderr",
     "output_type": "stream",
     "text": [
      " 86%|████████▋ | 3741/4330 [10:27<19:50,  2.02s/it]"
     ]
    },
    {
     "name": "stdout",
     "output_type": "stream",
     "text": [
      "Error processing Raaton Ka Raja with TMDb: attribute name must be string, not 'int'\n"
     ]
    },
    {
     "name": "stderr",
     "output_type": "stream",
     "text": [
      " 87%|████████▋ | 3748/4330 [10:31<07:53,  1.23it/s]"
     ]
    },
    {
     "name": "stdout",
     "output_type": "stream",
     "text": [
      "Error processing Anjaan Hai Koi with TMDb: attribute name must be string, not 'int'\n"
     ]
    },
    {
     "name": "stderr",
     "output_type": "stream",
     "text": [
      " 87%|████████▋ | 3752/4330 [10:34<06:35,  1.46it/s]"
     ]
    },
    {
     "name": "stdout",
     "output_type": "stream",
     "text": [
      "Error processing Chanda Aur Bijli with TMDb: attribute name must be string, not 'int'\n"
     ]
    },
    {
     "name": "stderr",
     "output_type": "stream",
     "text": [
      " 87%|████████▋ | 3761/4330 [10:43<06:38,  1.43it/s]"
     ]
    },
    {
     "name": "stdout",
     "output_type": "stream",
     "text": [
      "Error processing Ek Shrimaan Ek Shrimati with TMDb: attribute name must be string, not 'int'\n"
     ]
    },
    {
     "name": "stderr",
     "output_type": "stream",
     "text": [
      " 87%|████████▋ | 3788/4330 [10:58<04:35,  1.97it/s]"
     ]
    },
    {
     "name": "stdout",
     "output_type": "stream",
     "text": [
      "Error processing Do Kaliyaan with TMDb: attribute name must be string, not 'int'\n"
     ]
    },
    {
     "name": "stderr",
     "output_type": "stream",
     "text": [
      " 88%|████████▊ | 3809/4330 [11:12<04:14,  2.04it/s]"
     ]
    },
    {
     "name": "stdout",
     "output_type": "stream",
     "text": [
      "Error processing Balram Shri Krishna with TMDb: attribute name must be string, not 'int'\n"
     ]
    },
    {
     "name": "stderr",
     "output_type": "stream",
     "text": [
      " 88%|████████▊ | 3812/4330 [11:17<09:07,  1.06s/it]"
     ]
    },
    {
     "name": "stdout",
     "output_type": "stream",
     "text": [
      "Error processing Do Dooni Char with TMDb: attribute name must be string, not 'int'\n"
     ]
    },
    {
     "name": "stderr",
     "output_type": "stream",
     "text": [
      " 88%|████████▊ | 3814/4330 [11:21<11:54,  1.39s/it]"
     ]
    },
    {
     "name": "stdout",
     "output_type": "stream",
     "text": [
      "Error processing Humsaya with TMDb: attribute name must be string, not 'int'\n"
     ]
    },
    {
     "name": "stderr",
     "output_type": "stream",
     "text": [
      " 88%|████████▊ | 3825/4330 [11:32<07:23,  1.14it/s]"
     ]
    },
    {
     "name": "stdout",
     "output_type": "stream",
     "text": [
      "Error processing Ek Phool Ek Bhool with TMDb: attribute name must be string, not 'int'\n"
     ]
    },
    {
     "name": "stderr",
     "output_type": "stream",
     "text": [
      " 88%|████████▊ | 3832/4330 [11:39<05:37,  1.48it/s]"
     ]
    },
    {
     "name": "stdout",
     "output_type": "stream",
     "text": [
      "Error processing Sapno Ka Saudagar with TMDb: attribute name must be string, not 'int'\n"
     ]
    },
    {
     "name": "stderr",
     "output_type": "stream",
     "text": [
      " 89%|████████▉ | 3863/4330 [11:56<04:17,  1.82it/s]"
     ]
    },
    {
     "name": "stdout",
     "output_type": "stream",
     "text": [
      "Error processing Hatey Bazarey with TMDb: attribute name must be string, not 'int'\n"
     ]
    },
    {
     "name": "stderr",
     "output_type": "stream",
     "text": [
      " 89%|████████▉ | 3870/4330 [12:04<06:24,  1.20it/s]"
     ]
    },
    {
     "name": "stdout",
     "output_type": "stream",
     "text": [
      "Error processing Noor Jehan with TMDb: attribute name must be string, not 'int'\n"
     ]
    },
    {
     "name": "stderr",
     "output_type": "stream",
     "text": [
      " 90%|████████▉ | 3889/4330 [12:16<04:50,  1.52it/s]"
     ]
    },
    {
     "name": "stdout",
     "output_type": "stream",
     "text": [
      "Error processing Daku Mangal Singh with TMDb: attribute name must be string, not 'int'\n"
     ]
    },
    {
     "name": "stderr",
     "output_type": "stream",
     "text": [
      " 90%|█████████ | 3899/4330 [12:26<05:30,  1.31it/s]"
     ]
    },
    {
     "name": "stdout",
     "output_type": "stream",
     "text": [
      "Error processing Sagaai with TMDb: attribute name must be string, not 'int'\n"
     ]
    },
    {
     "name": "stderr",
     "output_type": "stream",
     "text": [
      " 90%|█████████ | 3903/4330 [12:31<07:25,  1.04s/it]"
     ]
    },
    {
     "name": "stdout",
     "output_type": "stream",
     "text": [
      "Error processing Akashdeep with TMDb: attribute name must be string, not 'int'\n"
     ]
    },
    {
     "name": "stderr",
     "output_type": "stream",
     "text": [
      " 90%|█████████ | 3909/4330 [12:38<06:25,  1.09it/s]"
     ]
    },
    {
     "name": "stdout",
     "output_type": "stream",
     "text": [
      "Error processing Chhoti Chhoti Baten with TMDb: attribute name must be string, not 'int'\n"
     ]
    },
    {
     "name": "stderr",
     "output_type": "stream",
     "text": [
      " 91%|█████████ | 3921/4330 [12:48<05:01,  1.36it/s]"
     ]
    },
    {
     "name": "stdout",
     "output_type": "stream",
     "text": [
      "Error processing Neela Aakash with TMDb: attribute name must be string, not 'int'\n"
     ]
    },
    {
     "name": "stderr",
     "output_type": "stream",
     "text": [
      " 91%|█████████ | 3947/4330 [13:04<04:24,  1.45it/s]"
     ]
    },
    {
     "name": "stdout",
     "output_type": "stream",
     "text": [
      "Error processing Door Ki Awaaz with TMDb: attribute name must be string, not 'int'\n"
     ]
    },
    {
     "name": "stderr",
     "output_type": "stream",
     "text": [
      " 91%|█████████ | 3950/4330 [13:07<05:09,  1.23it/s]"
     ]
    },
    {
     "name": "stdout",
     "output_type": "stream",
     "text": [
      "Error processing Door Gagan Ki Chhaon Mein with TMDb: attribute name must be string, not 'int'\n"
     ]
    },
    {
     "name": "stderr",
     "output_type": "stream",
     "text": [
      " 91%|█████████ | 3951/4330 [13:08<05:43,  1.10it/s]"
     ]
    },
    {
     "name": "stdout",
     "output_type": "stream",
     "text": [
      "Error processing Daal Me Kala with TMDb: attribute name must be string, not 'int'\n"
     ]
    },
    {
     "name": "stderr",
     "output_type": "stream",
     "text": [
      " 92%|█████████▏| 3995/4330 [13:38<04:11,  1.33it/s]"
     ]
    },
    {
     "name": "stdout",
     "output_type": "stream",
     "text": [
      "Error processing Kaun Apna Kaun Paraya with TMDb: attribute name must be string, not 'int'\n"
     ]
    },
    {
     "name": "stderr",
     "output_type": "stream",
     "text": [
      " 92%|█████████▏| 4004/4330 [13:45<04:01,  1.35it/s]"
     ]
    },
    {
     "name": "stdout",
     "output_type": "stream",
     "text": [
      "Error processing Pyar Ka Bandhan with TMDb: attribute name must be string, not 'int'\n"
     ]
    },
    {
     "name": "stderr",
     "output_type": "stream",
     "text": [
      " 93%|█████████▎| 4006/4330 [13:49<06:57,  1.29s/it]"
     ]
    },
    {
     "name": "stdout",
     "output_type": "stream",
     "text": [
      "Error processing Rustam Sohrab with TMDb: attribute name must be string, not 'int'\n"
     ]
    },
    {
     "name": "stderr",
     "output_type": "stream",
     "text": [
      " 93%|█████████▎| 4007/4330 [13:50<06:20,  1.18s/it]"
     ]
    },
    {
     "name": "stdout",
     "output_type": "stream",
     "text": [
      "Error processing Rustom-E-Baghdad with TMDb: attribute name must be string, not 'int'\n"
     ]
    },
    {
     "name": "stderr",
     "output_type": "stream",
     "text": [
      " 93%|█████████▎| 4019/4330 [13:58<02:15,  2.30it/s]"
     ]
    },
    {
     "name": "stdout",
     "output_type": "stream",
     "text": [
      "Error processing Apna Banake Dekho with TMDb: attribute name must be string, not 'int'\n"
     ]
    },
    {
     "name": "stderr",
     "output_type": "stream",
     "text": [
      " 93%|█████████▎| 4024/4330 [14:04<04:03,  1.26it/s]"
     ]
    },
    {
     "name": "stdout",
     "output_type": "stream",
     "text": [
      "Error processing Girls' Hostel with TMDb: attribute name must be string, not 'int'\n"
     ]
    },
    {
     "name": "stderr",
     "output_type": "stream",
     "text": [
      " 93%|█████████▎| 4039/4330 [14:15<03:53,  1.24it/s]"
     ]
    },
    {
     "name": "stdout",
     "output_type": "stream",
     "text": [
      "Error processing Soorat Aur Seerat with TMDb: attribute name must be string, not 'int'\n"
     ]
    },
    {
     "name": "stderr",
     "output_type": "stream",
     "text": [
      " 93%|█████████▎| 4046/4330 [14:22<03:45,  1.26it/s]"
     ]
    },
    {
     "name": "stdout",
     "output_type": "stream",
     "text": [
      "Error processing Jab Pyar Kisi Se Hota Hai with TMDb: attribute name must be string, not 'int'\n"
     ]
    },
    {
     "name": "stderr",
     "output_type": "stream",
     "text": [
      " 93%|█████████▎| 4047/4330 [14:23<03:54,  1.21it/s]"
     ]
    },
    {
     "name": "stdout",
     "output_type": "stream",
     "text": [
      "Error processing Jab Pyar Kisi Se Hota Hai with TMDb: attribute name must be string, not 'int'\n"
     ]
    },
    {
     "name": "stderr",
     "output_type": "stream",
     "text": [
      " 94%|█████████▍| 4090/4330 [14:47<02:04,  1.93it/s]"
     ]
    },
    {
     "name": "stdout",
     "output_type": "stream",
     "text": [
      "Error processing Ek Ke Baad Ek with TMDb: attribute name must be string, not 'int'\n"
     ]
    },
    {
     "name": "stderr",
     "output_type": "stream",
     "text": [
      " 95%|█████████▌| 4134/4330 [15:15<01:29,  2.19it/s]"
     ]
    },
    {
     "name": "stdout",
     "output_type": "stream",
     "text": [
      "Error processing Phir Subah Hogi with TMDb: attribute name must be string, not 'int'\n"
     ]
    },
    {
     "name": "stderr",
     "output_type": "stream",
     "text": [
      " 95%|█████████▌| 4135/4330 [15:18<03:14,  1.00it/s]"
     ]
    },
    {
     "name": "stdout",
     "output_type": "stream",
     "text": [
      "Error processing Phir Subah Hogi with OMDb: could not convert string to float: 'N/A'\n"
     ]
    },
    {
     "name": "stderr",
     "output_type": "stream",
     "text": [
      " 96%|█████████▌| 4145/4330 [15:23<01:47,  1.72it/s]"
     ]
    },
    {
     "name": "stdout",
     "output_type": "stream",
     "text": [
      "Error processing Amardeep with TMDb: attribute name must be string, not 'int'\n"
     ]
    },
    {
     "name": "stderr",
     "output_type": "stream",
     "text": [
      " 97%|█████████▋| 4180/4330 [15:42<01:11,  2.10it/s]"
     ]
    },
    {
     "name": "stdout",
     "output_type": "stream",
     "text": [
      "Error processing Hum Panchhi Ek Daal Ke with TMDb: attribute name must be string, not 'int'\n"
     ]
    },
    {
     "name": "stderr",
     "output_type": "stream",
     "text": [
      " 98%|█████████▊| 4251/4330 [16:21<00:31,  2.52it/s]"
     ]
    },
    {
     "name": "stdout",
     "output_type": "stream",
     "text": [
      "Error processing Baadbaan with TMDb: attribute name must be string, not 'int'\n"
     ]
    },
    {
     "name": "stderr",
     "output_type": "stream",
     "text": [
      " 98%|█████████▊| 4252/4330 [16:23<01:08,  1.14it/s]"
     ]
    },
    {
     "name": "stdout",
     "output_type": "stream",
     "text": [
      "Error processing Baap Beti with TMDb: attribute name must be string, not 'int'\n"
     ]
    },
    {
     "name": "stderr",
     "output_type": "stream",
     "text": [
      " 98%|█████████▊| 4261/4330 [16:31<00:51,  1.35it/s]"
     ]
    },
    {
     "name": "stdout",
     "output_type": "stream",
     "text": [
      "Error processing Shabaab with TMDb: attribute name must be string, not 'int'\n"
     ]
    },
    {
     "name": "stderr",
     "output_type": "stream",
     "text": [
      " 98%|█████████▊| 4262/4330 [16:34<01:45,  1.55s/it]"
     ]
    },
    {
     "name": "stdout",
     "output_type": "stream",
     "text": [
      "Error processing Shabaab with OMDb: could not convert string to float: 'N/A'\n"
     ]
    },
    {
     "name": "stderr",
     "output_type": "stream",
     "text": [
      " 99%|█████████▊| 4272/4330 [16:39<00:28,  2.04it/s]"
     ]
    },
    {
     "name": "stdout",
     "output_type": "stream",
     "text": [
      "Error processing Aabshar with TMDb: attribute name must be string, not 'int'\n"
     ]
    },
    {
     "name": "stderr",
     "output_type": "stream",
     "text": [
      " 99%|█████████▊| 4274/4330 [16:42<00:42,  1.32it/s]"
     ]
    },
    {
     "name": "stdout",
     "output_type": "stream",
     "text": [
      "Error processing Alif Laila with TMDb: attribute name must be string, not 'int'\n"
     ]
    },
    {
     "name": "stderr",
     "output_type": "stream",
     "text": [
      " 99%|█████████▉| 4277/4330 [16:44<00:32,  1.63it/s]"
     ]
    },
    {
     "name": "stdout",
     "output_type": "stream",
     "text": [
      "Error processing Jeewan Jyoti with TMDb: attribute name must be string, not 'int'\n"
     ]
    },
    {
     "name": "stderr",
     "output_type": "stream",
     "text": [
      "100%|██████████| 4330/4330 [17:12<00:00,  1.91it/s]"
     ]
    },
    {
     "name": "stdout",
     "output_type": "stream",
     "text": [
      "Error processing Meena Bazaar with TMDb: attribute name must be string, not 'int'\n",
      "Error processing Meena Bazaar with OMDb: could not convert string to float: 'N/A'\n"
     ]
    },
    {
     "name": "stderr",
     "output_type": "stream",
     "text": [
      "100%|██████████| 4330/4330 [17:15<00:00,  4.18it/s]\n"
     ]
    }
   ],
   "source": [
    "# Apply the function to the DataFrame with a progress bar\n",
    "df[['TMDB_Genre', 'Vote_Average', 'Vote_Count']] = df.progress_apply(apply_get_movie_details, axis=1)"
   ]
  },
  {
   "cell_type": "code",
   "execution_count": 57,
   "metadata": {},
   "outputs": [],
   "source": [
    "\n",
    "# Save to CSV\n",
    "df.to_csv('Hindi_Movies_Dataset_with_TMDB-OMDB_new.csv', index=False)"
   ]
  },
  {
   "cell_type": "code",
   "execution_count": 58,
   "metadata": {},
   "outputs": [],
   "source": [
    "df.rename(columns={\n",
    "    'title_x': 'Title',\n",
    "    'actors': 'Cast and crew',\n",
    "    'TMDB_Genre': 'Genre',\n",
    "    'Vote_Average': 'Vote_Average',\n",
    "    'Vote_Count': 'Vote_Count'\n",
    "}, inplace=True)\n",
    "\n",
    "# df = raw_data[['genres','title_x','year_of_release','actors',]]"
   ]
  },
  {
   "cell_type": "code",
   "execution_count": 59,
   "metadata": {},
   "outputs": [],
   "source": [
    "wiki_df2 = df[[\"Title\", \"Cast and crew\", \"Genre\", \"Vote_Average\", \"Vote_Count\"]]\n"
   ]
  },
  {
   "cell_type": "code",
   "execution_count": 60,
   "metadata": {},
   "outputs": [
    {
     "data": {
      "text/html": [
       "<div>\n",
       "<style scoped>\n",
       "    .dataframe tbody tr th:only-of-type {\n",
       "        vertical-align: middle;\n",
       "    }\n",
       "\n",
       "    .dataframe tbody tr th {\n",
       "        vertical-align: top;\n",
       "    }\n",
       "\n",
       "    .dataframe thead th {\n",
       "        text-align: right;\n",
       "    }\n",
       "</style>\n",
       "<table border=\"1\" class=\"dataframe\">\n",
       "  <thead>\n",
       "    <tr style=\"text-align: right;\">\n",
       "      <th></th>\n",
       "      <th>Title</th>\n",
       "      <th>Cast and crew</th>\n",
       "      <th>Genre</th>\n",
       "      <th>Vote_Average</th>\n",
       "      <th>Vote_Count</th>\n",
       "    </tr>\n",
       "  </thead>\n",
       "  <tbody>\n",
       "    <tr>\n",
       "      <th>0</th>\n",
       "      <td>Uri: The Surgical Strike</td>\n",
       "      <td>Vicky Kaushal|Paresh Rawal|Mohit Raina|Yami Ga...</td>\n",
       "      <td>Action, Drama, War</td>\n",
       "      <td>7.078</td>\n",
       "      <td>411.0</td>\n",
       "    </tr>\n",
       "    <tr>\n",
       "      <th>1</th>\n",
       "      <td>Battalion 609</td>\n",
       "      <td>Vicky Ahuja|Shoaib Ibrahim|Shrikant Kamat|Elen...</td>\n",
       "      <td>Action, War, Drama</td>\n",
       "      <td>0.000</td>\n",
       "      <td>0.0</td>\n",
       "    </tr>\n",
       "    <tr>\n",
       "      <th>2</th>\n",
       "      <td>The Accidental Prime Minister</td>\n",
       "      <td>Anupam Kher|Akshaye Khanna|Aahana Kumra|Atul S...</td>\n",
       "      <td>History, Drama</td>\n",
       "      <td>5.000</td>\n",
       "      <td>21.0</td>\n",
       "    </tr>\n",
       "    <tr>\n",
       "      <th>3</th>\n",
       "      <td>Why Cheat India</td>\n",
       "      <td>Emraan Hashmi|Shreya Dhanwanthary|Snighdadeep ...</td>\n",
       "      <td>Drama, Crime</td>\n",
       "      <td>5.500</td>\n",
       "      <td>18.0</td>\n",
       "    </tr>\n",
       "    <tr>\n",
       "      <th>4</th>\n",
       "      <td>Evening Shadows</td>\n",
       "      <td>Mona Ambegaonkar|Ananth Narayan Mahadevan|Deva...</td>\n",
       "      <td>Drama</td>\n",
       "      <td>5.700</td>\n",
       "      <td>6.0</td>\n",
       "    </tr>\n",
       "  </tbody>\n",
       "</table>\n",
       "</div>"
      ],
      "text/plain": [
       "                           Title  \\\n",
       "0       Uri: The Surgical Strike   \n",
       "1                  Battalion 609   \n",
       "2  The Accidental Prime Minister   \n",
       "3                Why Cheat India   \n",
       "4                Evening Shadows   \n",
       "\n",
       "                                       Cast and crew               Genre  \\\n",
       "0  Vicky Kaushal|Paresh Rawal|Mohit Raina|Yami Ga...  Action, Drama, War   \n",
       "1  Vicky Ahuja|Shoaib Ibrahim|Shrikant Kamat|Elen...  Action, War, Drama   \n",
       "2  Anupam Kher|Akshaye Khanna|Aahana Kumra|Atul S...      History, Drama   \n",
       "3  Emraan Hashmi|Shreya Dhanwanthary|Snighdadeep ...        Drama, Crime   \n",
       "4  Mona Ambegaonkar|Ananth Narayan Mahadevan|Deva...               Drama   \n",
       "\n",
       "   Vote_Average  Vote_Count  \n",
       "0         7.078       411.0  \n",
       "1         0.000         0.0  \n",
       "2         5.000        21.0  \n",
       "3         5.500        18.0  \n",
       "4         5.700         6.0  "
      ]
     },
     "execution_count": 60,
     "metadata": {},
     "output_type": "execute_result"
    }
   ],
   "source": [
    "wiki_df2.head()\n",
    "\n"
   ]
  },
  {
   "cell_type": "code",
   "execution_count": 61,
   "metadata": {},
   "outputs": [
    {
     "data": {
      "text/html": [
       "<div>\n",
       "<style scoped>\n",
       "    .dataframe tbody tr th:only-of-type {\n",
       "        vertical-align: middle;\n",
       "    }\n",
       "\n",
       "    .dataframe tbody tr th {\n",
       "        vertical-align: top;\n",
       "    }\n",
       "\n",
       "    .dataframe thead th {\n",
       "        text-align: right;\n",
       "    }\n",
       "</style>\n",
       "<table border=\"1\" class=\"dataframe\">\n",
       "  <thead>\n",
       "    <tr style=\"text-align: right;\">\n",
       "      <th></th>\n",
       "      <th>Title</th>\n",
       "      <th>Cast and crew</th>\n",
       "      <th>Genre</th>\n",
       "      <th>Vote_Average</th>\n",
       "      <th>Vote_Count</th>\n",
       "    </tr>\n",
       "  </thead>\n",
       "  <tbody>\n",
       "    <tr>\n",
       "      <th>19</th>\n",
       "      <td>Risknamaa</td>\n",
       "      <td>Garima Agarwal|Anupama|Parveen Bansala|Mahavee...</td>\n",
       "      <td>N/A</td>\n",
       "      <td>NaN</td>\n",
       "      <td>NaN</td>\n",
       "    </tr>\n",
       "    <tr>\n",
       "      <th>152</th>\n",
       "      <td>Jack and Dil</td>\n",
       "      <td>Amit Sadh|Arbaaz Khan|Sonal Chauhan|Evelyn Sha...</td>\n",
       "      <td>N/A</td>\n",
       "      <td>NaN</td>\n",
       "      <td>NaN</td>\n",
       "    </tr>\n",
       "    <tr>\n",
       "      <th>186</th>\n",
       "      <td>Ek Thi Rani Aisi Bhi</td>\n",
       "      <td>Hema Malini|Vinod Khanna|Sachin Khedekar|Rajes...</td>\n",
       "      <td>N/A</td>\n",
       "      <td>NaN</td>\n",
       "      <td>NaN</td>\n",
       "    </tr>\n",
       "    <tr>\n",
       "      <th>255</th>\n",
       "      <td>Saankal</td>\n",
       "      <td>Tanima Bhattacharya|Chetan Sharma|Harish Haria...</td>\n",
       "      <td>N/A</td>\n",
       "      <td>NaN</td>\n",
       "      <td>NaN</td>\n",
       "    </tr>\n",
       "    <tr>\n",
       "      <th>290</th>\n",
       "      <td>Murari the Mad Gentleman</td>\n",
       "      <td>Sanjay Singh|Asrani|Natalya Llina|Surendra Raj...</td>\n",
       "      <td>N/A</td>\n",
       "      <td>NaN</td>\n",
       "      <td>NaN</td>\n",
       "    </tr>\n",
       "    <tr>\n",
       "      <th>...</th>\n",
       "      <td>...</td>\n",
       "      <td>...</td>\n",
       "      <td>...</td>\n",
       "      <td>...</td>\n",
       "      <td>...</td>\n",
       "    </tr>\n",
       "    <tr>\n",
       "      <th>4046</th>\n",
       "      <td>Jab Pyar Kisi Se Hota Hai</td>\n",
       "      <td>Dev Anand|Asha Parekh|Sulochana Latkar|Mubarak...</td>\n",
       "      <td>N/A</td>\n",
       "      <td>NaN</td>\n",
       "      <td>NaN</td>\n",
       "    </tr>\n",
       "    <tr>\n",
       "      <th>4133</th>\n",
       "      <td>Phir Subah Hogi</td>\n",
       "      <td>Raj Kapoor|Mala Sinha|Mubarak|Rehman|Jagdish S...</td>\n",
       "      <td>N/A</td>\n",
       "      <td>NaN</td>\n",
       "      <td>NaN</td>\n",
       "    </tr>\n",
       "    <tr>\n",
       "      <th>4144</th>\n",
       "      <td>Amardeep</td>\n",
       "      <td>Dev Anand|Vyjayanthimala|Padmini|Pran|Johnny W...</td>\n",
       "      <td>N/A</td>\n",
       "      <td>NaN</td>\n",
       "      <td>NaN</td>\n",
       "    </tr>\n",
       "    <tr>\n",
       "      <th>4260</th>\n",
       "      <td>Shabaab</td>\n",
       "      <td>Bharat Bhushan|Nutan|Shyam Kumar|Wasti|Badri P...</td>\n",
       "      <td>N/A</td>\n",
       "      <td>NaN</td>\n",
       "      <td>NaN</td>\n",
       "    </tr>\n",
       "    <tr>\n",
       "      <th>4329</th>\n",
       "      <td>Meena Bazaar</td>\n",
       "      <td></td>\n",
       "      <td>N/A</td>\n",
       "      <td>NaN</td>\n",
       "      <td>NaN</td>\n",
       "    </tr>\n",
       "  </tbody>\n",
       "</table>\n",
       "<p>111 rows × 5 columns</p>\n",
       "</div>"
      ],
      "text/plain": [
       "                          Title  \\\n",
       "19                    Risknamaa   \n",
       "152                Jack and Dil   \n",
       "186        Ek Thi Rani Aisi Bhi   \n",
       "255                     Saankal   \n",
       "290    Murari the Mad Gentleman   \n",
       "...                         ...   \n",
       "4046  Jab Pyar Kisi Se Hota Hai   \n",
       "4133            Phir Subah Hogi   \n",
       "4144                   Amardeep   \n",
       "4260                    Shabaab   \n",
       "4329               Meena Bazaar   \n",
       "\n",
       "                                          Cast and crew Genre  Vote_Average  \\\n",
       "19    Garima Agarwal|Anupama|Parveen Bansala|Mahavee...   N/A           NaN   \n",
       "152   Amit Sadh|Arbaaz Khan|Sonal Chauhan|Evelyn Sha...   N/A           NaN   \n",
       "186   Hema Malini|Vinod Khanna|Sachin Khedekar|Rajes...   N/A           NaN   \n",
       "255   Tanima Bhattacharya|Chetan Sharma|Harish Haria...   N/A           NaN   \n",
       "290   Sanjay Singh|Asrani|Natalya Llina|Surendra Raj...   N/A           NaN   \n",
       "...                                                 ...   ...           ...   \n",
       "4046  Dev Anand|Asha Parekh|Sulochana Latkar|Mubarak...   N/A           NaN   \n",
       "4133  Raj Kapoor|Mala Sinha|Mubarak|Rehman|Jagdish S...   N/A           NaN   \n",
       "4144  Dev Anand|Vyjayanthimala|Padmini|Pran|Johnny W...   N/A           NaN   \n",
       "4260  Bharat Bhushan|Nutan|Shyam Kumar|Wasti|Badri P...   N/A           NaN   \n",
       "4329                                                      N/A           NaN   \n",
       "\n",
       "      Vote_Count  \n",
       "19           NaN  \n",
       "152          NaN  \n",
       "186          NaN  \n",
       "255          NaN  \n",
       "290          NaN  \n",
       "...          ...  \n",
       "4046         NaN  \n",
       "4133         NaN  \n",
       "4144         NaN  \n",
       "4260         NaN  \n",
       "4329         NaN  \n",
       "\n",
       "[111 rows x 5 columns]"
      ]
     },
     "execution_count": 61,
     "metadata": {},
     "output_type": "execute_result"
    }
   ],
   "source": [
    "# Checking missing value\n",
    "wiki_df2[wiki_df2.isna().any(axis=1)]"
   ]
  },
  {
   "cell_type": "code",
   "execution_count": 62,
   "metadata": {},
   "outputs": [],
   "source": [
    "wiki_df2 =  wiki_df2.fillna({'Genre':'', 'Vote_Average':0,'Vote_Count':0})\n"
   ]
  },
  {
   "cell_type": "code",
   "execution_count": 63,
   "metadata": {},
   "outputs": [],
   "source": [
    "wiki_df2 =  wiki_df2.fillna({'Title':'', 'Cast and crew':''})"
   ]
  },
  {
   "cell_type": "code",
   "execution_count": 64,
   "metadata": {},
   "outputs": [
    {
     "data": {
      "text/html": [
       "<div>\n",
       "<style scoped>\n",
       "    .dataframe tbody tr th:only-of-type {\n",
       "        vertical-align: middle;\n",
       "    }\n",
       "\n",
       "    .dataframe tbody tr th {\n",
       "        vertical-align: top;\n",
       "    }\n",
       "\n",
       "    .dataframe thead th {\n",
       "        text-align: right;\n",
       "    }\n",
       "</style>\n",
       "<table border=\"1\" class=\"dataframe\">\n",
       "  <thead>\n",
       "    <tr style=\"text-align: right;\">\n",
       "      <th></th>\n",
       "      <th>Title</th>\n",
       "      <th>Cast and crew</th>\n",
       "      <th>Genre</th>\n",
       "      <th>Vote_Average</th>\n",
       "      <th>Vote_Count</th>\n",
       "    </tr>\n",
       "  </thead>\n",
       "  <tbody>\n",
       "  </tbody>\n",
       "</table>\n",
       "</div>"
      ],
      "text/plain": [
       "Empty DataFrame\n",
       "Columns: [Title, Cast and crew, Genre, Vote_Average, Vote_Count]\n",
       "Index: []"
      ]
     },
     "execution_count": 64,
     "metadata": {},
     "output_type": "execute_result"
    }
   ],
   "source": [
    "wiki_df2[wiki_df2.isna().any(axis=1)]"
   ]
  },
  {
   "cell_type": "code",
   "execution_count": 65,
   "metadata": {},
   "outputs": [
    {
     "name": "stdout",
     "output_type": "stream",
     "text": [
      "Vicky Ahuja|Shoaib Ibrahim|Shrikant Kamat|Elena Kazan|Vishwas Kini|Major Kishore|Jashn Kohli|Rammy C. Pandey|Manish Sharma|Sparsh Sharma|Farnaz Shetty|Vikas Shrivastav|Chandraprakash Thakur|Brajesh Tiwari|\n",
      "====================================\n",
      "Karan Deol|Sahher Bambba|Simone Singh|Sachin Khedekar|\n",
      "====================================\n",
      "John Abraham|Nora Fatehi|Mrunal Thakur|Rajesh Sharma|Ravi Kishan|Sonam Arora|Sahidur Rahaman|Manish Chaudhary|Anil Rastogi|Kranti Prakash Jha|Amruta Sant|Anil Khopkar|Aditi Gulati|Jitendra Trehan|\n",
      "====================================\n",
      "Deepika Padukone|Ranveer Singh|Shahid Kapoor|Aditi Rao Hydari|Jim Sarbh|Anupriya Goenka|Raza Murad|Ujjwal Chopra|Komal Chhabria|Lankesh Bhardwaj|Bhawani Muzamil|Hriiday Malhotra|Deepak Shreemali|Manish Wadhwa|\n",
      "====================================\n",
      "Farooq Shaikh|Victor Banerjee|Pavan Malhotra|Indraneil Sengupta|Raima Sen|Tillotama Shome|Riddhi Sen|Rucha Inamdar|Shatrunjay Devvrat|Joy Sengupta|\n"
     ]
    }
   ],
   "source": [
    "# Cheking random row values of cast and crew column.\n",
    "sent_1 = wiki_df2['Cast and crew'][1]\n",
    "sent_2 = wiki_df2['Cast and crew'][55]\n",
    "sent_3 = wiki_df2['Cast and crew'][42]\n",
    "sent_4 = wiki_df2['Cast and crew'][88]\n",
    "sent_5 = wiki_df2['Cast and crew'][500]\n",
    "print(sent_1)\n",
    "print(\"====================================\")\n",
    "print(sent_2)\n",
    "print(\"====================================\")\n",
    "print(sent_3)\n",
    "print(\"====================================\")\n",
    "print(sent_4)\n",
    "print(\"====================================\")\n",
    "print(sent_5)"
   ]
  },
  {
   "cell_type": "code",
   "execution_count": 66,
   "metadata": {},
   "outputs": [],
   "source": [
    "# Text Preprocessing.\n",
    "preprocessed = []\n",
    "for sentance in wiki_df2['Cast and crew'].values:\n",
    "    \n",
    "    # convert all uppercase string into lowercase\n",
    "    sentance = sentance.lower()\n",
    "    \n",
    "    # removing specific keywords\n",
    "    sentance = re.sub(r\"director\",\"\", sentance)\n",
    "    sentance = re.sub(r\"co-director/screenplay\",\"\", sentance)\n",
    "    sentance = re.sub(r\"co-/screenplay\",\"\", sentance)\n",
    "    sentance = re.sub(r\"screenplay\",\"\", sentance)\n",
    "    sentance = re.sub(r\"director/screenplay\",\"\", sentance)\n",
    "    \n",
    "    # removing special symbol\n",
    "    sentance = re.sub('[^A-Za-z]+', ' ', sentance) \n",
    "    \n",
    "    # removing extra space\n",
    "    sentance = re.sub(' +', ' ', sentance) \n",
    "    \n",
    "    # tokenizing the review by words\n",
    "    sentance = sentance.split() \n",
    "    sentance = ' '.join(sentance)\n",
    "    \n",
    "    # creating a corpus\n",
    "    preprocessed.append(sentance)\n",
    "    \n",
    "wiki_df2[\"Cast and crew\"] = preprocessed\n"
   ]
  },
  {
   "cell_type": "code",
   "execution_count": 67,
   "metadata": {},
   "outputs": [
    {
     "name": "stdout",
     "output_type": "stream",
     "text": [
      "vicky ahuja shoaib ibrahim shrikant kamat elena kazan vishwas kini major kishore jashn kohli rammy c pandey manish sharma sparsh sharma farnaz shetty vikas shrivastav chandraprakash thakur brajesh tiwari\n",
      "====================================\n",
      "karan deol sahher bambba simone singh sachin khedekar\n",
      "====================================\n",
      "john abraham nora fatehi mrunal thakur rajesh sharma ravi kishan sonam arora sahidur rahaman manish chaudhary anil rastogi kranti prakash jha amruta sant anil khopkar aditi gulati jitendra trehan\n",
      "====================================\n",
      "deepika padukone ranveer singh shahid kapoor aditi rao hydari jim sarbh anupriya goenka raza murad ujjwal chopra komal chhabria lankesh bhardwaj bhawani muzamil hriiday malhotra deepak shreemali manish wadhwa\n",
      "====================================\n",
      "farooq shaikh victor banerjee pavan malhotra indraneil sengupta raima sen tillotama shome riddhi sen rucha inamdar shatrunjay devvrat joy sengupta\n",
      "====================================\n",
      "ranbir kapoor deepika padukone aditya roy kapoor kalki koechlin kunaal roy kapur madhuri dixit farooq shaikh aanoushka kamal adib dolly ahluwalia vinita amar anisha tanvi azmi priyanka bose\n",
      "====================================\n"
     ]
    }
   ],
   "source": [
    "# Now again check random row values of cast and crew column after cleaning.\n",
    "sent_1 = wiki_df2['Cast and crew'][1]\n",
    "sent_2 = wiki_df2['Cast and crew'][55]\n",
    "sent_3 = wiki_df2['Cast and crew'][42]\n",
    "sent_4 = wiki_df2['Cast and crew'][88]\n",
    "sent_5 = wiki_df2['Cast and crew'][500]\n",
    "sent_6 = wiki_df2['Cast and crew'][605]\n",
    "print(sent_1)\n",
    "print(\"====================================\")\n",
    "print(sent_2)\n",
    "print(\"====================================\")\n",
    "print(sent_3)\n",
    "print(\"====================================\")\n",
    "print(sent_4)\n",
    "print(\"====================================\")\n",
    "print(sent_5)\n",
    "print(\"====================================\")\n",
    "print(sent_6)\n",
    "print(\"====================================\")"
   ]
  },
  {
   "cell_type": "code",
   "execution_count": 68,
   "metadata": {},
   "outputs": [
    {
     "data": {
      "text/html": [
       "<div>\n",
       "<style scoped>\n",
       "    .dataframe tbody tr th:only-of-type {\n",
       "        vertical-align: middle;\n",
       "    }\n",
       "\n",
       "    .dataframe tbody tr th {\n",
       "        vertical-align: top;\n",
       "    }\n",
       "\n",
       "    .dataframe thead th {\n",
       "        text-align: right;\n",
       "    }\n",
       "</style>\n",
       "<table border=\"1\" class=\"dataframe\">\n",
       "  <thead>\n",
       "    <tr style=\"text-align: right;\">\n",
       "      <th></th>\n",
       "      <th>Title</th>\n",
       "      <th>Cast and crew</th>\n",
       "      <th>Genre</th>\n",
       "      <th>Vote_Average</th>\n",
       "      <th>Vote_Count</th>\n",
       "    </tr>\n",
       "  </thead>\n",
       "  <tbody>\n",
       "    <tr>\n",
       "      <th>0</th>\n",
       "      <td>Uri: The Surgical Strike</td>\n",
       "      <td>vicky kaushal paresh rawal mohit raina yami ga...</td>\n",
       "      <td>Action, Drama, War</td>\n",
       "      <td>7.078</td>\n",
       "      <td>411.0</td>\n",
       "    </tr>\n",
       "    <tr>\n",
       "      <th>1</th>\n",
       "      <td>Battalion 609</td>\n",
       "      <td>vicky ahuja shoaib ibrahim shrikant kamat elen...</td>\n",
       "      <td>Action, War, Drama</td>\n",
       "      <td>0.000</td>\n",
       "      <td>0.0</td>\n",
       "    </tr>\n",
       "    <tr>\n",
       "      <th>2</th>\n",
       "      <td>The Accidental Prime Minister</td>\n",
       "      <td>anupam kher akshaye khanna aahana kumra atul s...</td>\n",
       "      <td>History, Drama</td>\n",
       "      <td>5.000</td>\n",
       "      <td>21.0</td>\n",
       "    </tr>\n",
       "    <tr>\n",
       "      <th>3</th>\n",
       "      <td>Why Cheat India</td>\n",
       "      <td>emraan hashmi shreya dhanwanthary snighdadeep ...</td>\n",
       "      <td>Drama, Crime</td>\n",
       "      <td>5.500</td>\n",
       "      <td>18.0</td>\n",
       "    </tr>\n",
       "    <tr>\n",
       "      <th>4</th>\n",
       "      <td>Evening Shadows</td>\n",
       "      <td>mona ambegaonkar ananth narayan mahadevan deva...</td>\n",
       "      <td>Drama</td>\n",
       "      <td>5.700</td>\n",
       "      <td>6.0</td>\n",
       "    </tr>\n",
       "  </tbody>\n",
       "</table>\n",
       "</div>"
      ],
      "text/plain": [
       "                           Title  \\\n",
       "0       Uri: The Surgical Strike   \n",
       "1                  Battalion 609   \n",
       "2  The Accidental Prime Minister   \n",
       "3                Why Cheat India   \n",
       "4                Evening Shadows   \n",
       "\n",
       "                                       Cast and crew               Genre  \\\n",
       "0  vicky kaushal paresh rawal mohit raina yami ga...  Action, Drama, War   \n",
       "1  vicky ahuja shoaib ibrahim shrikant kamat elen...  Action, War, Drama   \n",
       "2  anupam kher akshaye khanna aahana kumra atul s...      History, Drama   \n",
       "3  emraan hashmi shreya dhanwanthary snighdadeep ...        Drama, Crime   \n",
       "4  mona ambegaonkar ananth narayan mahadevan deva...               Drama   \n",
       "\n",
       "   Vote_Average  Vote_Count  \n",
       "0         7.078       411.0  \n",
       "1         0.000         0.0  \n",
       "2         5.000        21.0  \n",
       "3         5.500        18.0  \n",
       "4         5.700         6.0  "
      ]
     },
     "execution_count": 68,
     "metadata": {},
     "output_type": "execute_result"
    }
   ],
   "source": [
    "wiki_df2.head()"
   ]
  },
  {
   "cell_type": "code",
   "execution_count": 69,
   "metadata": {},
   "outputs": [],
   "source": [
    "# Text Preprocessing on movie genre column\n",
    "preprocessed = []\n",
    "for sentance in wiki_df2['Genre'].values:\n",
    "    \n",
    "    # convert all uppercase string into lowercase\n",
    "    sentance = sentance.lower()\n",
    "    \n",
    "    # removing special symbol\n",
    "    sentance = re.sub('[^A-Za-z]+', ' ', sentance) \n",
    "    \n",
    "    # removing extra space\n",
    "    sentance = re.sub(' +', ' ', sentance) \n",
    "    \n",
    "    # tokenizing the review by words\n",
    "    sentance = sentance.split() \n",
    "    sentance = ' '.join(sentance)\n",
    "    \n",
    "    # This line adds the cleaned and processed genre string to the preprocessed list.\n",
    "\n",
    "    preprocessed.append(sentance) # Update the 'Genre' column with the preprocessed data:\n",
    "    \n",
    "wiki_df2[\"Genre\"] = preprocessed"
   ]
  },
  {
   "cell_type": "code",
   "execution_count": 70,
   "metadata": {},
   "outputs": [
    {
     "data": {
      "text/html": [
       "<div>\n",
       "<style scoped>\n",
       "    .dataframe tbody tr th:only-of-type {\n",
       "        vertical-align: middle;\n",
       "    }\n",
       "\n",
       "    .dataframe tbody tr th {\n",
       "        vertical-align: top;\n",
       "    }\n",
       "\n",
       "    .dataframe thead th {\n",
       "        text-align: right;\n",
       "    }\n",
       "</style>\n",
       "<table border=\"1\" class=\"dataframe\">\n",
       "  <thead>\n",
       "    <tr style=\"text-align: right;\">\n",
       "      <th></th>\n",
       "      <th>Title</th>\n",
       "      <th>Cast and crew</th>\n",
       "      <th>Genre</th>\n",
       "      <th>Vote_Average</th>\n",
       "      <th>Vote_Count</th>\n",
       "    </tr>\n",
       "  </thead>\n",
       "  <tbody>\n",
       "    <tr>\n",
       "      <th>0</th>\n",
       "      <td>Uri: The Surgical Strike</td>\n",
       "      <td>vicky kaushal paresh rawal mohit raina yami ga...</td>\n",
       "      <td>action drama war</td>\n",
       "      <td>7.078</td>\n",
       "      <td>411.0</td>\n",
       "    </tr>\n",
       "    <tr>\n",
       "      <th>1</th>\n",
       "      <td>Battalion 609</td>\n",
       "      <td>vicky ahuja shoaib ibrahim shrikant kamat elen...</td>\n",
       "      <td>action war drama</td>\n",
       "      <td>0.000</td>\n",
       "      <td>0.0</td>\n",
       "    </tr>\n",
       "    <tr>\n",
       "      <th>2</th>\n",
       "      <td>The Accidental Prime Minister</td>\n",
       "      <td>anupam kher akshaye khanna aahana kumra atul s...</td>\n",
       "      <td>history drama</td>\n",
       "      <td>5.000</td>\n",
       "      <td>21.0</td>\n",
       "    </tr>\n",
       "    <tr>\n",
       "      <th>3</th>\n",
       "      <td>Why Cheat India</td>\n",
       "      <td>emraan hashmi shreya dhanwanthary snighdadeep ...</td>\n",
       "      <td>drama crime</td>\n",
       "      <td>5.500</td>\n",
       "      <td>18.0</td>\n",
       "    </tr>\n",
       "    <tr>\n",
       "      <th>4</th>\n",
       "      <td>Evening Shadows</td>\n",
       "      <td>mona ambegaonkar ananth narayan mahadevan deva...</td>\n",
       "      <td>drama</td>\n",
       "      <td>5.700</td>\n",
       "      <td>6.0</td>\n",
       "    </tr>\n",
       "  </tbody>\n",
       "</table>\n",
       "</div>"
      ],
      "text/plain": [
       "                           Title  \\\n",
       "0       Uri: The Surgical Strike   \n",
       "1                  Battalion 609   \n",
       "2  The Accidental Prime Minister   \n",
       "3                Why Cheat India   \n",
       "4                Evening Shadows   \n",
       "\n",
       "                                       Cast and crew             Genre  \\\n",
       "0  vicky kaushal paresh rawal mohit raina yami ga...  action drama war   \n",
       "1  vicky ahuja shoaib ibrahim shrikant kamat elen...  action war drama   \n",
       "2  anupam kher akshaye khanna aahana kumra atul s...     history drama   \n",
       "3  emraan hashmi shreya dhanwanthary snighdadeep ...       drama crime   \n",
       "4  mona ambegaonkar ananth narayan mahadevan deva...             drama   \n",
       "\n",
       "   Vote_Average  Vote_Count  \n",
       "0         7.078       411.0  \n",
       "1         0.000         0.0  \n",
       "2         5.000        21.0  \n",
       "3         5.500        18.0  \n",
       "4         5.700         6.0  "
      ]
     },
     "execution_count": 70,
     "metadata": {},
     "output_type": "execute_result"
    }
   ],
   "source": [
    "wiki_df2.head()"
   ]
  },
  {
   "cell_type": "code",
   "execution_count": 71,
   "metadata": {},
   "outputs": [],
   "source": [
    "\n",
    "# Text Preprocessing on title column\n",
    "preprocessed = []\n",
    "for sentance in wiki_df2['Title'].values:\n",
    "    \n",
    "    # convert all uppercase string into lowercase\n",
    "    sentance = sentance.lower()\n",
    "       \n",
    "    # removing extra space\n",
    "    sentance = re.sub(' +', ' ', sentance) \n",
    "    \n",
    "    # tokenizing the review by words\n",
    "    sentance = sentance.split() \n",
    "    sentance = ' '.join(sentance)\n",
    "    \n",
    "    # creating a corpus\n",
    "    preprocessed.append(sentance)\n",
    "    \n",
    "wiki_df2[\"Title\"] = preprocessed"
   ]
  },
  {
   "cell_type": "code",
   "execution_count": 72,
   "metadata": {},
   "outputs": [
    {
     "data": {
      "text/html": [
       "<div>\n",
       "<style scoped>\n",
       "    .dataframe tbody tr th:only-of-type {\n",
       "        vertical-align: middle;\n",
       "    }\n",
       "\n",
       "    .dataframe tbody tr th {\n",
       "        vertical-align: top;\n",
       "    }\n",
       "\n",
       "    .dataframe thead th {\n",
       "        text-align: right;\n",
       "    }\n",
       "</style>\n",
       "<table border=\"1\" class=\"dataframe\">\n",
       "  <thead>\n",
       "    <tr style=\"text-align: right;\">\n",
       "      <th></th>\n",
       "      <th>Title</th>\n",
       "      <th>Cast and crew</th>\n",
       "      <th>Genre</th>\n",
       "      <th>Vote_Average</th>\n",
       "      <th>Vote_Count</th>\n",
       "    </tr>\n",
       "  </thead>\n",
       "  <tbody>\n",
       "    <tr>\n",
       "      <th>0</th>\n",
       "      <td>uri: the surgical strike</td>\n",
       "      <td>vicky kaushal paresh rawal mohit raina yami ga...</td>\n",
       "      <td>action drama war</td>\n",
       "      <td>7.078</td>\n",
       "      <td>411.0</td>\n",
       "    </tr>\n",
       "    <tr>\n",
       "      <th>1</th>\n",
       "      <td>battalion 609</td>\n",
       "      <td>vicky ahuja shoaib ibrahim shrikant kamat elen...</td>\n",
       "      <td>action war drama</td>\n",
       "      <td>0.000</td>\n",
       "      <td>0.0</td>\n",
       "    </tr>\n",
       "    <tr>\n",
       "      <th>2</th>\n",
       "      <td>the accidental prime minister</td>\n",
       "      <td>anupam kher akshaye khanna aahana kumra atul s...</td>\n",
       "      <td>history drama</td>\n",
       "      <td>5.000</td>\n",
       "      <td>21.0</td>\n",
       "    </tr>\n",
       "    <tr>\n",
       "      <th>3</th>\n",
       "      <td>why cheat india</td>\n",
       "      <td>emraan hashmi shreya dhanwanthary snighdadeep ...</td>\n",
       "      <td>drama crime</td>\n",
       "      <td>5.500</td>\n",
       "      <td>18.0</td>\n",
       "    </tr>\n",
       "    <tr>\n",
       "      <th>4</th>\n",
       "      <td>evening shadows</td>\n",
       "      <td>mona ambegaonkar ananth narayan mahadevan deva...</td>\n",
       "      <td>drama</td>\n",
       "      <td>5.700</td>\n",
       "      <td>6.0</td>\n",
       "    </tr>\n",
       "  </tbody>\n",
       "</table>\n",
       "</div>"
      ],
      "text/plain": [
       "                           Title  \\\n",
       "0       uri: the surgical strike   \n",
       "1                  battalion 609   \n",
       "2  the accidental prime minister   \n",
       "3                why cheat india   \n",
       "4                evening shadows   \n",
       "\n",
       "                                       Cast and crew             Genre  \\\n",
       "0  vicky kaushal paresh rawal mohit raina yami ga...  action drama war   \n",
       "1  vicky ahuja shoaib ibrahim shrikant kamat elen...  action war drama   \n",
       "2  anupam kher akshaye khanna aahana kumra atul s...     history drama   \n",
       "3  emraan hashmi shreya dhanwanthary snighdadeep ...       drama crime   \n",
       "4  mona ambegaonkar ananth narayan mahadevan deva...             drama   \n",
       "\n",
       "   Vote_Average  Vote_Count  \n",
       "0         7.078       411.0  \n",
       "1         0.000         0.0  \n",
       "2         5.000        21.0  \n",
       "3         5.500        18.0  \n",
       "4         5.700         6.0  "
      ]
     },
     "execution_count": 72,
     "metadata": {},
     "output_type": "execute_result"
    }
   ],
   "source": [
    "wiki_df2.head()"
   ]
  },
  {
   "cell_type": "code",
   "execution_count": 81,
   "metadata": {},
   "outputs": [
    {
     "data": {
      "text/html": [
       "<div>\n",
       "<style scoped>\n",
       "    .dataframe tbody tr th:only-of-type {\n",
       "        vertical-align: middle;\n",
       "    }\n",
       "\n",
       "    .dataframe tbody tr th {\n",
       "        vertical-align: top;\n",
       "    }\n",
       "\n",
       "    .dataframe thead th {\n",
       "        text-align: right;\n",
       "    }\n",
       "</style>\n",
       "<table border=\"1\" class=\"dataframe\">\n",
       "  <thead>\n",
       "    <tr style=\"text-align: right;\">\n",
       "      <th></th>\n",
       "      <th>Genre</th>\n",
       "      <th>Title</th>\n",
       "      <th>Cast and crew</th>\n",
       "      <th>Genre</th>\n",
       "      <th>Vote_Average</th>\n",
       "      <th>Vote_Count</th>\n",
       "    </tr>\n",
       "  </thead>\n",
       "  <tbody>\n",
       "    <tr>\n",
       "      <th>0</th>\n",
       "      <td>Action|Drama|War</td>\n",
       "      <td>uri: the surgical strike</td>\n",
       "      <td>vicky kaushal|paresh rawal|mohit raina|yami ga...</td>\n",
       "      <td>Action, Drama, War</td>\n",
       "      <td>7.078</td>\n",
       "      <td>411.0</td>\n",
       "    </tr>\n",
       "    <tr>\n",
       "      <th>1</th>\n",
       "      <td>War</td>\n",
       "      <td>battalion 609</td>\n",
       "      <td>vicky ahuja|shoaib ibrahim|shrikant kamat|elen...</td>\n",
       "      <td>Action, War, Drama</td>\n",
       "      <td>0.000</td>\n",
       "      <td>0.0</td>\n",
       "    </tr>\n",
       "    <tr>\n",
       "      <th>2</th>\n",
       "      <td>Biography|Drama</td>\n",
       "      <td>the accidental prime minister</td>\n",
       "      <td>anupam kher|akshaye khanna|aahana kumra|atul s...</td>\n",
       "      <td>History, Drama</td>\n",
       "      <td>5.000</td>\n",
       "      <td>21.0</td>\n",
       "    </tr>\n",
       "    <tr>\n",
       "      <th>3</th>\n",
       "      <td>Crime|Drama</td>\n",
       "      <td>why cheat india</td>\n",
       "      <td>emraan hashmi|shreya dhanwanthary|snighdadeep ...</td>\n",
       "      <td>Drama, Crime</td>\n",
       "      <td>5.500</td>\n",
       "      <td>18.0</td>\n",
       "    </tr>\n",
       "    <tr>\n",
       "      <th>4</th>\n",
       "      <td>Drama</td>\n",
       "      <td>evening shadows</td>\n",
       "      <td>mona ambegaonkar|ananth narayan mahadevan|deva...</td>\n",
       "      <td>Drama</td>\n",
       "      <td>5.700</td>\n",
       "      <td>6.0</td>\n",
       "    </tr>\n",
       "  </tbody>\n",
       "</table>\n",
       "</div>"
      ],
      "text/plain": [
       "              Genre                          Title  \\\n",
       "0  Action|Drama|War       uri: the surgical strike   \n",
       "1               War                  battalion 609   \n",
       "2   Biography|Drama  the accidental prime minister   \n",
       "3       Crime|Drama                why cheat india   \n",
       "4             Drama                evening shadows   \n",
       "\n",
       "                                       Cast and crew               Genre  \\\n",
       "0  vicky kaushal|paresh rawal|mohit raina|yami ga...  Action, Drama, War   \n",
       "1  vicky ahuja|shoaib ibrahim|shrikant kamat|elen...  Action, War, Drama   \n",
       "2  anupam kher|akshaye khanna|aahana kumra|atul s...      History, Drama   \n",
       "3  emraan hashmi|shreya dhanwanthary|snighdadeep ...        Drama, Crime   \n",
       "4  mona ambegaonkar|ananth narayan mahadevan|deva...               Drama   \n",
       "\n",
       "   Vote_Average  Vote_Count  \n",
       "0         7.078       411.0  \n",
       "1         0.000         0.0  \n",
       "2         5.000        21.0  \n",
       "3         5.500        18.0  \n",
       "4         5.700         6.0  "
      ]
     },
     "execution_count": 81,
     "metadata": {},
     "output_type": "execute_result"
    }
   ],
   "source": [
    "df.head()\n"
   ]
  },
  {
   "cell_type": "code",
   "execution_count": 87,
   "metadata": {},
   "outputs": [
    {
     "name": "stdout",
     "output_type": "stream",
     "text": [
      "                Genre                          Title  \\\n",
      "0  action, drama, war       uri: the surgical strike   \n",
      "1  action, war, drama                  battalion 609   \n",
      "2      history, drama  the accidental prime minister   \n",
      "3        drama, crime                why cheat india   \n",
      "4               drama                evening shadows   \n",
      "\n",
      "                                       Cast and crew  Vote_Average  Vote_Count  \n",
      "0  vicky kaushal|paresh rawal|mohit raina|yami ga...         7.078       411.0  \n",
      "1  vicky ahuja|shoaib ibrahim|shrikant kamat|elen...         0.000         0.0  \n",
      "2  anupam kher|akshaye khanna|aahana kumra|atul s...         5.000        21.0  \n",
      "3  emraan hashmi|shreya dhanwanthary|snighdadeep ...         5.500        18.0  \n",
      "4  mona ambegaonkar|ananth narayan mahadevan|deva...         5.700         6.0  \n"
     ]
    }
   ],
   "source": [
    "\n",
    "\n",
    "# # # Combining cast and director columns\n",
    "# # if 'cast' in df.columns and 'director' in df.columns:\n",
    "# #     df[\"Cast and crew\"] = df['cast'].astype(str) + ' ' + df['director'].astype(str)\n",
    "# # else:\n",
    "# #     print(\"Columns 'cast' and/or 'director' not found in DataFrame\")\n",
    "\n",
    "# import pandas as pd\n",
    "\n",
    "# # Renaming columns if they exist in the DataFrame\n",
    "# rename_dict = {\n",
    "#     'original_title': 'Title',\n",
    "#     'genres': 'Genre',\n",
    "#     'vote_average': 'Vote_Average',\n",
    "#     'vote_count': 'Vote_Count'\n",
    "# }\n",
    "\n",
    "# for old_name, new_name in rename_dict.items():\n",
    "#     if old_name in df.columns:\n",
    "#         df.rename(columns={old_name: new_name}, inplace=True)\n",
    "#     else:\n",
    "#         print(f\"Column '{old_name}' not found in DataFrame\")\n",
    "\n",
    "# # Converting all specified string columns to lowercase if they exist\n",
    "# for col in ['Title', 'Cast and crew', 'Genre']:\n",
    "#     if col in df.columns:\n",
    "#         df[col] = df[col].astype(str).str.lower()\n",
    "#     else:\n",
    "#         print(f\"Column '{col}' not found in DataFrame\")\n",
    "\n",
    "# # Re-arranging columns\n",
    "# required_columns = ['Title', 'Cast and crew', 'Genre', 'Vote_Average', 'Vote_Count']\n",
    "# if all(col in df.columns for col in required_columns):\n",
    "#     df = df[required_columns]\n",
    "# else:\n",
    "#     missing_cols = [col for col in required_columns if col not in df.columns]\n",
    "#     print(f\"Missing columns in DataFrame: {missing_cols}\")\n",
    "    \n",
    "import pandas as pd\n",
    "\n",
    "# Example DataFrame\n",
    "data = {\n",
    "    'Genre': ['Action|Drama|War', 'War', 'Biography|Drama', 'Crime|Drama', 'Drama'],\n",
    "    'Title': ['uri: the surgical strike', 'battalion 609', 'the accidental prime minister', 'why cheat india', 'evening shadows'],\n",
    "    'Cast and crew': [\n",
    "        'vicky kaushal|paresh rawal|mohit raina|yami ga...', \n",
    "        'vicky ahuja|shoaib ibrahim|shrikant kamat|elen...', \n",
    "        'anupam kher|akshaye khanna|aahana kumra|atul s...', \n",
    "        'emraan hashmi|shreya dhanwanthary|snighdadeep ...', \n",
    "        'mona ambegaonkar|ananth narayan mahadevan|deva...'\n",
    "    ],\n",
    "    'Genre': ['Action, Drama, War', 'Action, War, Drama', 'History, Drama', 'Drama, Crime', 'Drama'],\n",
    "    'Vote_Average': [7.078, 0.000, 5.000, 5.500, 5.700],\n",
    "    'Vote_Count': [411.0, 0.0, 21.0, 18.0, 6.0]\n",
    "}\n",
    "\n",
    "df = pd.DataFrame(data)\n",
    "\n",
    "# Convert all string data to lowercase\n",
    "df = df.applymap(lambda x: x.lower() if isinstance(x, str) else x)\n",
    "\n",
    "print(df)\n",
    "\n"
   ]
  },
  {
   "cell_type": "code",
   "execution_count": 88,
   "metadata": {},
   "outputs": [
    {
     "data": {
      "text/html": [
       "<div>\n",
       "<style scoped>\n",
       "    .dataframe tbody tr th:only-of-type {\n",
       "        vertical-align: middle;\n",
       "    }\n",
       "\n",
       "    .dataframe tbody tr th {\n",
       "        vertical-align: top;\n",
       "    }\n",
       "\n",
       "    .dataframe thead th {\n",
       "        text-align: right;\n",
       "    }\n",
       "</style>\n",
       "<table border=\"1\" class=\"dataframe\">\n",
       "  <thead>\n",
       "    <tr style=\"text-align: right;\">\n",
       "      <th></th>\n",
       "      <th>Genre</th>\n",
       "      <th>Title</th>\n",
       "      <th>Cast and crew</th>\n",
       "      <th>Vote_Average</th>\n",
       "      <th>Vote_Count</th>\n",
       "    </tr>\n",
       "  </thead>\n",
       "  <tbody>\n",
       "    <tr>\n",
       "      <th>0</th>\n",
       "      <td>action, drama, war</td>\n",
       "      <td>uri: the surgical strike</td>\n",
       "      <td>vicky kaushal|paresh rawal|mohit raina|yami ga...</td>\n",
       "      <td>7.078</td>\n",
       "      <td>411.0</td>\n",
       "    </tr>\n",
       "    <tr>\n",
       "      <th>1</th>\n",
       "      <td>action, war, drama</td>\n",
       "      <td>battalion 609</td>\n",
       "      <td>vicky ahuja|shoaib ibrahim|shrikant kamat|elen...</td>\n",
       "      <td>0.000</td>\n",
       "      <td>0.0</td>\n",
       "    </tr>\n",
       "    <tr>\n",
       "      <th>2</th>\n",
       "      <td>history, drama</td>\n",
       "      <td>the accidental prime minister</td>\n",
       "      <td>anupam kher|akshaye khanna|aahana kumra|atul s...</td>\n",
       "      <td>5.000</td>\n",
       "      <td>21.0</td>\n",
       "    </tr>\n",
       "    <tr>\n",
       "      <th>3</th>\n",
       "      <td>drama, crime</td>\n",
       "      <td>why cheat india</td>\n",
       "      <td>emraan hashmi|shreya dhanwanthary|snighdadeep ...</td>\n",
       "      <td>5.500</td>\n",
       "      <td>18.0</td>\n",
       "    </tr>\n",
       "    <tr>\n",
       "      <th>4</th>\n",
       "      <td>drama</td>\n",
       "      <td>evening shadows</td>\n",
       "      <td>mona ambegaonkar|ananth narayan mahadevan|deva...</td>\n",
       "      <td>5.700</td>\n",
       "      <td>6.0</td>\n",
       "    </tr>\n",
       "  </tbody>\n",
       "</table>\n",
       "</div>"
      ],
      "text/plain": [
       "                Genre                          Title  \\\n",
       "0  action, drama, war       uri: the surgical strike   \n",
       "1  action, war, drama                  battalion 609   \n",
       "2      history, drama  the accidental prime minister   \n",
       "3        drama, crime                why cheat india   \n",
       "4               drama                evening shadows   \n",
       "\n",
       "                                       Cast and crew  Vote_Average  Vote_Count  \n",
       "0  vicky kaushal|paresh rawal|mohit raina|yami ga...         7.078       411.0  \n",
       "1  vicky ahuja|shoaib ibrahim|shrikant kamat|elen...         0.000         0.0  \n",
       "2  anupam kher|akshaye khanna|aahana kumra|atul s...         5.000        21.0  \n",
       "3  emraan hashmi|shreya dhanwanthary|snighdadeep ...         5.500        18.0  \n",
       "4  mona ambegaonkar|ananth narayan mahadevan|deva...         5.700         6.0  "
      ]
     },
     "execution_count": 88,
     "metadata": {},
     "output_type": "execute_result"
    }
   ],
   "source": [
    "df.head()"
   ]
  },
  {
   "cell_type": "code",
   "execution_count": 89,
   "metadata": {},
   "outputs": [],
   "source": [
    "# Now combine both main and wiki_df2 dataframe into one\n",
    "frame = [wiki_df2,df]\n",
    "final_df = pd.concat(frame).reset_index(drop=True) "
   ]
  },
  {
   "cell_type": "code",
   "execution_count": 90,
   "metadata": {},
   "outputs": [
    {
     "data": {
      "text/html": [
       "<div>\n",
       "<style scoped>\n",
       "    .dataframe tbody tr th:only-of-type {\n",
       "        vertical-align: middle;\n",
       "    }\n",
       "\n",
       "    .dataframe tbody tr th {\n",
       "        vertical-align: top;\n",
       "    }\n",
       "\n",
       "    .dataframe thead th {\n",
       "        text-align: right;\n",
       "    }\n",
       "</style>\n",
       "<table border=\"1\" class=\"dataframe\">\n",
       "  <thead>\n",
       "    <tr style=\"text-align: right;\">\n",
       "      <th></th>\n",
       "      <th>Title</th>\n",
       "      <th>Cast and crew</th>\n",
       "      <th>Genre</th>\n",
       "      <th>Vote_Average</th>\n",
       "      <th>Vote_Count</th>\n",
       "    </tr>\n",
       "  </thead>\n",
       "  <tbody>\n",
       "    <tr>\n",
       "      <th>0</th>\n",
       "      <td>uri: the surgical strike</td>\n",
       "      <td>vicky kaushal paresh rawal mohit raina yami ga...</td>\n",
       "      <td>action drama war</td>\n",
       "      <td>7.078</td>\n",
       "      <td>411.0</td>\n",
       "    </tr>\n",
       "    <tr>\n",
       "      <th>1</th>\n",
       "      <td>battalion 609</td>\n",
       "      <td>vicky ahuja shoaib ibrahim shrikant kamat elen...</td>\n",
       "      <td>action war drama</td>\n",
       "      <td>0.000</td>\n",
       "      <td>0.0</td>\n",
       "    </tr>\n",
       "    <tr>\n",
       "      <th>2</th>\n",
       "      <td>the accidental prime minister</td>\n",
       "      <td>anupam kher akshaye khanna aahana kumra atul s...</td>\n",
       "      <td>history drama</td>\n",
       "      <td>5.000</td>\n",
       "      <td>21.0</td>\n",
       "    </tr>\n",
       "    <tr>\n",
       "      <th>3</th>\n",
       "      <td>why cheat india</td>\n",
       "      <td>emraan hashmi shreya dhanwanthary snighdadeep ...</td>\n",
       "      <td>drama crime</td>\n",
       "      <td>5.500</td>\n",
       "      <td>18.0</td>\n",
       "    </tr>\n",
       "    <tr>\n",
       "      <th>4</th>\n",
       "      <td>evening shadows</td>\n",
       "      <td>mona ambegaonkar ananth narayan mahadevan deva...</td>\n",
       "      <td>drama</td>\n",
       "      <td>5.700</td>\n",
       "      <td>6.0</td>\n",
       "    </tr>\n",
       "  </tbody>\n",
       "</table>\n",
       "</div>"
      ],
      "text/plain": [
       "                           Title  \\\n",
       "0       uri: the surgical strike   \n",
       "1                  battalion 609   \n",
       "2  the accidental prime minister   \n",
       "3                why cheat india   \n",
       "4                evening shadows   \n",
       "\n",
       "                                       Cast and crew             Genre  \\\n",
       "0  vicky kaushal paresh rawal mohit raina yami ga...  action drama war   \n",
       "1  vicky ahuja shoaib ibrahim shrikant kamat elen...  action war drama   \n",
       "2  anupam kher akshaye khanna aahana kumra atul s...     history drama   \n",
       "3  emraan hashmi shreya dhanwanthary snighdadeep ...       drama crime   \n",
       "4  mona ambegaonkar ananth narayan mahadevan deva...             drama   \n",
       "\n",
       "   Vote_Average  Vote_Count  \n",
       "0         7.078       411.0  \n",
       "1         0.000         0.0  \n",
       "2         5.000        21.0  \n",
       "3         5.500        18.0  \n",
       "4         5.700         6.0  "
      ]
     },
     "execution_count": 90,
     "metadata": {},
     "output_type": "execute_result"
    }
   ],
   "source": [
    "final_df.head()"
   ]
  },
  {
   "cell_type": "markdown",
   "metadata": {},
   "source": [
    "# ML MODEL DEVELOPMENT\n"
   ]
  },
  {
   "cell_type": "code",
   "execution_count": 91,
   "metadata": {},
   "outputs": [
    {
     "data": {
      "text/html": [
       "<div>\n",
       "<style scoped>\n",
       "    .dataframe tbody tr th:only-of-type {\n",
       "        vertical-align: middle;\n",
       "    }\n",
       "\n",
       "    .dataframe tbody tr th {\n",
       "        vertical-align: top;\n",
       "    }\n",
       "\n",
       "    .dataframe thead th {\n",
       "        text-align: right;\n",
       "    }\n",
       "</style>\n",
       "<table border=\"1\" class=\"dataframe\">\n",
       "  <thead>\n",
       "    <tr style=\"text-align: right;\">\n",
       "      <th></th>\n",
       "      <th>Title</th>\n",
       "      <th>Vote_Average</th>\n",
       "      <th>Vote_Count</th>\n",
       "    </tr>\n",
       "  </thead>\n",
       "  <tbody>\n",
       "    <tr>\n",
       "      <th>0</th>\n",
       "      <td>uri: the surgical strike</td>\n",
       "      <td>7.078</td>\n",
       "      <td>411.0</td>\n",
       "    </tr>\n",
       "    <tr>\n",
       "      <th>1</th>\n",
       "      <td>battalion 609</td>\n",
       "      <td>0.000</td>\n",
       "      <td>0.0</td>\n",
       "    </tr>\n",
       "    <tr>\n",
       "      <th>2</th>\n",
       "      <td>the accidental prime minister</td>\n",
       "      <td>5.000</td>\n",
       "      <td>21.0</td>\n",
       "    </tr>\n",
       "    <tr>\n",
       "      <th>3</th>\n",
       "      <td>why cheat india</td>\n",
       "      <td>5.500</td>\n",
       "      <td>18.0</td>\n",
       "    </tr>\n",
       "    <tr>\n",
       "      <th>4</th>\n",
       "      <td>evening shadows</td>\n",
       "      <td>5.700</td>\n",
       "      <td>6.0</td>\n",
       "    </tr>\n",
       "  </tbody>\n",
       "</table>\n",
       "</div>"
      ],
      "text/plain": [
       "                           Title  Vote_Average  Vote_Count\n",
       "0       uri: the surgical strike         7.078       411.0\n",
       "1                  battalion 609         0.000         0.0\n",
       "2  the accidental prime minister         5.000        21.0\n",
       "3                why cheat india         5.500        18.0\n",
       "4                evening shadows         5.700         6.0"
      ]
     },
     "execution_count": 91,
     "metadata": {},
     "output_type": "execute_result"
    }
   ],
   "source": [
    "# Selecting feature which is needed to build a simple popularity based recomandation\n",
    "p_df = final_df[['Title', 'Vote_Average', 'Vote_Count']]\n",
    "p_df.head()"
   ]
  },
  {
   "cell_type": "code",
   "execution_count": 92,
   "metadata": {},
   "outputs": [],
   "source": [
    "# calculating all the components based IMDB formula\n",
    "v= p_df['Vote_Count']\n",
    "R= p_df['Vote_Average']\n",
    "C= p_df['Vote_Average'].mean()\n",
    "m= p_df['Vote_Count'].quantile(0.70)\n",
    "\n",
    "p_df['Weighted_Average']=((R*v)+ (C*m))/(v+m)\n"
   ]
  },
  {
   "cell_type": "code",
   "execution_count": 93,
   "metadata": {},
   "outputs": [],
   "source": [
    "def get_unique_sorted_movies(df, sort_by='Weighted_Average'):\n",
    "    \"\"\"\n",
    "    This function sorts the DataFrame by the specified column and removes duplicate titles.\n",
    "    \n",
    "    Parameters:\n",
    "    df (pd.DataFrame): DataFrame containing movie data.\n",
    "    sort_by (str): Column name to sort by. Default is 'Weighted_Average'.\n",
    "    \n",
    "    Returns:\n",
    "    pd.DataFrame: Sorted DataFrame with unique movie titles.\n",
    "    \"\"\"\n",
    "    # Ensure the DataFrame contains the necessary columns\n",
    "    if 'Title' not in df.columns or sort_by not in df.columns:\n",
    "        raise ValueError(f\"DataFrame must contain 'Title' and '{sort_by}' columns\")\n",
    "\n",
    "    # Sort the DataFrame by the specified column\n",
    "    sorted_df = df.sort_values(by=sort_by, ascending=False)\n",
    "\n",
    "    # Remove duplicates based on the Title column, keeping the first occurrence\n",
    "    unique_sorted_df = sorted_df.drop_duplicates(subset='Title', keep='first')\n",
    "\n",
    "    return unique_sorted_df"
   ]
  },
  {
   "cell_type": "code",
   "execution_count": 94,
   "metadata": {},
   "outputs": [],
   "source": [
    "popular_movies = get_unique_sorted_movies(p_df, sort_by='Weighted_Average')"
   ]
  },
  {
   "cell_type": "code",
   "execution_count": 95,
   "metadata": {},
   "outputs": [
    {
     "data": {
      "text/html": [
       "<div>\n",
       "<style scoped>\n",
       "    .dataframe tbody tr th:only-of-type {\n",
       "        vertical-align: middle;\n",
       "    }\n",
       "\n",
       "    .dataframe tbody tr th {\n",
       "        vertical-align: top;\n",
       "    }\n",
       "\n",
       "    .dataframe thead th {\n",
       "        text-align: right;\n",
       "    }\n",
       "</style>\n",
       "<table border=\"1\" class=\"dataframe\">\n",
       "  <thead>\n",
       "    <tr style=\"text-align: right;\">\n",
       "      <th></th>\n",
       "      <th>Title</th>\n",
       "      <th>Vote_Average</th>\n",
       "      <th>Vote_Count</th>\n",
       "      <th>Weighted_Average</th>\n",
       "    </tr>\n",
       "  </thead>\n",
       "  <tbody>\n",
       "    <tr>\n",
       "      <th>1980</th>\n",
       "      <td>dilwale dulhania le jayenge</td>\n",
       "      <td>8.536</td>\n",
       "      <td>4404.0</td>\n",
       "      <td>8.527506</td>\n",
       "    </tr>\n",
       "    <tr>\n",
       "      <th>3668</th>\n",
       "      <td>paras</td>\n",
       "      <td>8.509</td>\n",
       "      <td>17750.0</td>\n",
       "      <td>8.506903</td>\n",
       "    </tr>\n",
       "    <tr>\n",
       "      <th>536</th>\n",
       "      <td>life is beautiful</td>\n",
       "      <td>8.451</td>\n",
       "      <td>12804.0</td>\n",
       "      <td>8.448134</td>\n",
       "    </tr>\n",
       "    <tr>\n",
       "      <th>52</th>\n",
       "      <td>dream girl</td>\n",
       "      <td>8.231</td>\n",
       "      <td>508.0</td>\n",
       "      <td>8.163805</td>\n",
       "    </tr>\n",
       "    <tr>\n",
       "      <th>707</th>\n",
       "      <td>joker</td>\n",
       "      <td>8.160</td>\n",
       "      <td>24856.0</td>\n",
       "      <td>8.158629</td>\n",
       "    </tr>\n",
       "    <tr>\n",
       "      <th>4239</th>\n",
       "      <td>taxi driver</td>\n",
       "      <td>8.100</td>\n",
       "      <td>11925.0</td>\n",
       "      <td>8.097188</td>\n",
       "    </tr>\n",
       "    <tr>\n",
       "      <th>945</th>\n",
       "      <td>new york</td>\n",
       "      <td>8.100</td>\n",
       "      <td>1070.0</td>\n",
       "      <td>8.068896</td>\n",
       "    </tr>\n",
       "    <tr>\n",
       "      <th>4273</th>\n",
       "      <td>alif laila</td>\n",
       "      <td>8.100</td>\n",
       "      <td>591.0</td>\n",
       "      <td>8.044065</td>\n",
       "    </tr>\n",
       "    <tr>\n",
       "      <th>3295</th>\n",
       "      <td>taxi taxie</td>\n",
       "      <td>8.066</td>\n",
       "      <td>934.0</td>\n",
       "      <td>8.030735</td>\n",
       "    </tr>\n",
       "    <tr>\n",
       "      <th>833</th>\n",
       "      <td>my name is khan</td>\n",
       "      <td>8.039</td>\n",
       "      <td>1272.0</td>\n",
       "      <td>8.013230</td>\n",
       "    </tr>\n",
       "  </tbody>\n",
       "</table>\n",
       "</div>"
      ],
      "text/plain": [
       "                            Title  Vote_Average  Vote_Count  Weighted_Average\n",
       "1980  dilwale dulhania le jayenge         8.536      4404.0          8.527506\n",
       "3668                        paras         8.509     17750.0          8.506903\n",
       "536             life is beautiful         8.451     12804.0          8.448134\n",
       "52                     dream girl         8.231       508.0          8.163805\n",
       "707                         joker         8.160     24856.0          8.158629\n",
       "4239                  taxi driver         8.100     11925.0          8.097188\n",
       "945                      new york         8.100      1070.0          8.068896\n",
       "4273                   alif laila         8.100       591.0          8.044065\n",
       "3295                   taxi taxie         8.066       934.0          8.030735\n",
       "833               my name is khan         8.039      1272.0          8.013230"
      ]
     },
     "execution_count": 95,
     "metadata": {},
     "output_type": "execute_result"
    }
   ],
   "source": [
    "popular_movies.head(10)"
   ]
  },
  {
   "cell_type": "code",
   "execution_count": 96,
   "metadata": {},
   "outputs": [],
   "source": [
    "# Save preprocessed data\n",
    "p_df.to_csv('preprocessed_movies_hindi_new.csv', index=False)\n",
    "popular_movies.head(10).to_csv('top_10_popular_movies_hindi_new.csv', index=False)"
   ]
  },
  {
   "cell_type": "code",
   "execution_count": 97,
   "metadata": {},
   "outputs": [
    {
     "data": {
      "text/html": [
       "<div>\n",
       "<style scoped>\n",
       "    .dataframe tbody tr th:only-of-type {\n",
       "        vertical-align: middle;\n",
       "    }\n",
       "\n",
       "    .dataframe tbody tr th {\n",
       "        vertical-align: top;\n",
       "    }\n",
       "\n",
       "    .dataframe thead th {\n",
       "        text-align: right;\n",
       "    }\n",
       "</style>\n",
       "<table border=\"1\" class=\"dataframe\">\n",
       "  <thead>\n",
       "    <tr style=\"text-align: right;\">\n",
       "      <th></th>\n",
       "      <th>Title</th>\n",
       "      <th>Cast and crew</th>\n",
       "      <th>Genre</th>\n",
       "      <th>Vote_Average</th>\n",
       "      <th>Vote_Count</th>\n",
       "    </tr>\n",
       "  </thead>\n",
       "  <tbody>\n",
       "    <tr>\n",
       "      <th>0</th>\n",
       "      <td>uri: the surgical strike</td>\n",
       "      <td>vicky kaushal paresh rawal mohit raina yami ga...</td>\n",
       "      <td>action drama war</td>\n",
       "      <td>7.078</td>\n",
       "      <td>411.0</td>\n",
       "    </tr>\n",
       "    <tr>\n",
       "      <th>1</th>\n",
       "      <td>battalion 609</td>\n",
       "      <td>vicky ahuja shoaib ibrahim shrikant kamat elen...</td>\n",
       "      <td>action war drama</td>\n",
       "      <td>0.000</td>\n",
       "      <td>0.0</td>\n",
       "    </tr>\n",
       "    <tr>\n",
       "      <th>2</th>\n",
       "      <td>the accidental prime minister</td>\n",
       "      <td>anupam kher akshaye khanna aahana kumra atul s...</td>\n",
       "      <td>history drama</td>\n",
       "      <td>5.000</td>\n",
       "      <td>21.0</td>\n",
       "    </tr>\n",
       "    <tr>\n",
       "      <th>3</th>\n",
       "      <td>why cheat india</td>\n",
       "      <td>emraan hashmi shreya dhanwanthary snighdadeep ...</td>\n",
       "      <td>drama crime</td>\n",
       "      <td>5.500</td>\n",
       "      <td>18.0</td>\n",
       "    </tr>\n",
       "    <tr>\n",
       "      <th>4</th>\n",
       "      <td>evening shadows</td>\n",
       "      <td>mona ambegaonkar ananth narayan mahadevan deva...</td>\n",
       "      <td>drama</td>\n",
       "      <td>5.700</td>\n",
       "      <td>6.0</td>\n",
       "    </tr>\n",
       "  </tbody>\n",
       "</table>\n",
       "</div>"
      ],
      "text/plain": [
       "                           Title  \\\n",
       "0       uri: the surgical strike   \n",
       "1                  battalion 609   \n",
       "2  the accidental prime minister   \n",
       "3                why cheat india   \n",
       "4                evening shadows   \n",
       "\n",
       "                                       Cast and crew             Genre  \\\n",
       "0  vicky kaushal paresh rawal mohit raina yami ga...  action drama war   \n",
       "1  vicky ahuja shoaib ibrahim shrikant kamat elen...  action war drama   \n",
       "2  anupam kher akshaye khanna aahana kumra atul s...     history drama   \n",
       "3  emraan hashmi shreya dhanwanthary snighdadeep ...       drama crime   \n",
       "4  mona ambegaonkar ananth narayan mahadevan deva...             drama   \n",
       "\n",
       "   Vote_Average  Vote_Count  \n",
       "0         7.078       411.0  \n",
       "1         0.000         0.0  \n",
       "2         5.000        21.0  \n",
       "3         5.500        18.0  \n",
       "4         5.700         6.0  "
      ]
     },
     "execution_count": 97,
     "metadata": {},
     "output_type": "execute_result"
    }
   ],
   "source": [
    "final_df.head()"
   ]
  },
  {
   "cell_type": "markdown",
   "metadata": {},
   "source": [
    "## 2. Content Based Recommender"
   ]
  },
  {
   "cell_type": "code",
   "execution_count": 98,
   "metadata": {},
   "outputs": [],
   "source": [
    "# concatinate all these columns and create one seprate column for them\n",
    "final_df['Combined_Features'] = final_df['Cast and crew'] +' '+ final_df['Genre']"
   ]
  },
  {
   "cell_type": "code",
   "execution_count": 99,
   "metadata": {},
   "outputs": [
    {
     "data": {
      "text/plain": [
       "0    vicky kaushal paresh rawal mohit raina yami ga...\n",
       "1    vicky ahuja shoaib ibrahim shrikant kamat elen...\n",
       "2    anupam kher akshaye khanna aahana kumra atul s...\n",
       "3    emraan hashmi shreya dhanwanthary snighdadeep ...\n",
       "4    mona ambegaonkar ananth narayan mahadevan deva...\n",
       "Name: Combined_Features, dtype: object"
      ]
     },
     "execution_count": 99,
     "metadata": {},
     "output_type": "execute_result"
    }
   ],
   "source": [
    "final_df['Combined_Features'].head()"
   ]
  },
  {
   "cell_type": "code",
   "execution_count": 100,
   "metadata": {},
   "outputs": [],
   "source": [
    "# Create count matrix from this new combined column\n",
    "from sklearn.feature_extraction.text import CountVectorizer\n",
    "cv = CountVectorizer()\n",
    "count_matrix = cv.fit_transform(final_df[\"Combined_Features\"])"
   ]
  },
  {
   "cell_type": "code",
   "execution_count": 101,
   "metadata": {},
   "outputs": [],
   "source": [
    "# Now Compute the Cosine Similarity based on the count_matrix\n",
    "from sklearn.metrics.pairwise import cosine_similarity\n",
    "cosine_sim = cosine_similarity(count_matrix)"
   ]
  },
  {
   "cell_type": "code",
   "execution_count": 103,
   "metadata": {},
   "outputs": [],
   "source": [
    "# # This Function takes movie title as input and return 15 most similar movies.\n",
    "# # This function is also capable for correcting user input spell.\n",
    "\n",
    "\n",
    "def get_recomandation_contentBase(title):\n",
    "    # Converting uppercase into lower - ensure case-insensitive matching\n",
    "    title = title.lower()\n",
    "    \n",
    "    # Correcting user input spell (close match from our movie list) - also ensures spell checking\n",
    "    close_matches = get_close_matches(title, final_df['Title'].str.lower().values, n=1, cutoff=0.6)\n",
    "    if not close_matches:\n",
    "        return \"No close matches found.\"\n",
    "    \n",
    "    title = close_matches[0]\n",
    "    \n",
    "    # Get the index of the movie that matches the title\n",
    "    idx = final_df['Title'].str.lower()[final_df['Title'].str.lower() == title].index[0]\n",
    "    \n",
    "    # Get the pairwise similarity scores of all movies with that movie\n",
    "    sim_scores = list(enumerate(cosine_sim[idx]))\n",
    "    \n",
    "    # Sort the movies based on the similarity scores\n",
    "    sim_scores = sorted(sim_scores, key=lambda x: x[1], reverse=True)\n",
    "    \n",
    "    # Get the scores of the 15 most similar movies, excluding the input movie\n",
    "    sim_scores = [x for x in sim_scores if x[0] != idx][:15]\n",
    "    \n",
    "    # Ensure unique movie titles in the recommendations\n",
    "    seen_titles = set()\n",
    "    unique_recommendations = []\n",
    "    for i in sim_scores:\n",
    "        movie_index = i[0]\n",
    "        movie_title = final_df['Title'].iloc[movie_index]\n",
    "        if movie_title not in seen_titles:\n",
    "            seen_titles.add(movie_title)\n",
    "            unique_recommendations.append(movie_title)\n",
    "    \n",
    "    for movie in unique_recommendations:\n",
    "        print(movie)"
   ]
  },
  {
   "cell_type": "code",
   "execution_count": 104,
   "metadata": {},
   "outputs": [
    {
     "name": "stdout",
     "output_type": "stream",
     "text": [
      "waiting\n",
      "mane\n",
      "katha\n",
      "zero\n",
      "the sky is pink\n",
      "andhi gali\n",
      "bombay to bangkok\n",
      "koi mere dil mein hai\n",
      "badhaai ho badhaai\n",
      "hip hip hurray\n",
      "manmadha leelai\n",
      "baar baar dekho\n",
      "ahista ahista\n",
      "mujhse dosti karoge!\n",
      "bang bang!\n"
     ]
    }
   ],
   "source": [
    "# Now lets make predictions like \n",
    "get_recomandation_contentBase(\"Zindagi Na Milegi Dobara\")"
   ]
  },
  {
   "cell_type": "code",
   "execution_count": 105,
   "metadata": {},
   "outputs": [],
   "source": [
    "final_df.to_csv('final_movies_hindi_new.csv', index=False)"
   ]
  },
  {
   "cell_type": "code",
   "execution_count": 106,
   "metadata": {},
   "outputs": [],
   "source": [
    "np.save('cosine_sim_bollywood_new.npy', cosine_sim)"
   ]
  },
  {
   "cell_type": "markdown",
   "metadata": {},
   "source": [
    "## 3. Collaborative filtering"
   ]
  },
  {
   "cell_type": "code",
   "execution_count": 3,
   "metadata": {},
   "outputs": [],
   "source": [
    "# ratings = pd.read_csv('rating_bollywood.csv')\n",
    "# movies = pd.read_csv('hindi_movie.csv')\n",
    "# Load the data\n",
    "data = pd.read_csv('Data/bollywood_full.csv')"
   ]
  },
  {
   "cell_type": "code",
   "execution_count": 5,
   "metadata": {},
   "outputs": [],
   "source": [
    "# Create userId ranging from 1 to 50 and repeating\n",
    "data['userId'] = [(i % 50) + 1 for i in range(len(data))]"
   ]
  },
  {
   "cell_type": "code",
   "execution_count": 6,
   "metadata": {},
   "outputs": [
    {
     "data": {
      "text/html": [
       "<div>\n",
       "<style scoped>\n",
       "    .dataframe tbody tr th:only-of-type {\n",
       "        vertical-align: middle;\n",
       "    }\n",
       "\n",
       "    .dataframe tbody tr th {\n",
       "        vertical-align: top;\n",
       "    }\n",
       "\n",
       "    .dataframe thead th {\n",
       "        text-align: right;\n",
       "    }\n",
       "</style>\n",
       "<table border=\"1\" class=\"dataframe\">\n",
       "  <thead>\n",
       "    <tr style=\"text-align: right;\">\n",
       "      <th></th>\n",
       "      <th>title_x</th>\n",
       "      <th>imdb_id</th>\n",
       "      <th>poster_path</th>\n",
       "      <th>wiki_link</th>\n",
       "      <th>title_y</th>\n",
       "      <th>original_title</th>\n",
       "      <th>is_adult</th>\n",
       "      <th>year_of_release</th>\n",
       "      <th>runtime</th>\n",
       "      <th>genres</th>\n",
       "      <th>imdb_rating</th>\n",
       "      <th>imdb_votes</th>\n",
       "      <th>story</th>\n",
       "      <th>summary</th>\n",
       "      <th>tagline</th>\n",
       "      <th>actors</th>\n",
       "      <th>wins_nominations</th>\n",
       "      <th>release_date</th>\n",
       "      <th>userId</th>\n",
       "    </tr>\n",
       "  </thead>\n",
       "  <tbody>\n",
       "    <tr>\n",
       "      <th>0</th>\n",
       "      <td>Uri: The Surgical Strike</td>\n",
       "      <td>tt8291224</td>\n",
       "      <td>https://upload.wikimedia.org/wikipedia/en/thum...</td>\n",
       "      <td>https://en.wikipedia.org/wiki/Uri:_The_Surgica...</td>\n",
       "      <td>Uri: The Surgical Strike</td>\n",
       "      <td>Uri: The Surgical Strike</td>\n",
       "      <td>0</td>\n",
       "      <td>2019</td>\n",
       "      <td>138</td>\n",
       "      <td>Action|Drama|War</td>\n",
       "      <td>8.4</td>\n",
       "      <td>35112.0</td>\n",
       "      <td>Divided over five chapters  the film chronicle...</td>\n",
       "      <td>Indian army special forces execute a covert op...</td>\n",
       "      <td>NaN</td>\n",
       "      <td>Vicky Kaushal|Paresh Rawal|Mohit Raina|Yami Ga...</td>\n",
       "      <td>4 wins</td>\n",
       "      <td>11 January 2019 (USA)</td>\n",
       "      <td>1</td>\n",
       "    </tr>\n",
       "    <tr>\n",
       "      <th>1</th>\n",
       "      <td>Battalion 609</td>\n",
       "      <td>tt9472208</td>\n",
       "      <td>NaN</td>\n",
       "      <td>https://en.wikipedia.org/wiki/Battalion_609</td>\n",
       "      <td>Battalion 609</td>\n",
       "      <td>Battalion 609</td>\n",
       "      <td>0</td>\n",
       "      <td>2019</td>\n",
       "      <td>131</td>\n",
       "      <td>War</td>\n",
       "      <td>4.1</td>\n",
       "      <td>73.0</td>\n",
       "      <td>The story revolves around a cricket match betw...</td>\n",
       "      <td>The story of Battalion 609 revolves around a c...</td>\n",
       "      <td>NaN</td>\n",
       "      <td>Vicky Ahuja|Shoaib Ibrahim|Shrikant Kamat|Elen...</td>\n",
       "      <td>NaN</td>\n",
       "      <td>11 January 2019 (India)</td>\n",
       "      <td>2</td>\n",
       "    </tr>\n",
       "    <tr>\n",
       "      <th>2</th>\n",
       "      <td>The Accidental Prime Minister (film)</td>\n",
       "      <td>tt6986710</td>\n",
       "      <td>https://upload.wikimedia.org/wikipedia/en/thum...</td>\n",
       "      <td>https://en.wikipedia.org/wiki/The_Accidental_P...</td>\n",
       "      <td>The Accidental Prime Minister</td>\n",
       "      <td>The Accidental Prime Minister</td>\n",
       "      <td>0</td>\n",
       "      <td>2019</td>\n",
       "      <td>112</td>\n",
       "      <td>Biography|Drama</td>\n",
       "      <td>6.1</td>\n",
       "      <td>5549.0</td>\n",
       "      <td>Based on the memoir by Indian policy analyst S...</td>\n",
       "      <td>Explores Manmohan Singh's tenure as the Prime ...</td>\n",
       "      <td>NaN</td>\n",
       "      <td>Anupam Kher|Akshaye Khanna|Aahana Kumra|Atul S...</td>\n",
       "      <td>NaN</td>\n",
       "      <td>11 January 2019 (USA)</td>\n",
       "      <td>3</td>\n",
       "    </tr>\n",
       "    <tr>\n",
       "      <th>3</th>\n",
       "      <td>Why Cheat India</td>\n",
       "      <td>tt8108208</td>\n",
       "      <td>https://upload.wikimedia.org/wikipedia/en/thum...</td>\n",
       "      <td>https://en.wikipedia.org/wiki/Why_Cheat_India</td>\n",
       "      <td>Why Cheat India</td>\n",
       "      <td>Why Cheat India</td>\n",
       "      <td>0</td>\n",
       "      <td>2019</td>\n",
       "      <td>121</td>\n",
       "      <td>Crime|Drama</td>\n",
       "      <td>6.0</td>\n",
       "      <td>1891.0</td>\n",
       "      <td>The movie focuses on existing malpractices in ...</td>\n",
       "      <td>The movie focuses on existing malpractices in ...</td>\n",
       "      <td>NaN</td>\n",
       "      <td>Emraan Hashmi|Shreya Dhanwanthary|Snighdadeep ...</td>\n",
       "      <td>NaN</td>\n",
       "      <td>18 January 2019 (USA)</td>\n",
       "      <td>4</td>\n",
       "    </tr>\n",
       "    <tr>\n",
       "      <th>4</th>\n",
       "      <td>Evening Shadows</td>\n",
       "      <td>tt6028796</td>\n",
       "      <td>NaN</td>\n",
       "      <td>https://en.wikipedia.org/wiki/Evening_Shadows</td>\n",
       "      <td>Evening Shadows</td>\n",
       "      <td>Evening Shadows</td>\n",
       "      <td>0</td>\n",
       "      <td>2018</td>\n",
       "      <td>102</td>\n",
       "      <td>Drama</td>\n",
       "      <td>7.3</td>\n",
       "      <td>280.0</td>\n",
       "      <td>While gay rights and marriage equality has bee...</td>\n",
       "      <td>Under the 'Evening Shadows'  truth often plays...</td>\n",
       "      <td>NaN</td>\n",
       "      <td>Mona Ambegaonkar|Ananth Narayan Mahadevan|Deva...</td>\n",
       "      <td>17 wins &amp; 1 nomination</td>\n",
       "      <td>11 January 2019 (India)</td>\n",
       "      <td>5</td>\n",
       "    </tr>\n",
       "  </tbody>\n",
       "</table>\n",
       "</div>"
      ],
      "text/plain": [
       "                                title_x    imdb_id  \\\n",
       "0              Uri: The Surgical Strike  tt8291224   \n",
       "1                         Battalion 609  tt9472208   \n",
       "2  The Accidental Prime Minister (film)  tt6986710   \n",
       "3                       Why Cheat India  tt8108208   \n",
       "4                       Evening Shadows  tt6028796   \n",
       "\n",
       "                                         poster_path  \\\n",
       "0  https://upload.wikimedia.org/wikipedia/en/thum...   \n",
       "1                                                NaN   \n",
       "2  https://upload.wikimedia.org/wikipedia/en/thum...   \n",
       "3  https://upload.wikimedia.org/wikipedia/en/thum...   \n",
       "4                                                NaN   \n",
       "\n",
       "                                           wiki_link  \\\n",
       "0  https://en.wikipedia.org/wiki/Uri:_The_Surgica...   \n",
       "1        https://en.wikipedia.org/wiki/Battalion_609   \n",
       "2  https://en.wikipedia.org/wiki/The_Accidental_P...   \n",
       "3      https://en.wikipedia.org/wiki/Why_Cheat_India   \n",
       "4      https://en.wikipedia.org/wiki/Evening_Shadows   \n",
       "\n",
       "                         title_y                 original_title  is_adult  \\\n",
       "0       Uri: The Surgical Strike       Uri: The Surgical Strike         0   \n",
       "1                  Battalion 609                  Battalion 609         0   \n",
       "2  The Accidental Prime Minister  The Accidental Prime Minister         0   \n",
       "3                Why Cheat India                Why Cheat India         0   \n",
       "4                Evening Shadows                Evening Shadows         0   \n",
       "\n",
       "  year_of_release runtime            genres  imdb_rating  imdb_votes  \\\n",
       "0            2019     138  Action|Drama|War          8.4     35112.0   \n",
       "1            2019     131               War          4.1        73.0   \n",
       "2            2019     112   Biography|Drama          6.1      5549.0   \n",
       "3            2019     121       Crime|Drama          6.0      1891.0   \n",
       "4            2018     102             Drama          7.3       280.0   \n",
       "\n",
       "                                               story  \\\n",
       "0  Divided over five chapters  the film chronicle...   \n",
       "1  The story revolves around a cricket match betw...   \n",
       "2  Based on the memoir by Indian policy analyst S...   \n",
       "3  The movie focuses on existing malpractices in ...   \n",
       "4  While gay rights and marriage equality has bee...   \n",
       "\n",
       "                                             summary tagline  \\\n",
       "0  Indian army special forces execute a covert op...     NaN   \n",
       "1  The story of Battalion 609 revolves around a c...     NaN   \n",
       "2  Explores Manmohan Singh's tenure as the Prime ...     NaN   \n",
       "3  The movie focuses on existing malpractices in ...     NaN   \n",
       "4  Under the 'Evening Shadows'  truth often plays...     NaN   \n",
       "\n",
       "                                              actors        wins_nominations  \\\n",
       "0  Vicky Kaushal|Paresh Rawal|Mohit Raina|Yami Ga...                  4 wins   \n",
       "1  Vicky Ahuja|Shoaib Ibrahim|Shrikant Kamat|Elen...                     NaN   \n",
       "2  Anupam Kher|Akshaye Khanna|Aahana Kumra|Atul S...                     NaN   \n",
       "3  Emraan Hashmi|Shreya Dhanwanthary|Snighdadeep ...                     NaN   \n",
       "4  Mona Ambegaonkar|Ananth Narayan Mahadevan|Deva...  17 wins & 1 nomination   \n",
       "\n",
       "              release_date  userId  \n",
       "0    11 January 2019 (USA)       1  \n",
       "1  11 January 2019 (India)       2  \n",
       "2    11 January 2019 (USA)       3  \n",
       "3    18 January 2019 (USA)       4  \n",
       "4  11 January 2019 (India)       5  "
      ]
     },
     "execution_count": 6,
     "metadata": {},
     "output_type": "execute_result"
    }
   ],
   "source": [
    "data.head()"
   ]
  },
  {
   "cell_type": "code",
   "execution_count": 7,
   "metadata": {},
   "outputs": [],
   "source": [
    "# data['userId'] = 1\n"
   ]
  },
  {
   "cell_type": "code",
   "execution_count": null,
   "metadata": {},
   "outputs": [],
   "source": []
  },
  {
   "cell_type": "code",
   "execution_count": 8,
   "metadata": {},
   "outputs": [],
   "source": [
    "# Convert IMDB rating to 5-point scale\n",
    "def convert_to_5_scale(rating):\n",
    "    if pd.isna(rating):\n",
    "        return np.nan\n",
    "    return min(5, max(1, round(rating * 5 / 10, 1)))\n",
    "\n",
    "data['rating'] = data['imdb_rating'].apply(convert_to_5_scale)"
   ]
  },
  {
   "cell_type": "code",
   "execution_count": 9,
   "metadata": {},
   "outputs": [
    {
     "data": {
      "text/html": [
       "<div>\n",
       "<style scoped>\n",
       "    .dataframe tbody tr th:only-of-type {\n",
       "        vertical-align: middle;\n",
       "    }\n",
       "\n",
       "    .dataframe tbody tr th {\n",
       "        vertical-align: top;\n",
       "    }\n",
       "\n",
       "    .dataframe thead th {\n",
       "        text-align: right;\n",
       "    }\n",
       "</style>\n",
       "<table border=\"1\" class=\"dataframe\">\n",
       "  <thead>\n",
       "    <tr style=\"text-align: right;\">\n",
       "      <th></th>\n",
       "      <th>title_x</th>\n",
       "      <th>imdb_id</th>\n",
       "      <th>poster_path</th>\n",
       "      <th>wiki_link</th>\n",
       "      <th>title_y</th>\n",
       "      <th>original_title</th>\n",
       "      <th>is_adult</th>\n",
       "      <th>year_of_release</th>\n",
       "      <th>runtime</th>\n",
       "      <th>genres</th>\n",
       "      <th>imdb_rating</th>\n",
       "      <th>imdb_votes</th>\n",
       "      <th>story</th>\n",
       "      <th>summary</th>\n",
       "      <th>tagline</th>\n",
       "      <th>actors</th>\n",
       "      <th>wins_nominations</th>\n",
       "      <th>release_date</th>\n",
       "      <th>userId</th>\n",
       "      <th>rating</th>\n",
       "    </tr>\n",
       "  </thead>\n",
       "  <tbody>\n",
       "    <tr>\n",
       "      <th>0</th>\n",
       "      <td>Uri: The Surgical Strike</td>\n",
       "      <td>tt8291224</td>\n",
       "      <td>https://upload.wikimedia.org/wikipedia/en/thum...</td>\n",
       "      <td>https://en.wikipedia.org/wiki/Uri:_The_Surgica...</td>\n",
       "      <td>Uri: The Surgical Strike</td>\n",
       "      <td>Uri: The Surgical Strike</td>\n",
       "      <td>0</td>\n",
       "      <td>2019</td>\n",
       "      <td>138</td>\n",
       "      <td>Action|Drama|War</td>\n",
       "      <td>8.4</td>\n",
       "      <td>35112.0</td>\n",
       "      <td>Divided over five chapters  the film chronicle...</td>\n",
       "      <td>Indian army special forces execute a covert op...</td>\n",
       "      <td>NaN</td>\n",
       "      <td>Vicky Kaushal|Paresh Rawal|Mohit Raina|Yami Ga...</td>\n",
       "      <td>4 wins</td>\n",
       "      <td>11 January 2019 (USA)</td>\n",
       "      <td>1</td>\n",
       "      <td>4.2</td>\n",
       "    </tr>\n",
       "    <tr>\n",
       "      <th>1</th>\n",
       "      <td>Battalion 609</td>\n",
       "      <td>tt9472208</td>\n",
       "      <td>NaN</td>\n",
       "      <td>https://en.wikipedia.org/wiki/Battalion_609</td>\n",
       "      <td>Battalion 609</td>\n",
       "      <td>Battalion 609</td>\n",
       "      <td>0</td>\n",
       "      <td>2019</td>\n",
       "      <td>131</td>\n",
       "      <td>War</td>\n",
       "      <td>4.1</td>\n",
       "      <td>73.0</td>\n",
       "      <td>The story revolves around a cricket match betw...</td>\n",
       "      <td>The story of Battalion 609 revolves around a c...</td>\n",
       "      <td>NaN</td>\n",
       "      <td>Vicky Ahuja|Shoaib Ibrahim|Shrikant Kamat|Elen...</td>\n",
       "      <td>NaN</td>\n",
       "      <td>11 January 2019 (India)</td>\n",
       "      <td>2</td>\n",
       "      <td>2.0</td>\n",
       "    </tr>\n",
       "    <tr>\n",
       "      <th>2</th>\n",
       "      <td>The Accidental Prime Minister (film)</td>\n",
       "      <td>tt6986710</td>\n",
       "      <td>https://upload.wikimedia.org/wikipedia/en/thum...</td>\n",
       "      <td>https://en.wikipedia.org/wiki/The_Accidental_P...</td>\n",
       "      <td>The Accidental Prime Minister</td>\n",
       "      <td>The Accidental Prime Minister</td>\n",
       "      <td>0</td>\n",
       "      <td>2019</td>\n",
       "      <td>112</td>\n",
       "      <td>Biography|Drama</td>\n",
       "      <td>6.1</td>\n",
       "      <td>5549.0</td>\n",
       "      <td>Based on the memoir by Indian policy analyst S...</td>\n",
       "      <td>Explores Manmohan Singh's tenure as the Prime ...</td>\n",
       "      <td>NaN</td>\n",
       "      <td>Anupam Kher|Akshaye Khanna|Aahana Kumra|Atul S...</td>\n",
       "      <td>NaN</td>\n",
       "      <td>11 January 2019 (USA)</td>\n",
       "      <td>3</td>\n",
       "      <td>3.0</td>\n",
       "    </tr>\n",
       "    <tr>\n",
       "      <th>3</th>\n",
       "      <td>Why Cheat India</td>\n",
       "      <td>tt8108208</td>\n",
       "      <td>https://upload.wikimedia.org/wikipedia/en/thum...</td>\n",
       "      <td>https://en.wikipedia.org/wiki/Why_Cheat_India</td>\n",
       "      <td>Why Cheat India</td>\n",
       "      <td>Why Cheat India</td>\n",
       "      <td>0</td>\n",
       "      <td>2019</td>\n",
       "      <td>121</td>\n",
       "      <td>Crime|Drama</td>\n",
       "      <td>6.0</td>\n",
       "      <td>1891.0</td>\n",
       "      <td>The movie focuses on existing malpractices in ...</td>\n",
       "      <td>The movie focuses on existing malpractices in ...</td>\n",
       "      <td>NaN</td>\n",
       "      <td>Emraan Hashmi|Shreya Dhanwanthary|Snighdadeep ...</td>\n",
       "      <td>NaN</td>\n",
       "      <td>18 January 2019 (USA)</td>\n",
       "      <td>4</td>\n",
       "      <td>3.0</td>\n",
       "    </tr>\n",
       "    <tr>\n",
       "      <th>4</th>\n",
       "      <td>Evening Shadows</td>\n",
       "      <td>tt6028796</td>\n",
       "      <td>NaN</td>\n",
       "      <td>https://en.wikipedia.org/wiki/Evening_Shadows</td>\n",
       "      <td>Evening Shadows</td>\n",
       "      <td>Evening Shadows</td>\n",
       "      <td>0</td>\n",
       "      <td>2018</td>\n",
       "      <td>102</td>\n",
       "      <td>Drama</td>\n",
       "      <td>7.3</td>\n",
       "      <td>280.0</td>\n",
       "      <td>While gay rights and marriage equality has bee...</td>\n",
       "      <td>Under the 'Evening Shadows'  truth often plays...</td>\n",
       "      <td>NaN</td>\n",
       "      <td>Mona Ambegaonkar|Ananth Narayan Mahadevan|Deva...</td>\n",
       "      <td>17 wins &amp; 1 nomination</td>\n",
       "      <td>11 January 2019 (India)</td>\n",
       "      <td>5</td>\n",
       "      <td>3.6</td>\n",
       "    </tr>\n",
       "  </tbody>\n",
       "</table>\n",
       "</div>"
      ],
      "text/plain": [
       "                                title_x    imdb_id  \\\n",
       "0              Uri: The Surgical Strike  tt8291224   \n",
       "1                         Battalion 609  tt9472208   \n",
       "2  The Accidental Prime Minister (film)  tt6986710   \n",
       "3                       Why Cheat India  tt8108208   \n",
       "4                       Evening Shadows  tt6028796   \n",
       "\n",
       "                                         poster_path  \\\n",
       "0  https://upload.wikimedia.org/wikipedia/en/thum...   \n",
       "1                                                NaN   \n",
       "2  https://upload.wikimedia.org/wikipedia/en/thum...   \n",
       "3  https://upload.wikimedia.org/wikipedia/en/thum...   \n",
       "4                                                NaN   \n",
       "\n",
       "                                           wiki_link  \\\n",
       "0  https://en.wikipedia.org/wiki/Uri:_The_Surgica...   \n",
       "1        https://en.wikipedia.org/wiki/Battalion_609   \n",
       "2  https://en.wikipedia.org/wiki/The_Accidental_P...   \n",
       "3      https://en.wikipedia.org/wiki/Why_Cheat_India   \n",
       "4      https://en.wikipedia.org/wiki/Evening_Shadows   \n",
       "\n",
       "                         title_y                 original_title  is_adult  \\\n",
       "0       Uri: The Surgical Strike       Uri: The Surgical Strike         0   \n",
       "1                  Battalion 609                  Battalion 609         0   \n",
       "2  The Accidental Prime Minister  The Accidental Prime Minister         0   \n",
       "3                Why Cheat India                Why Cheat India         0   \n",
       "4                Evening Shadows                Evening Shadows         0   \n",
       "\n",
       "  year_of_release runtime            genres  imdb_rating  imdb_votes  \\\n",
       "0            2019     138  Action|Drama|War          8.4     35112.0   \n",
       "1            2019     131               War          4.1        73.0   \n",
       "2            2019     112   Biography|Drama          6.1      5549.0   \n",
       "3            2019     121       Crime|Drama          6.0      1891.0   \n",
       "4            2018     102             Drama          7.3       280.0   \n",
       "\n",
       "                                               story  \\\n",
       "0  Divided over five chapters  the film chronicle...   \n",
       "1  The story revolves around a cricket match betw...   \n",
       "2  Based on the memoir by Indian policy analyst S...   \n",
       "3  The movie focuses on existing malpractices in ...   \n",
       "4  While gay rights and marriage equality has bee...   \n",
       "\n",
       "                                             summary tagline  \\\n",
       "0  Indian army special forces execute a covert op...     NaN   \n",
       "1  The story of Battalion 609 revolves around a c...     NaN   \n",
       "2  Explores Manmohan Singh's tenure as the Prime ...     NaN   \n",
       "3  The movie focuses on existing malpractices in ...     NaN   \n",
       "4  Under the 'Evening Shadows'  truth often plays...     NaN   \n",
       "\n",
       "                                              actors        wins_nominations  \\\n",
       "0  Vicky Kaushal|Paresh Rawal|Mohit Raina|Yami Ga...                  4 wins   \n",
       "1  Vicky Ahuja|Shoaib Ibrahim|Shrikant Kamat|Elen...                     NaN   \n",
       "2  Anupam Kher|Akshaye Khanna|Aahana Kumra|Atul S...                     NaN   \n",
       "3  Emraan Hashmi|Shreya Dhanwanthary|Snighdadeep ...                     NaN   \n",
       "4  Mona Ambegaonkar|Ananth Narayan Mahadevan|Deva...  17 wins & 1 nomination   \n",
       "\n",
       "              release_date  userId  rating  \n",
       "0    11 January 2019 (USA)       1     4.2  \n",
       "1  11 January 2019 (India)       2     2.0  \n",
       "2    11 January 2019 (USA)       3     3.0  \n",
       "3    18 January 2019 (USA)       4     3.0  \n",
       "4  11 January 2019 (India)       5     3.6  "
      ]
     },
     "execution_count": 9,
     "metadata": {},
     "output_type": "execute_result"
    }
   ],
   "source": [
    "data.head()"
   ]
  },
  {
   "cell_type": "code",
   "execution_count": 10,
   "metadata": {},
   "outputs": [],
   "source": [
    "# movies.head()"
   ]
  },
  {
   "cell_type": "code",
   "execution_count": 11,
   "metadata": {},
   "outputs": [],
   "source": [
    "# #We can merge them together\n",
    "# data = pd.merge(ratings,movies,on='movieId')\n",
    "# data.head()"
   ]
  },
  {
   "cell_type": "code",
   "execution_count": 12,
   "metadata": {},
   "outputs": [
    {
     "data": {
      "text/html": [
       "<div>\n",
       "<style scoped>\n",
       "    .dataframe tbody tr th:only-of-type {\n",
       "        vertical-align: middle;\n",
       "    }\n",
       "\n",
       "    .dataframe tbody tr th {\n",
       "        vertical-align: top;\n",
       "    }\n",
       "\n",
       "    .dataframe thead th {\n",
       "        text-align: right;\n",
       "    }\n",
       "</style>\n",
       "<table border=\"1\" class=\"dataframe\">\n",
       "  <thead>\n",
       "    <tr style=\"text-align: right;\">\n",
       "      <th></th>\n",
       "      <th>movieId</th>\n",
       "      <th>title</th>\n",
       "      <th>userId</th>\n",
       "      <th>rating</th>\n",
       "    </tr>\n",
       "  </thead>\n",
       "  <tbody>\n",
       "    <tr>\n",
       "      <th>0</th>\n",
       "      <td>tt8291224</td>\n",
       "      <td>Uri: The Surgical Strike</td>\n",
       "      <td>1</td>\n",
       "      <td>4.2</td>\n",
       "    </tr>\n",
       "    <tr>\n",
       "      <th>1</th>\n",
       "      <td>tt9472208</td>\n",
       "      <td>Battalion 609</td>\n",
       "      <td>2</td>\n",
       "      <td>2.0</td>\n",
       "    </tr>\n",
       "    <tr>\n",
       "      <th>2</th>\n",
       "      <td>tt6986710</td>\n",
       "      <td>The Accidental Prime Minister (film)</td>\n",
       "      <td>3</td>\n",
       "      <td>3.0</td>\n",
       "    </tr>\n",
       "    <tr>\n",
       "      <th>3</th>\n",
       "      <td>tt8108208</td>\n",
       "      <td>Why Cheat India</td>\n",
       "      <td>4</td>\n",
       "      <td>3.0</td>\n",
       "    </tr>\n",
       "    <tr>\n",
       "      <th>4</th>\n",
       "      <td>tt6028796</td>\n",
       "      <td>Evening Shadows</td>\n",
       "      <td>5</td>\n",
       "      <td>3.6</td>\n",
       "    </tr>\n",
       "    <tr>\n",
       "      <th>5</th>\n",
       "      <td>tt6078866</td>\n",
       "      <td>Soni (film)</td>\n",
       "      <td>6</td>\n",
       "      <td>3.6</td>\n",
       "    </tr>\n",
       "    <tr>\n",
       "      <th>6</th>\n",
       "      <td>tt5013008</td>\n",
       "      <td>Fraud Saiyaan</td>\n",
       "      <td>7</td>\n",
       "      <td>2.1</td>\n",
       "    </tr>\n",
       "    <tr>\n",
       "      <th>7</th>\n",
       "      <td>tt4971258</td>\n",
       "      <td>Bombairiya</td>\n",
       "      <td>8</td>\n",
       "      <td>2.1</td>\n",
       "    </tr>\n",
       "    <tr>\n",
       "      <th>8</th>\n",
       "      <td>tt6903440</td>\n",
       "      <td>Manikarnika: The Queen of Jhansi</td>\n",
       "      <td>9</td>\n",
       "      <td>3.2</td>\n",
       "    </tr>\n",
       "    <tr>\n",
       "      <th>9</th>\n",
       "      <td>tt7777196</td>\n",
       "      <td>Thackeray (film)</td>\n",
       "      <td>10</td>\n",
       "      <td>2.5</td>\n",
       "    </tr>\n",
       "  </tbody>\n",
       "</table>\n",
       "</div>"
      ],
      "text/plain": [
       "     movieId                                 title  userId  rating\n",
       "0  tt8291224              Uri: The Surgical Strike       1     4.2\n",
       "1  tt9472208                         Battalion 609       2     2.0\n",
       "2  tt6986710  The Accidental Prime Minister (film)       3     3.0\n",
       "3  tt8108208                       Why Cheat India       4     3.0\n",
       "4  tt6028796                       Evening Shadows       5     3.6\n",
       "5  tt6078866                           Soni (film)       6     3.6\n",
       "6  tt5013008                         Fraud Saiyaan       7     2.1\n",
       "7  tt4971258                            Bombairiya       8     2.1\n",
       "8  tt6903440      Manikarnika: The Queen of Jhansi       9     3.2\n",
       "9  tt7777196                      Thackeray (film)      10     2.5"
      ]
     },
     "execution_count": 12,
     "metadata": {},
     "output_type": "execute_result"
    }
   ],
   "source": [
    "# Select useful features\n",
    "data = data[['imdb_id', 'title_x', 'userId', 'rating']]\n",
    "data = data.rename(columns={'imdb_id': 'movieId', 'title_x': 'title'})\n",
    "data = data.dropna(subset=['rating'])\n",
    "data.head(10)"
   ]
  },
  {
   "cell_type": "code",
   "execution_count": 13,
   "metadata": {},
   "outputs": [],
   "source": [
    "# Create multiple ratings for each movie\n",
    "expanded_data = []\n",
    "for _, row in data.iterrows():\n",
    "    num_ratings = np.random.randint(1, 51)  # Random number of ratings between 1 and 50\n",
    "    for _ in range(num_ratings):\n",
    "        new_row = row.copy()\n",
    "        new_row['userId'] = np.random.randint(1, 51)  # Random userId between 1 and 50\n",
    "        new_row['rating'] = max(1, min(5, np.random.normal(row['rating'], 0.5)))  # Add some noise to ratings\n",
    "        expanded_data.append(new_row)\n",
    "\n"
   ]
  },
  {
   "cell_type": "code",
   "execution_count": 14,
   "metadata": {},
   "outputs": [],
   "source": [
    "expanded_data = pd.DataFrame(expanded_data)"
   ]
  },
  {
   "cell_type": "code",
   "execution_count": 15,
   "metadata": {},
   "outputs": [],
   "source": [
    "# Remove duplicates\n",
    "expanded_data = expanded_data.drop_duplicates(subset=['title', 'userId'], keep='first')\n",
    "\n"
   ]
  },
  {
   "cell_type": "code",
   "execution_count": 16,
   "metadata": {},
   "outputs": [],
   "source": [
    "expanded_data = expanded_data.reset_index(drop=True)"
   ]
  },
  {
   "cell_type": "code",
   "execution_count": 17,
   "metadata": {},
   "outputs": [
    {
     "data": {
      "text/html": [
       "<div>\n",
       "<style scoped>\n",
       "    .dataframe tbody tr th:only-of-type {\n",
       "        vertical-align: middle;\n",
       "    }\n",
       "\n",
       "    .dataframe tbody tr th {\n",
       "        vertical-align: top;\n",
       "    }\n",
       "\n",
       "    .dataframe thead th {\n",
       "        text-align: right;\n",
       "    }\n",
       "</style>\n",
       "<table border=\"1\" class=\"dataframe\">\n",
       "  <thead>\n",
       "    <tr style=\"text-align: right;\">\n",
       "      <th></th>\n",
       "      <th>movieId</th>\n",
       "      <th>title</th>\n",
       "      <th>userId</th>\n",
       "      <th>rating</th>\n",
       "    </tr>\n",
       "  </thead>\n",
       "  <tbody>\n",
       "    <tr>\n",
       "      <th>0</th>\n",
       "      <td>tt8291224</td>\n",
       "      <td>Uri: The Surgical Strike</td>\n",
       "      <td>8</td>\n",
       "      <td>4.185922</td>\n",
       "    </tr>\n",
       "    <tr>\n",
       "      <th>1</th>\n",
       "      <td>tt8291224</td>\n",
       "      <td>Uri: The Surgical Strike</td>\n",
       "      <td>37</td>\n",
       "      <td>3.685209</td>\n",
       "    </tr>\n",
       "    <tr>\n",
       "      <th>2</th>\n",
       "      <td>tt8291224</td>\n",
       "      <td>Uri: The Surgical Strike</td>\n",
       "      <td>38</td>\n",
       "      <td>3.498176</td>\n",
       "    </tr>\n",
       "    <tr>\n",
       "      <th>3</th>\n",
       "      <td>tt8291224</td>\n",
       "      <td>Uri: The Surgical Strike</td>\n",
       "      <td>33</td>\n",
       "      <td>4.283404</td>\n",
       "    </tr>\n",
       "    <tr>\n",
       "      <th>4</th>\n",
       "      <td>tt8291224</td>\n",
       "      <td>Uri: The Surgical Strike</td>\n",
       "      <td>34</td>\n",
       "      <td>3.697042</td>\n",
       "    </tr>\n",
       "    <tr>\n",
       "      <th>5</th>\n",
       "      <td>tt8291224</td>\n",
       "      <td>Uri: The Surgical Strike</td>\n",
       "      <td>50</td>\n",
       "      <td>5.000000</td>\n",
       "    </tr>\n",
       "    <tr>\n",
       "      <th>6</th>\n",
       "      <td>tt8291224</td>\n",
       "      <td>Uri: The Surgical Strike</td>\n",
       "      <td>20</td>\n",
       "      <td>4.191231</td>\n",
       "    </tr>\n",
       "    <tr>\n",
       "      <th>7</th>\n",
       "      <td>tt8291224</td>\n",
       "      <td>Uri: The Surgical Strike</td>\n",
       "      <td>22</td>\n",
       "      <td>3.817965</td>\n",
       "    </tr>\n",
       "    <tr>\n",
       "      <th>8</th>\n",
       "      <td>tt8291224</td>\n",
       "      <td>Uri: The Surgical Strike</td>\n",
       "      <td>25</td>\n",
       "      <td>4.366025</td>\n",
       "    </tr>\n",
       "    <tr>\n",
       "      <th>9</th>\n",
       "      <td>tt8291224</td>\n",
       "      <td>Uri: The Surgical Strike</td>\n",
       "      <td>11</td>\n",
       "      <td>4.965738</td>\n",
       "    </tr>\n",
       "  </tbody>\n",
       "</table>\n",
       "</div>"
      ],
      "text/plain": [
       "     movieId                     title  userId    rating\n",
       "0  tt8291224  Uri: The Surgical Strike       8  4.185922\n",
       "1  tt8291224  Uri: The Surgical Strike      37  3.685209\n",
       "2  tt8291224  Uri: The Surgical Strike      38  3.498176\n",
       "3  tt8291224  Uri: The Surgical Strike      33  4.283404\n",
       "4  tt8291224  Uri: The Surgical Strike      34  3.697042\n",
       "5  tt8291224  Uri: The Surgical Strike      50  5.000000\n",
       "6  tt8291224  Uri: The Surgical Strike      20  4.191231\n",
       "7  tt8291224  Uri: The Surgical Strike      22  3.817965\n",
       "8  tt8291224  Uri: The Surgical Strike      25  4.366025\n",
       "9  tt8291224  Uri: The Surgical Strike      11  4.965738"
      ]
     },
     "execution_count": 17,
     "metadata": {},
     "output_type": "execute_result"
    }
   ],
   "source": [
    "expanded_data.head(10)"
   ]
  },
  {
   "cell_type": "code",
   "execution_count": 18,
   "metadata": {},
   "outputs": [
    {
     "name": "stdout",
     "output_type": "stream",
     "text": [
      "Num. of Users: 50\n",
      "Num of Movies: 4271\n"
     ]
    }
   ],
   "source": [
    "n_users = expanded_data['userId'].nunique()\n",
    "n_items = expanded_data['movieId'].nunique()\n",
    "\n",
    "print('Num. of Users: ' + str(n_users))\n",
    "print('Num of Movies: ' + str(n_items))"
   ]
  },
  {
   "cell_type": "code",
   "execution_count": 34,
   "metadata": {},
   "outputs": [],
   "source": [
    "# Calculate average rating and count for each movie\n",
    "movie_stats = expanded_data.groupby('title').agg({\n",
    "    'rating': ['mean', 'count']\n",
    "}).reset_index()\n",
    "movie_stats.columns = ['title', 'avg_rating', 'rating_count']\n"
   ]
  },
  {
   "cell_type": "code",
   "execution_count": 35,
   "metadata": {},
   "outputs": [],
   "source": [
    "# Function to assign weighted total rating count\n",
    "def assign_weighted_count(row):\n",
    "    base_count = row['rating_count']\n",
    "    if row['avg_rating'] > 4:\n",
    "        return int(base_count * 2)  # Double the count for high-rated movies\n",
    "    elif row['avg_rating'] > 3:\n",
    "        return int(base_count * 1.5)  # 1.5 times the count for above-average movies\n",
    "    else:\n",
    "        return base_count"
   ]
  },
  {
   "cell_type": "code",
   "execution_count": 36,
   "metadata": {},
   "outputs": [],
   "source": [
    "# Apply the weighting\n",
    "movie_stats['total rating count'] = movie_stats.apply(assign_weighted_count, axis=1)"
   ]
  },
  {
   "cell_type": "code",
   "execution_count": 37,
   "metadata": {},
   "outputs": [],
   "source": [
    "# Sort by total rating count to see the effect\n",
    "movie_stats = movie_stats.sort_values('total rating count', ascending=False)"
   ]
  },
  {
   "cell_type": "code",
   "execution_count": 38,
   "metadata": {},
   "outputs": [],
   "source": [
    "unique_movies = expanded_data.groupby('title').agg({\n",
    "    'movieId': 'first',\n",
    "    'rating': 'mean',\n",
    "    'userId': 'first'\n",
    "}).reset_index()"
   ]
  },
  {
   "cell_type": "code",
   "execution_count": 39,
   "metadata": {},
   "outputs": [
    {
     "name": "stdout",
     "output_type": "stream",
     "text": [
      "Movies with weighted total rating counts:\n",
      "                               title  avg_rating  rating_count  \\\n",
      "752               Boot Polish (film)    4.103442            44   \n",
      "2528                       Madhumati    4.094645            34   \n",
      "353                     Ankur (film)    4.198651            34   \n",
      "2906           Naya Daur (1957 film)    4.121771            33   \n",
      "1632            Haqeeqat (1964 film)    4.002950            33   \n",
      "2507                         Maachis    4.021314            33   \n",
      "3023                         Papeeha    4.037885            33   \n",
      "3891                    Teesri Kasam    4.038889            32   \n",
      "4162  Yadvi – The Dignified Princess    4.148398            32   \n",
      "3316                   Ram Aur Shyam    3.674559            42   \n",
      "\n",
      "      total rating count  \n",
      "752                   88  \n",
      "2528                  68  \n",
      "353                   68  \n",
      "2906                  66  \n",
      "1632                  66  \n",
      "2507                  66  \n",
      "3023                  66  \n",
      "3891                  64  \n",
      "4162                  64  \n",
      "3316                  63  \n"
     ]
    }
   ],
   "source": [
    "print(\"Movies with weighted total rating counts:\")\n",
    "print(movie_stats.head(10))"
   ]
  },
  {
   "cell_type": "code",
   "execution_count": 40,
   "metadata": {},
   "outputs": [],
   "source": [
    "# Use this new DataFrame for further processing\n",
    "rating_with_totalRatingCount = movie_stats.rename(columns={'avg_rating': 'rating'})"
   ]
  },
  {
   "cell_type": "code",
   "execution_count": 21,
   "metadata": {},
   "outputs": [
    {
     "data": {
      "text/html": [
       "<div>\n",
       "<style scoped>\n",
       "    .dataframe tbody tr th:only-of-type {\n",
       "        vertical-align: middle;\n",
       "    }\n",
       "\n",
       "    .dataframe tbody tr th {\n",
       "        vertical-align: top;\n",
       "    }\n",
       "\n",
       "    .dataframe thead th {\n",
       "        text-align: right;\n",
       "    }\n",
       "</style>\n",
       "<table border=\"1\" class=\"dataframe\">\n",
       "  <thead>\n",
       "    <tr style=\"text-align: right;\">\n",
       "      <th></th>\n",
       "      <th>title</th>\n",
       "      <th>movieId</th>\n",
       "      <th>rating</th>\n",
       "      <th>userId</th>\n",
       "      <th>total rating count</th>\n",
       "    </tr>\n",
       "  </thead>\n",
       "  <tbody>\n",
       "    <tr>\n",
       "      <th>0</th>\n",
       "      <td>100 Days (1991 film)</td>\n",
       "      <td>tt0101244</td>\n",
       "      <td>3.284142</td>\n",
       "      <td>4</td>\n",
       "      <td>24</td>\n",
       "    </tr>\n",
       "    <tr>\n",
       "      <th>1</th>\n",
       "      <td>12 O'Clock (film)</td>\n",
       "      <td>tt0051335</td>\n",
       "      <td>3.571511</td>\n",
       "      <td>45</td>\n",
       "      <td>19</td>\n",
       "    </tr>\n",
       "    <tr>\n",
       "      <th>2</th>\n",
       "      <td>16 December (film)</td>\n",
       "      <td>tt0313844</td>\n",
       "      <td>3.413339</td>\n",
       "      <td>17</td>\n",
       "      <td>27</td>\n",
       "    </tr>\n",
       "    <tr>\n",
       "      <th>3</th>\n",
       "      <td>1920 (film)</td>\n",
       "      <td>tt1301698</td>\n",
       "      <td>2.946845</td>\n",
       "      <td>3</td>\n",
       "      <td>10</td>\n",
       "    </tr>\n",
       "    <tr>\n",
       "      <th>4</th>\n",
       "      <td>1920: London</td>\n",
       "      <td>tt5638500</td>\n",
       "      <td>2.120325</td>\n",
       "      <td>23</td>\n",
       "      <td>20</td>\n",
       "    </tr>\n",
       "  </tbody>\n",
       "</table>\n",
       "</div>"
      ],
      "text/plain": [
       "                  title    movieId    rating  userId  total rating count\n",
       "0  100 Days (1991 film)  tt0101244  3.284142       4                  24\n",
       "1     12 O'Clock (film)  tt0051335  3.571511      45                  19\n",
       "2    16 December (film)  tt0313844  3.413339      17                  27\n",
       "3           1920 (film)  tt1301698  2.946845       3                  10\n",
       "4          1920: London  tt5638500  2.120325      23                  20"
      ]
     },
     "execution_count": 21,
     "metadata": {},
     "output_type": "execute_result"
    }
   ],
   "source": [
    "# # Merge rating counts with original data\n",
    "# rating_with_totalRatingCount = pd.merge(unique_movies, movie_rating_count, on='title')\n",
    "# rating_with_totalRatingCount.head()"
   ]
  },
  {
   "cell_type": "code",
   "execution_count": 41,
   "metadata": {},
   "outputs": [],
   "source": [
    "# Filter popular movies (those with more than 5 ratings)\n",
    "rating_popular_movie = rating_with_totalRatingCount[rating_with_totalRatingCount['total rating count'] > 5]\n",
    "rating_popular_movie = rating_popular_movie.reset_index(drop=True)"
   ]
  },
  {
   "cell_type": "code",
   "execution_count": 42,
   "metadata": {},
   "outputs": [
    {
     "name": "stdout",
     "output_type": "stream",
     "text": [
      "\n",
      "Popular movies (more than 5 ratings):\n",
      "                            title    rating  rating_count  total rating count\n",
      "0              Boot Polish (film)  4.103442            44                  88\n",
      "1                       Madhumati  4.094645            34                  68\n",
      "2                    Ankur (film)  4.198651            34                  68\n",
      "3           Naya Daur (1957 film)  4.121771            33                  66\n",
      "4            Haqeeqat (1964 film)  4.002950            33                  66\n",
      "5                         Maachis  4.021314            33                  66\n",
      "6                         Papeeha  4.037885            33                  66\n",
      "7                    Teesri Kasam  4.038889            32                  64\n",
      "8  Yadvi – The Dignified Princess  4.148398            32                  64\n",
      "9                   Ram Aur Shyam  3.674559            42                  63\n"
     ]
    }
   ],
   "source": [
    "print(\"\\nPopular movies (more than 5 ratings):\")\n",
    "print(rating_popular_movie.head(10))"
   ]
  },
  {
   "cell_type": "code",
   "execution_count": 43,
   "metadata": {},
   "outputs": [
    {
     "data": {
      "text/html": [
       "<div>\n",
       "<style scoped>\n",
       "    .dataframe tbody tr th:only-of-type {\n",
       "        vertical-align: middle;\n",
       "    }\n",
       "\n",
       "    .dataframe tbody tr th {\n",
       "        vertical-align: top;\n",
       "    }\n",
       "\n",
       "    .dataframe thead th {\n",
       "        text-align: right;\n",
       "    }\n",
       "</style>\n",
       "<table border=\"1\" class=\"dataframe\">\n",
       "  <thead>\n",
       "    <tr style=\"text-align: right;\">\n",
       "      <th>title</th>\n",
       "      <th>100 Days (1991 film)</th>\n",
       "      <th>12 O'Clock (film)</th>\n",
       "      <th>16 December (film)</th>\n",
       "      <th>1920 (film)</th>\n",
       "      <th>1920: London</th>\n",
       "      <th>1920: The Evil Returns</th>\n",
       "      <th>1942: A Love Story</th>\n",
       "      <th>1971 (2007 film)</th>\n",
       "      <th>2 States (2014 film)</th>\n",
       "      <th>2001: Do Hazaar Ek</th>\n",
       "      <th>...</th>\n",
       "      <th>Zor (film)</th>\n",
       "      <th>Zor Lagaa Ke...Haiya!</th>\n",
       "      <th>Zordaar</th>\n",
       "      <th>Zorro (1975 Hindi film)</th>\n",
       "      <th>Zubeidaa</th>\n",
       "      <th>Zulm Ka Badla</th>\n",
       "      <th>Zulm Ki Hukumat</th>\n",
       "      <th>Zulm Ko Jala Doonga</th>\n",
       "      <th>Zulm-O-Sitam</th>\n",
       "      <th>Zulmi</th>\n",
       "    </tr>\n",
       "    <tr>\n",
       "      <th>userId</th>\n",
       "      <th></th>\n",
       "      <th></th>\n",
       "      <th></th>\n",
       "      <th></th>\n",
       "      <th></th>\n",
       "      <th></th>\n",
       "      <th></th>\n",
       "      <th></th>\n",
       "      <th></th>\n",
       "      <th></th>\n",
       "      <th></th>\n",
       "      <th></th>\n",
       "      <th></th>\n",
       "      <th></th>\n",
       "      <th></th>\n",
       "      <th></th>\n",
       "      <th></th>\n",
       "      <th></th>\n",
       "      <th></th>\n",
       "      <th></th>\n",
       "      <th></th>\n",
       "    </tr>\n",
       "  </thead>\n",
       "  <tbody>\n",
       "    <tr>\n",
       "      <th>1</th>\n",
       "      <td>0.000000</td>\n",
       "      <td>0.000000</td>\n",
       "      <td>3.080585</td>\n",
       "      <td>2.637771</td>\n",
       "      <td>0.000000</td>\n",
       "      <td>0.000000</td>\n",
       "      <td>3.873431</td>\n",
       "      <td>0.000000</td>\n",
       "      <td>0.000000</td>\n",
       "      <td>1.480551</td>\n",
       "      <td>...</td>\n",
       "      <td>0.000000</td>\n",
       "      <td>2.875287</td>\n",
       "      <td>0.000000</td>\n",
       "      <td>0.000000</td>\n",
       "      <td>0.000000</td>\n",
       "      <td>0.000000</td>\n",
       "      <td>2.686888</td>\n",
       "      <td>3.342697</td>\n",
       "      <td>0.0</td>\n",
       "      <td>0.000000</td>\n",
       "    </tr>\n",
       "    <tr>\n",
       "      <th>2</th>\n",
       "      <td>0.000000</td>\n",
       "      <td>0.000000</td>\n",
       "      <td>0.000000</td>\n",
       "      <td>0.000000</td>\n",
       "      <td>0.000000</td>\n",
       "      <td>0.000000</td>\n",
       "      <td>0.000000</td>\n",
       "      <td>0.000000</td>\n",
       "      <td>0.000000</td>\n",
       "      <td>0.000000</td>\n",
       "      <td>...</td>\n",
       "      <td>1.639317</td>\n",
       "      <td>0.000000</td>\n",
       "      <td>3.475559</td>\n",
       "      <td>2.473143</td>\n",
       "      <td>3.126932</td>\n",
       "      <td>0.000000</td>\n",
       "      <td>2.886994</td>\n",
       "      <td>2.679747</td>\n",
       "      <td>0.0</td>\n",
       "      <td>1.987898</td>\n",
       "    </tr>\n",
       "    <tr>\n",
       "      <th>3</th>\n",
       "      <td>0.000000</td>\n",
       "      <td>0.000000</td>\n",
       "      <td>4.370580</td>\n",
       "      <td>4.090513</td>\n",
       "      <td>0.000000</td>\n",
       "      <td>0.000000</td>\n",
       "      <td>4.190280</td>\n",
       "      <td>0.000000</td>\n",
       "      <td>3.428594</td>\n",
       "      <td>1.684478</td>\n",
       "      <td>...</td>\n",
       "      <td>0.000000</td>\n",
       "      <td>3.490570</td>\n",
       "      <td>0.000000</td>\n",
       "      <td>2.572178</td>\n",
       "      <td>0.000000</td>\n",
       "      <td>3.212858</td>\n",
       "      <td>0.000000</td>\n",
       "      <td>0.000000</td>\n",
       "      <td>0.0</td>\n",
       "      <td>0.000000</td>\n",
       "    </tr>\n",
       "    <tr>\n",
       "      <th>4</th>\n",
       "      <td>2.942143</td>\n",
       "      <td>3.304911</td>\n",
       "      <td>3.630422</td>\n",
       "      <td>2.450304</td>\n",
       "      <td>0.000000</td>\n",
       "      <td>2.513256</td>\n",
       "      <td>0.000000</td>\n",
       "      <td>0.000000</td>\n",
       "      <td>3.164361</td>\n",
       "      <td>0.000000</td>\n",
       "      <td>...</td>\n",
       "      <td>0.000000</td>\n",
       "      <td>3.808811</td>\n",
       "      <td>0.000000</td>\n",
       "      <td>3.010118</td>\n",
       "      <td>0.000000</td>\n",
       "      <td>0.000000</td>\n",
       "      <td>2.734670</td>\n",
       "      <td>0.000000</td>\n",
       "      <td>0.0</td>\n",
       "      <td>0.000000</td>\n",
       "    </tr>\n",
       "    <tr>\n",
       "      <th>5</th>\n",
       "      <td>0.000000</td>\n",
       "      <td>0.000000</td>\n",
       "      <td>0.000000</td>\n",
       "      <td>0.000000</td>\n",
       "      <td>2.275878</td>\n",
       "      <td>1.945354</td>\n",
       "      <td>3.186275</td>\n",
       "      <td>3.772936</td>\n",
       "      <td>0.000000</td>\n",
       "      <td>0.000000</td>\n",
       "      <td>...</td>\n",
       "      <td>2.809383</td>\n",
       "      <td>0.000000</td>\n",
       "      <td>0.000000</td>\n",
       "      <td>0.000000</td>\n",
       "      <td>0.000000</td>\n",
       "      <td>0.000000</td>\n",
       "      <td>3.576435</td>\n",
       "      <td>3.133307</td>\n",
       "      <td>0.0</td>\n",
       "      <td>0.000000</td>\n",
       "    </tr>\n",
       "  </tbody>\n",
       "</table>\n",
       "<p>5 rows × 4275 columns</p>\n",
       "</div>"
      ],
      "text/plain": [
       "title   100 Days (1991 film)  12 O'Clock (film)  16 December (film)  \\\n",
       "userId                                                                \n",
       "1                   0.000000           0.000000            3.080585   \n",
       "2                   0.000000           0.000000            0.000000   \n",
       "3                   0.000000           0.000000            4.370580   \n",
       "4                   2.942143           3.304911            3.630422   \n",
       "5                   0.000000           0.000000            0.000000   \n",
       "\n",
       "title   1920 (film)  1920: London  1920: The Evil Returns  1942: A Love Story  \\\n",
       "userId                                                                          \n",
       "1          2.637771      0.000000                0.000000            3.873431   \n",
       "2          0.000000      0.000000                0.000000            0.000000   \n",
       "3          4.090513      0.000000                0.000000            4.190280   \n",
       "4          2.450304      0.000000                2.513256            0.000000   \n",
       "5          0.000000      2.275878                1.945354            3.186275   \n",
       "\n",
       "title   1971 (2007 film)  2 States (2014 film)  2001: Do Hazaar Ek  ...  \\\n",
       "userId                                                              ...   \n",
       "1               0.000000              0.000000            1.480551  ...   \n",
       "2               0.000000              0.000000            0.000000  ...   \n",
       "3               0.000000              3.428594            1.684478  ...   \n",
       "4               0.000000              3.164361            0.000000  ...   \n",
       "5               3.772936              0.000000            0.000000  ...   \n",
       "\n",
       "title   Zor (film)  Zor Lagaa Ke...Haiya!   Zordaar  Zorro (1975 Hindi film)  \\\n",
       "userId                                                                         \n",
       "1         0.000000               2.875287  0.000000                 0.000000   \n",
       "2         1.639317               0.000000  3.475559                 2.473143   \n",
       "3         0.000000               3.490570  0.000000                 2.572178   \n",
       "4         0.000000               3.808811  0.000000                 3.010118   \n",
       "5         2.809383               0.000000  0.000000                 0.000000   \n",
       "\n",
       "title   Zubeidaa  Zulm Ka Badla  Zulm Ki Hukumat  Zulm Ko Jala Doonga  \\\n",
       "userId                                                                  \n",
       "1       0.000000       0.000000         2.686888             3.342697   \n",
       "2       3.126932       0.000000         2.886994             2.679747   \n",
       "3       0.000000       3.212858         0.000000             0.000000   \n",
       "4       0.000000       0.000000         2.734670             0.000000   \n",
       "5       0.000000       0.000000         3.576435             3.133307   \n",
       "\n",
       "title   Zulm-O-Sitam     Zulmi  \n",
       "userId                          \n",
       "1                0.0  0.000000  \n",
       "2                0.0  1.987898  \n",
       "3                0.0  0.000000  \n",
       "4                0.0  0.000000  \n",
       "5                0.0  0.000000  \n",
       "\n",
       "[5 rows x 4275 columns]"
      ]
     },
     "execution_count": 43,
     "metadata": {},
     "output_type": "execute_result"
    }
   ],
   "source": [
    "\n",
    "# Create pivot table\n",
    "\n",
    "movie_feature_df = expanded_data.pivot_table(index='userId', columns='title', values='rating').fillna(0)\n",
    "movie_feature_df.head()"
   ]
  },
  {
   "cell_type": "code",
   "execution_count": 44,
   "metadata": {},
   "outputs": [
    {
     "name": "stdout",
     "output_type": "stream",
     "text": [
      "'3 Idiots' in original data:\n",
      "       movieId     title  userId  rating\n",
      "916  tt1187043  3 Idiots      17     4.2\n"
     ]
    }
   ],
   "source": [
    "print(\"'3 Idiots' in original data:\")\n",
    "print(data[data['title'].str.contains('3 Idiots', case=False, na=False)])"
   ]
  },
  {
   "cell_type": "code",
   "execution_count": 45,
   "metadata": {},
   "outputs": [
    {
     "name": "stdout",
     "output_type": "stream",
     "text": [
      "\n",
      "'3 Idiots' in expanded data:\n",
      "         movieId     title  userId    rating\n",
      "16753  tt1187043  3 Idiots      21  3.389850\n",
      "16754  tt1187043  3 Idiots      26  3.663070\n",
      "16755  tt1187043  3 Idiots      27  3.195059\n",
      "16756  tt1187043  3 Idiots      45  3.614836\n",
      "16757  tt1187043  3 Idiots       1  4.229148\n"
     ]
    }
   ],
   "source": [
    "print(\"\\n'3 Idiots' in expanded data:\")\n",
    "print(expanded_data[expanded_data['title'].str.contains('3 Idiots', case=False, na=False)].head())"
   ]
  },
  {
   "cell_type": "code",
   "execution_count": 46,
   "metadata": {},
   "outputs": [
    {
     "name": "stdout",
     "output_type": "stream",
     "text": [
      "\n",
      "'3 Idiots' in unique movies:\n",
      "       title    movieId    rating  userId\n",
      "16  3 Idiots  tt1187043  4.034383      21\n"
     ]
    }
   ],
   "source": [
    "print(\"\\n'3 Idiots' in unique movies:\")\n",
    "print(unique_movies[unique_movies['title'].str.contains('3 Idiots', case=False, na=False)])"
   ]
  },
  {
   "cell_type": "code",
   "execution_count": 47,
   "metadata": {},
   "outputs": [
    {
     "name": "stdout",
     "output_type": "stream",
     "text": [
      "\n",
      "'3 Idiots' in popular movies:\n",
      "       title    rating  rating_count  total rating count\n",
      "45  3 Idiots  4.034383            27                  54\n"
     ]
    }
   ],
   "source": [
    "print(\"\\n'3 Idiots' in popular movies:\")\n",
    "print(rating_popular_movie[rating_popular_movie['title'].str.contains('3 Idiots', case=False, na=False)])"
   ]
  },
  {
   "cell_type": "code",
   "execution_count": 48,
   "metadata": {},
   "outputs": [],
   "source": [
    "# Calculate user similarity\n",
    "user_similarity = movie_feature_df.corr()"
   ]
  },
  {
   "cell_type": "code",
   "execution_count": 50,
   "metadata": {},
   "outputs": [],
   "source": [
    "#Function that takes in movie title and ratings as input and outputs most similar movies\n",
    "def get_recommendation(movie_name, rating, n=10):\n",
    "    if movie_name not in user_similarity.columns:\n",
    "        print(f\"'{movie_name}' not found in the dataset. Here are some popular movies instead:\")\n",
    "        return rating_popular_movie.head(n)\n",
    "    \n",
    "    similar_score = user_similarity[movie_name] * (rating - 2.5)\n",
    "    similar_score = similar_score.sort_values(ascending=False)\n",
    "    \n",
    "    # Get the titles of the top n movies\n",
    "    top_movies = similar_score.head(n).index.tolist()\n",
    "    \n",
    "    # Return the details of these movies from rating_popular_movie\n",
    "    return rating_popular_movie[rating_popular_movie['title'].isin(top_movies)].sort_values('total rating count', ascending=False)\n"
   ]
  },
  {
   "cell_type": "code",
   "execution_count": 51,
   "metadata": {},
   "outputs": [],
   "source": [
    "# Calculate item similarity\n",
    "item_similarity = cosine_similarity(movie_feature_df.T)\n",
    "item_similarity_df = pd.DataFrame(item_similarity, index=movie_feature_df.columns, columns=movie_feature_df.columns)\n"
   ]
  },
  {
   "cell_type": "code",
   "execution_count": 52,
   "metadata": {},
   "outputs": [],
   "source": [
    "def get_recommendation2(movie_name, rating, n=10):\n",
    "    if movie_name not in item_similarity_df.columns:\n",
    "        print(f\"'{movie_name}' not found in the dataset. Here are some popular movies instead:\")\n",
    "        return rating_popular_movie.head(n)\n",
    "    \n",
    "    similar_score = item_similarity_df[movie_name] * (rating - 2.5)\n",
    "    similar_score = similar_score.sort_values(ascending=False)\n",
    "    \n",
    "    # Get the titles of the top n movies\n",
    "    top_movies = similar_score.head(n).index.tolist()\n",
    "    \n",
    "    # Return the details of these movies from rating_popular_movie\n",
    "    return rating_popular_movie[rating_popular_movie['title'].isin(top_movies)].sort_values('total rating count', ascending=False)"
   ]
  },
  {
   "cell_type": "code",
   "execution_count": 54,
   "metadata": {},
   "outputs": [
    {
     "name": "stdout",
     "output_type": "stream",
     "text": [
      "\n",
      "User-based recommendation:\n",
      "                                title    rating  rating_count  \\\n",
      "29                         Special 26  4.128865            28   \n",
      "45                           3 Idiots  4.034383            27   \n",
      "261                  Pasand Apni Apni  3.578999            30   \n",
      "436                          Namumkin  3.249016            28   \n",
      "758               Haathon Ki Lakeeren  3.852506            25   \n",
      "900                            Firaaq  3.715674            23   \n",
      "2231              Isi Ka Naam Zindagi  2.933237            23   \n",
      "2299  Shirin Farhad Ki Toh Nikal Padi  2.078907            22   \n",
      "3102              Jaanwar (1982 film)  3.487388            10   \n",
      "3272              Dillagi (1978 film)  3.680367             9   \n",
      "\n",
      "      total rating count  \n",
      "29                    56  \n",
      "45                    54  \n",
      "261                   45  \n",
      "436                   42  \n",
      "758                   37  \n",
      "900                   34  \n",
      "2231                  23  \n",
      "2299                  22  \n",
      "3102                  15  \n",
      "3272                  13  \n"
     ]
    }
   ],
   "source": [
    "#Now lets make predictions\n",
    "print(\"\\nUser-based recommendation:\")\n",
    "print(get_recommendation('3 Idiots', 4))\n"
   ]
  },
  {
   "cell_type": "code",
   "execution_count": null,
   "metadata": {},
   "outputs": [],
   "source": []
  },
  {
   "cell_type": "code",
   "execution_count": 55,
   "metadata": {},
   "outputs": [
    {
     "name": "stdout",
     "output_type": "stream",
     "text": [
      "\n",
      "Item-based recommendation:\n",
      "                                title    rating  rating_count  \\\n",
      "29                         Special 26  4.128865            28   \n",
      "45                           3 Idiots  4.034383            27   \n",
      "103                Hariyali Aur Rasta  3.496685            33   \n",
      "261                  Pasand Apni Apni  3.578999            30   \n",
      "418                 Yeh Khula Aasmaan  3.415319            28   \n",
      "436                          Namumkin  3.249016            28   \n",
      "743      Not a Love Story (2011 film)  2.416106            37   \n",
      "758               Haathon Ki Lakeeren  3.852506            25   \n",
      "1797                           Zaalim  2.627291            27   \n",
      "2299  Shirin Farhad Ki Toh Nikal Padi  2.078907            22   \n",
      "\n",
      "      total rating count  \n",
      "29                    56  \n",
      "45                    54  \n",
      "103                   49  \n",
      "261                   45  \n",
      "418                   42  \n",
      "436                   42  \n",
      "743                   37  \n",
      "758                   37  \n",
      "1797                  27  \n",
      "2299                  22  \n"
     ]
    }
   ],
   "source": [
    "print(\"\\nItem-based recommendation:\")\n",
    "print(get_recommendation2('3 Idiots', 4))"
   ]
  },
  {
   "cell_type": "code",
   "execution_count": 56,
   "metadata": {},
   "outputs": [
    {
     "name": "stdout",
     "output_type": "stream",
     "text": [
      "\n",
      "Trying with the first movie in the dataset:\n",
      "User-based recommendation for 'Boot Polish (film)':\n",
      "                         title    rating  rating_count  total rating count\n",
      "0           Boot Polish (film)  4.103442            44                  88\n",
      "20                      Anpadh  3.584421            40                  60\n",
      "55    Loins of Punjab Presents  3.431514            35                  52\n",
      "433      Sahib Bibi Aur Ghulam  4.144510            21                  42\n",
      "454              Bhavna (film)  3.804915            28                  42\n",
      "1114            Sa-Re-Ga-Ma-Pa  2.284482            32                  32\n",
      "1281                 Geraftaar  2.883137            31                  31\n",
      "1312      Hum Dono (1995 film)  2.935994            30                  30\n",
      "1486     Salaakhen (1998 film)  2.677452            29                  29\n",
      "2420           Sant Gyaneshwar  3.954932            14                  21\n",
      "\n",
      "Item-based recommendation for 'Boot Polish (film)':\n",
      "                        title    rating  rating_count  total rating count\n",
      "0          Boot Polish (film)  4.103442            44                  88\n",
      "9               Ram Aur Shyam  3.674559            42                  63\n",
      "10              Ghulam (film)  3.581435            42                  63\n",
      "11                Jewel Thief  3.917574            42                  63\n",
      "18        Sasural (1961 film)  3.120417            40                  60\n",
      "19        Mirza Ghalib (film)  3.766462            40                  60\n",
      "20                     Anpadh  3.584421            40                  60\n",
      "55   Loins of Punjab Presents  3.431514            35                  52\n",
      "75               Main Hoon Na  3.446360            34                  51\n",
      "939         Jeene Nahi Doonga  2.772563            34                  34\n"
     ]
    }
   ],
   "source": [
    "# If '3 Idiots' is not in the dataset, let's try with a movie that is definitely in the dataset\n",
    "print(\"\\nTrying with the first movie in the dataset:\")\n",
    "first_movie = rating_popular_movie['title'].iloc[0]\n",
    "print(f\"User-based recommendation for '{first_movie}':\")\n",
    "print(get_recommendation(first_movie, 4))\n",
    "\n",
    "print(f\"\\nItem-based recommendation for '{first_movie}':\")\n",
    "print(get_recommendation2(first_movie, 4))"
   ]
  },
  {
   "cell_type": "code",
   "execution_count": 57,
   "metadata": {},
   "outputs": [],
   "source": [
    "user_similarity.to_pickle('user_similarity_hindi_new.pkl')"
   ]
  },
  {
   "cell_type": "code",
   "execution_count": 58,
   "metadata": {},
   "outputs": [],
   "source": [
    "item_similarity_df.to_pickle('item_similarity_df_hindi_new.pkl')"
   ]
  },
  {
   "cell_type": "code",
   "execution_count": 59,
   "metadata": {},
   "outputs": [],
   "source": [
    "# Create functions to load the models:\n",
    "\n",
    "def load_preprocessed_data():\n",
    "    return pd.read_csv('preprocessed_movies_hindi_new.csv')\n",
    "\n",
    "def load_popular_movies():\n",
    "    return pd.read_csv('top_10_popular_movies_hindi_new.csv')\n",
    "\n",
    "def load_content_based_data():\n",
    "    final_df = pd.read_csv('final_movies_hindi_new.csv')\n",
    "    cosine_sim = np.load('cosine_sim_new.npy')\n",
    "    return final_df, cosine_sim\n",
    "\n",
    "def load_collaborative_data():\n",
    "    user_similarity = pd.read_pickle('user_similarity_hindi_new.pkl')\n",
    "    item_similarity_df = pd.read_pickle('item_similarity_df_hindi_new.pkl')\n",
    "    return user_similarity, item_similarity_df"
   ]
  },
  {
   "cell_type": "code",
   "execution_count": 60,
   "metadata": {},
   "outputs": [],
   "source": [
    "# Modify your recommendation functions to use the loaded data:\n",
    "def get_recommendation_content_based(title, final_df, cosine_sim):\n",
    "    title = title.lower()\n",
    "    title = get_close_matches(title, final_df['Title'].values, n=3, cutoff=0.6)[0]\n",
    "    idx = final_df['Title'][final_df['Title'] == title].index[0]\n",
    "    sim_scores = list(enumerate(cosine_sim[idx]))\n",
    "    sim_scores = sorted(sim_scores, key=lambda x: x[1], reverse=True)\n",
    "    sim_scores = sim_scores[1:16]\n",
    "    return [final_df['Title'].iloc[i[0]] for i in sim_scores]\n",
    "\n",
    "def get_recommendation_collaborative(movie_name, ratings, similarity_df):\n",
    "    similar_score = similarity_df[movie_name] * (ratings - 2.5)\n",
    "    similar_score = similar_score.sort_values(ascending=False)\n",
    "    return similar_score"
   ]
  }
 ],
 "metadata": {
  "kernelspec": {
   "display_name": "Python 3",
   "language": "python",
   "name": "python3"
  },
  "language_info": {
   "codemirror_mode": {
    "name": "ipython",
    "version": 3
   },
   "file_extension": ".py",
   "mimetype": "text/x-python",
   "name": "python",
   "nbconvert_exporter": "python",
   "pygments_lexer": "ipython3",
   "version": "3.12.3"
  }
 },
 "nbformat": 4,
 "nbformat_minor": 2
}
